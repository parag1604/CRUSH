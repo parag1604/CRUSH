{
 "cells": [
  {
   "cell_type": "code",
   "execution_count": 1,
   "id": "967e9e55",
   "metadata": {},
   "outputs": [],
   "source": [
    "import os\n",
    "import numpy as np\n",
    "import pandas as pd\n",
    "import pickle\n",
    "import matplotlib.pyplot as plt\n",
    "from tqdm import tqdm\n",
    "from sklearn.decomposition import PCA"
   ]
  },
  {
   "cell_type": "code",
   "execution_count": 2,
   "id": "2693a67f",
   "metadata": {},
   "outputs": [
    {
     "name": "stdout",
     "output_type": "stream",
     "text": [
      "total 8.3G\r\n",
      "-rw-r--r-- 1 btp-souvic btp-souvic  140M Aug 17 16:57 dict_user_postRepost.pklgz\r\n",
      "-rw-r--r-- 1 btp-souvic btp-souvic  7.0G Aug 17 16:59 Final_Posts.pkl\r\n",
      "-rw-r--r-- 1 btp-souvic btp-souvic  214M Aug 17 17:16 gabEdges1_5degree.pklgz\r\n",
      "-rw-r--r-- 1 btp-souvic btp-souvic  6.1K Aug 17 17:17 haters.json\r\n",
      "-rw-r--r-- 1 btp-souvic btp-souvic  5.2K Aug 17 17:18 nonhaters.json\r\n",
      "-rw-r--r-- 1 btp-souvic btp-souvic 1023M Aug 17 17:00 user_follower_following.json\r\n"
     ]
    }
   ],
   "source": [
    "root = '../sumegh/GabData/'\n",
    "! ls -lh '../sumegh/GabData/'"
   ]
  },
  {
   "cell_type": "code",
   "execution_count": 10,
   "id": "a6e4f78b",
   "metadata": {},
   "outputs": [],
   "source": [
    "posts = pickle.load(open(root+\"Final_posts.pkl\", \"rb\"))"
   ]
  },
  {
   "cell_type": "code",
   "execution_count": 4,
   "id": "bf278ee7",
   "metadata": {
    "scrolled": false
   },
   "outputs": [
    {
     "name": "stderr",
     "output_type": "stream",
     "text": [
      "100%|██████████| 21207961/21207961 [01:27<00:00, 241061.04it/s]\n"
     ]
    }
   ],
   "source": [
    "vectors = []\n",
    "for i, post in enumerate(tqdm(posts)):\n",
    "    t = posts[post]\n",
    "    vector = []\n",
    "    vec = [0] * 15\n",
    "    if t['category_value'] is not None:\n",
    "        vec[t['category_value'] - 1] += 1\n",
    "    vector.extend(vec)\n",
    "    vec = [0] * 15\n",
    "    if t['topic_category'] is not None:\n",
    "        vec[t['topic_category'] - 1] += 1\n",
    "    vector.extend(vec)\n",
    "    vectors.append(vector)\n",
    "vectors = np.array(vectors)\n",
    "vectors = PCA(n_components=6).fit_transform(vectors)"
   ]
  },
  {
   "cell_type": "code",
   "execution_count": 25,
   "id": "bf0d1eec",
   "metadata": {},
   "outputs": [
    {
     "name": "stderr",
     "output_type": "stream",
     "text": [
      "100%|██████████| 21207961/21207961 [10:44<00:00, 32889.53it/s] \n"
     ]
    }
   ],
   "source": [
    "extracted_posts = []\n",
    "col_names = ['id','ancestor_id','user_id','feature']\n",
    "for i, post in enumerate(tqdm(posts)):\n",
    "    t = posts[post]\n",
    "    vector = []\n",
    "    vector.append(t['score'])\n",
    "    vector.append(t['like_count'])\n",
    "    vector.append(t['dislike_count'])\n",
    "    vector.append(t['repost_count'])\n",
    "    vector.extend([round(x,4) for x in vectors[i]])\n",
    "    t2 = dict()\n",
    "    t2[col_names[0]] = post\n",
    "    t2[col_names[1]] = t['conversation_parent_id']\n",
    "    t2[col_names[2]] = t['userid']\n",
    "    t2[col_names[3]] = vector\n",
    "    extracted_posts.append(t2)\n",
    "df = pd.DataFrame(extracted_posts)"
   ]
  },
  {
   "cell_type": "code",
   "execution_count": 28,
   "id": "9dcc4bbd",
   "metadata": {},
   "outputs": [],
   "source": [
    "df.to_csv('extracted.csv', index=None)"
   ]
  }
 ],
 "metadata": {
  "kernelspec": {
   "display_name": "Python [conda env:.conda-py38] *",
   "language": "python",
   "name": "conda-env-.conda-py38-py"
  },
  "language_info": {
   "codemirror_mode": {
    "name": "ipython",
    "version": 3
   },
   "file_extension": ".py",
   "mimetype": "text/x-python",
   "name": "python",
   "nbconvert_exporter": "python",
   "pygments_lexer": "ipython3",
   "version": "3.8.5"
  }
 },
 "nbformat": 4,
 "nbformat_minor": 5
}
