{
 "cells": [
  {
   "cell_type": "code",
   "execution_count": 1,
   "id": "96a9387d",
   "metadata": {},
   "outputs": [],
   "source": [
    "import pandas as pd\n",
    "from sklearn.linear_model import LogisticRegression\n",
    "from sklearn.feature_extraction.text import TfidfVectorizer\n",
    "from sklearn.model_selection import train_test_split"
   ]
  },
  {
   "cell_type": "code",
   "execution_count": 2,
   "id": "4221171d",
   "metadata": {},
   "outputs": [],
   "source": [
    "df = pd.read_csv('../../data/commons/hatexplain.csv')"
   ]
  },
  {
   "cell_type": "code",
   "execution_count": 3,
   "id": "881f66fa",
   "metadata": {},
   "outputs": [],
   "source": [
    "X, y = df['text'].values, df['target'].values"
   ]
  },
  {
   "cell_type": "code",
   "execution_count": 4,
   "id": "4cdfbf42",
   "metadata": {},
   "outputs": [],
   "source": [
    "vectors = TfidfVectorizer().fit_transform(X).tocsr()"
   ]
  },
  {
   "cell_type": "code",
   "execution_count": 8,
   "id": "6675163f",
   "metadata": {},
   "outputs": [],
   "source": [
    "x_train, x_test, y_train, y_test = train_test_split(vectors, y, test_size=0.2, random_state=2021)"
   ]
  },
  {
   "cell_type": "code",
   "execution_count": 9,
   "id": "9c6ba8e7",
   "metadata": {},
   "outputs": [
    {
     "data": {
      "text/plain": [
       "LogisticRegression(max_iter=10000)"
      ]
     },
     "execution_count": 9,
     "metadata": {},
     "output_type": "execute_result"
    }
   ],
   "source": [
    "clf = LogisticRegression(max_iter=10000)\n",
    "clf.fit(x_train, y_train)"
   ]
  },
  {
   "cell_type": "code",
   "execution_count": 10,
   "id": "8863c331",
   "metadata": {},
   "outputs": [
    {
     "data": {
      "text/plain": [
       "(0.8298399819697995, 0.562415502478594)"
      ]
     },
     "execution_count": 10,
     "metadata": {},
     "output_type": "execute_result"
    }
   ],
   "source": [
    "(clf.predict(x_train) == y_train).mean(), (clf.predict(x_test) == y_test).mean()"
   ]
  }
 ],
 "metadata": {
  "kernelspec": {
   "display_name": "Python [conda env:.conda-py38] *",
   "language": "python",
   "name": "conda-env-.conda-py38-py"
  },
  "language_info": {
   "codemirror_mode": {
    "name": "ipython",
    "version": 3
   },
   "file_extension": ".py",
   "mimetype": "text/x-python",
   "name": "python",
   "nbconvert_exporter": "python",
   "pygments_lexer": "ipython3",
   "version": "3.8.5"
  }
 },
 "nbformat": 4,
 "nbformat_minor": 5
}
