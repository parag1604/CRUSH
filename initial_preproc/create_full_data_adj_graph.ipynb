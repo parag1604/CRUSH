{
 "cells": [
  {
   "cell_type": "code",
   "execution_count": 56,
   "id": "38669a48",
   "metadata": {},
   "outputs": [],
   "source": [
    "import pandas as pd\n",
    "from tqdm import tqdm\n",
    "import numpy as np\n",
    "from scipy.sparse import lil_matrix, coo_matrix, csr_matrix, save_npz"
   ]
  },
  {
   "cell_type": "code",
   "execution_count": 3,
   "id": "0f1611fc",
   "metadata": {},
   "outputs": [],
   "source": [
    "table = pd.read_csv('extracted.csv')"
   ]
  },
  {
   "cell_type": "code",
   "execution_count": 4,
   "id": "be41e2d8",
   "metadata": {},
   "outputs": [
    {
     "name": "stderr",
     "output_type": "stream",
     "text": [
      "100%|██████████| 21207961/21207961 [12:39<00:00, 27929.90it/s]\n"
     ]
    },
    {
     "data": {
      "text/plain": [
       "(172795, 21207961)"
      ]
     },
     "execution_count": 4,
     "metadata": {},
     "output_type": "execute_result"
    }
   ],
   "source": [
    "user_set = set()\n",
    "id_set = set()\n",
    "for _, row in tqdm(table.iterrows(), total=len(table)):\n",
    "    id_set.add(row['id'])\n",
    "    user_set.add(row['user_id'])\n",
    "len(user_set), len(id_set)"
   ]
  },
  {
   "cell_type": "code",
   "execution_count": 50,
   "id": "4bf3adc0",
   "metadata": {},
   "outputs": [],
   "source": [
    "A = lil_matrix((len(user_set) + len(id_set), len(user_set) + len(id_set)))\n",
    "offset_size = len(user_set)\n",
    "# offset_idx = 3090001"
   ]
  },
  {
   "cell_type": "code",
   "execution_count": 11,
   "id": "8ca455a2",
   "metadata": {},
   "outputs": [],
   "source": [
    "ids = table['id'].values\n",
    "users = table['user_id'].values\n",
    "ancestors = table['ancestor_id'].values"
   ]
  },
  {
   "cell_type": "code",
   "execution_count": 24,
   "id": "159fb45c",
   "metadata": {},
   "outputs": [
    {
     "data": {
      "text/plain": [
       "21207961"
      ]
     },
     "execution_count": 24,
     "metadata": {},
     "output_type": "execute_result"
    }
   ],
   "source": [
    "temp = []\n",
    "for ancestor in ancestors:\n",
    "    try:\n",
    "        temp.append(int(ancestor))\n",
    "    except:\n",
    "        temp.append(None)\n",
    "len(temp)"
   ]
  },
  {
   "cell_type": "code",
   "execution_count": 51,
   "id": "f38a534c",
   "metadata": {},
   "outputs": [
    {
     "name": "stderr",
     "output_type": "stream",
     "text": [
      "100%|██████████| 172795/172795 [00:00<00:00, 1450693.29it/s]\n",
      "100%|██████████| 21207961/21207961 [00:11<00:00, 1829589.37it/s]\n"
     ]
    }
   ],
   "source": [
    "user_id_2_idx = dict()\n",
    "idx_2_user_id = dict()\n",
    "id_2_idx = dict()\n",
    "idx_2_id = dict()\n",
    "for i, user_id in enumerate(tqdm(user_set)):\n",
    "    user_id_2_idx[user_id] = i\n",
    "    idx_2_user_id[i] = user_id\n",
    "for i, tid in enumerate(tqdm(ids)):\n",
    "    id_2_idx[tid] = i\n",
    "    idx_2_id[i] = tid"
   ]
  },
  {
   "cell_type": "code",
   "execution_count": 53,
   "id": "1a4d09a6",
   "metadata": {},
   "outputs": [],
   "source": [
    "import pickle\n",
    "pickle.dump(user_id_2_idx, open(\"user_id_2_idx.pkl\", \"wb\"))\n",
    "pickle.dump(idx_2_user_id, open(\"idx_2_user_id.pkl\", \"wb\"))\n",
    "pickle.dump(id_2_idx, open(\"id_2_idx.pkl\", \"wb\"))\n",
    "pickle.dump(idx_2_id, open(\"idx_2_id.pkl\", \"wb\"))"
   ]
  },
  {
   "cell_type": "code",
   "execution_count": 54,
   "id": "969abd6f",
   "metadata": {},
   "outputs": [
    {
     "name": "stderr",
     "output_type": "stream",
     "text": [
      "100%|██████████| 21207961/21207961 [03:00<00:00, 117741.28it/s]\n"
     ]
    }
   ],
   "source": [
    "for i in tqdm(range(len(ids))):\n",
    "    # Ancestor ids to node ids and vice versa\n",
    "    if temp[i] is not None:\n",
    "        try:\n",
    "            A[offset_size + id_2_idx[temp[i]], offset_size + id_2_idx[ids[i]]] = 1\n",
    "            A[offset_size + id_2_idx[ids[i]], offset_size + id_2_idx[temp[i]]] = 1\n",
    "        except:\n",
    "            pass\n",
    "    # User ids to node ids and vice versa\n",
    "    try:\n",
    "        A[user_id_2_idx[users[i]], offset_size + id_2_idx[ids[i]]] = 1\n",
    "        A[offset_size + id_2_idx[ids[i]], user_id_2_idx[users[i]]] = 1\n",
    "    except:\n",
    "        pass"
   ]
  },
  {
   "cell_type": "code",
   "execution_count": 44,
   "id": "ffdbd0cf",
   "metadata": {},
   "outputs": [
    {
     "data": {
      "text/plain": [
       "array([13851720, 24198545, 14567516, ...,  9991681,  9992513,  9998729])"
      ]
     },
     "execution_count": 44,
     "metadata": {},
     "output_type": "execute_result"
    }
   ],
   "source": [
    "hatexplain_ids = pd.read_csv(\"hatexplain.csv\")['id'].values\n",
    "hatexplain_ids"
   ]
  },
  {
   "cell_type": "code",
   "execution_count": 58,
   "id": "5058e792",
   "metadata": {},
   "outputs": [],
   "source": [
    "save_npz(\"A_full.npz\", A.tocsr())"
   ]
  },
  {
   "cell_type": "code",
   "execution_count": 55,
   "id": "d667288e",
   "metadata": {},
   "outputs": [],
   "source": [
    "for hatexplain_id in hatexplain_ids:\n",
    "    A[offset_size + id_2_idx[hatexplain_id]]"
   ]
  }
 ],
 "metadata": {
  "kernelspec": {
   "display_name": "Python [conda env:.conda-py38] *",
   "language": "python",
   "name": "conda-env-.conda-py38-py"
  },
  "language_info": {
   "codemirror_mode": {
    "name": "ipython",
    "version": 3
   },
   "file_extension": ".py",
   "mimetype": "text/x-python",
   "name": "python",
   "nbconvert_exporter": "python",
   "pygments_lexer": "ipython3",
   "version": "3.8.5"
  }
 },
 "nbformat": 4,
 "nbformat_minor": 5
}
