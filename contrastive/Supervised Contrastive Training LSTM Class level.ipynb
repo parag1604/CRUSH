{
 "cells": [
  {
   "cell_type": "code",
   "execution_count": 55,
   "id": "private-giant",
   "metadata": {},
   "outputs": [],
   "source": [
    "import torch\n",
    "import torch.nn as nn\n",
    "import torch.optim as optim\n",
    "\n",
    "import json, pickle\n",
    "from gensim.models import Word2Vec\n",
    "from tqdm import tqdm\n",
    "import numpy as np\n",
    "import matplotlib.pyplot as plt\n",
    "from collections import Counter\n",
    "from sklearn.metrics import classification_report"
   ]
  },
  {
   "cell_type": "code",
   "execution_count": 4,
   "id": "naughty-lambda",
   "metadata": {},
   "outputs": [],
   "source": [
    "word2vec_model = Word2Vec.load(\"../../data/commons/word2vec.model\")"
   ]
  },
  {
   "cell_type": "code",
   "execution_count": 5,
   "id": "ruled-temple",
   "metadata": {},
   "outputs": [],
   "source": [
    "post_id_2_text = pickle.load(open(\"../../data/non-graph/posts_id_2_text.pkl\", \"rb\"))"
   ]
  },
  {
   "cell_type": "code",
   "execution_count": 33,
   "id": "forced-texas",
   "metadata": {},
   "outputs": [],
   "source": [
    "class Encoder(nn.Module):\n",
    "\n",
    "    def __init__(self, seq_len, inp_dim):\n",
    "        super(Encoder, self).__init__()\n",
    "\n",
    "        self.seq_len = seq_len\n",
    "        self.inp_dim = inp_dim\n",
    "\n",
    "        self.rnn = nn.LSTM(inp_dim, inp_dim, 2, batch_first=True, bidirectional=False)\n",
    "    \n",
    "    def forward(self, x):\n",
    "        assert x.shape[1] == self.seq_len\n",
    "        assert x.shape[2] == self.inp_dim\n",
    "\n",
    "        x, _ = self.rnn(x)\n",
    "        return x"
   ]
  },
  {
   "cell_type": "code",
   "execution_count": 69,
   "id": "bound-failing",
   "metadata": {},
   "outputs": [],
   "source": [
    "class Classifier(nn.Module):\n",
    "    \n",
    "    def __init__(self, inp_dim, out_logits):\n",
    "        super(Classifier, self).__init__()\n",
    "\n",
    "        self.inp_dim = inp_dim\n",
    "        self.out_dim = out_logits\n",
    "\n",
    "        self.fc = nn.Linear(inp_dim, out_logits)\n",
    "    \n",
    "    def forward(self, x):\n",
    "        assert x.shape[1] == self.inp_dim\n",
    "\n",
    "        x = self.fc(x)\n",
    "        return torch.log_softmax(x, dim=1)"
   ]
  },
  {
   "cell_type": "code",
   "execution_count": 8,
   "id": "incorporate-terminal",
   "metadata": {},
   "outputs": [],
   "source": [
    "class Network(nn.Module):\n",
    "\n",
    "    def __init__(self, seq_len, inp_dim, out_logits):\n",
    "        super(Network, self).__init__()\n",
    "\n",
    "        self.seq_len = seq_len\n",
    "        self.inp_dim = inp_dim\n",
    "        self.out_dim = out_logits\n",
    "\n",
    "        self.enc = Encoder(seq_len, inp_dim)\n",
    "        self.clf = Classifier(seq_len*inp_dim, out_logits)\n",
    "\n",
    "    def forward(self, x):\n",
    "\n",
    "        x = self.enc(x).reshape(-1, self.seq_len*self.inp_dim)\n",
    "        x = self.clf(x)\n",
    "        return x"
   ]
  },
  {
   "cell_type": "code",
   "execution_count": 66,
   "id": "acoustic-vector",
   "metadata": {},
   "outputs": [],
   "source": [
    "def get_contrastive_batches(post_ids, y, device, batch_size):\n",
    "    num_of_batches = y.shape[0] // batch_size + (1 if y.shape[0] % batch_size else 0)\n",
    "    shuffled_idxs = np.random.permutation(np.arange(y.shape[0]))\n",
    "    for i in range(num_of_batches):\n",
    "        batch_idxs = shuffled_idxs[i*batch_size:(i+1)*batch_size]\n",
    "        X = np.zeros((batch_idxs.shape[0], 6, max_len, dim), dtype=np.float32)\n",
    "        for dim1, batch_idx in enumerate(batch_idxs):\n",
    "            post_id = post_ids[batch_idx][:-4]\n",
    "            positive_sample = post_id\n",
    "            while positive_sample != post_id:\n",
    "                positive_sample = np.random.choice(train_class_ids[y[batch_idx]])[:-4]\n",
    "            batch_post_ids = [post_id, positive_sample]\n",
    "            negative_classes = [label for label in range(3) if label != y[batch_idx]]\n",
    "            negative_samples = set()\n",
    "            while len(negative_samples) != 2:\n",
    "                negative_samples.add(np.random.choice(train_class_ids[negative_classes[0]])[:-4])\n",
    "            while len(negative_samples) != 4:\n",
    "                negative_samples.add(np.random.choice(train_class_ids[negative_classes[1]])[:-4])\n",
    "            batch_post_ids.extend(list(negative_samples))\n",
    "            for dim2, post_id in enumerate(batch_post_ids):\n",
    "                vecs = []\n",
    "                for word in post_id_2_text[int(post_id)].split():\n",
    "                    try:\n",
    "                        vecs.append(word2vec_model.wv.get_vector(word))\n",
    "                    except:\n",
    "                        pass\n",
    "                sent_len = len(vecs)\n",
    "                if sent_len >= max_len:\n",
    "                    vecs = vecs[:max_len]\n",
    "                else:\n",
    "                    pad_len = max_len - sent_len\n",
    "                    pad_vecs = []\n",
    "                    for _ in range(pad_len):\n",
    "                        pad_vecs.append(np.zeros((dim,)))\n",
    "                    vecs = pad_vecs + vecs\n",
    "                X[dim1, dim2] = np.array(vecs)\n",
    "        yield torch.FloatTensor(X).to(device)\n",
    "\n",
    "def get_batches(post_ids, y, device, batch_size):\n",
    "    num_of_batches = y.shape[0] // batch_size + (1 if y.shape[0] % batch_size else 0)\n",
    "    shuffled_idxs = np.random.permutation(np.arange(y.shape[0]))\n",
    "    for i in range(num_of_batches):\n",
    "        batch_idxs = shuffled_idxs[i*batch_size:(i+1)*batch_size]\n",
    "        X = np.zeros((batch_idxs.shape[0], 1, max_len, dim), dtype=np.float32)\n",
    "        for dim1, batch_idx in enumerate(batch_idxs):\n",
    "            post_id = int(post_ids[batch_idx][:-4])\n",
    "            batch_post_ids = [post_id]\n",
    "            for dim2, post_id in enumerate(batch_post_ids):\n",
    "                vecs = []\n",
    "                for word in post_id_2_text[post_id].split():\n",
    "                    try:\n",
    "                        vecs.append(word2vec_model.wv.get_vector(word))\n",
    "                    except:\n",
    "                        pass\n",
    "                sent_len = len(vecs)\n",
    "                if sent_len >= max_len:\n",
    "                    vecs = vecs[:max_len]\n",
    "                else:\n",
    "                    pad_len = max_len - sent_len\n",
    "                    pad_vecs = []\n",
    "                    for _ in range(pad_len):\n",
    "                        pad_vecs.append(np.zeros((dim,)))\n",
    "                    vecs = pad_vecs + vecs\n",
    "                X[dim1, dim2] = np.array(vecs)\n",
    "        yield torch.FloatTensor(X.squeeze()).to(device),\\\n",
    "                torch.LongTensor(y[batch_idxs]).to(device)"
   ]
  },
  {
   "cell_type": "code",
   "execution_count": 64,
   "id": "amateur-watershed",
   "metadata": {
    "scrolled": false
   },
   "outputs": [
    {
     "name": "stdout",
     "output_type": "stream",
     "text": [
      "Training | Epoch: 1\n"
     ]
    },
    {
     "name": "stderr",
     "output_type": "stream",
     "text": [
      "100%|██████████| 66/66 [00:19<00:00,  3.34it/s]\n"
     ]
    },
    {
     "name": "stdout",
     "output_type": "stream",
     "text": [
      "Training | Epoch: 2\n"
     ]
    },
    {
     "name": "stderr",
     "output_type": "stream",
     "text": [
      "100%|██████████| 66/66 [00:19<00:00,  3.32it/s]\n"
     ]
    },
    {
     "name": "stdout",
     "output_type": "stream",
     "text": [
      "Training | Epoch: 3\n"
     ]
    },
    {
     "name": "stderr",
     "output_type": "stream",
     "text": [
      "100%|██████████| 66/66 [00:19<00:00,  3.36it/s]\n"
     ]
    },
    {
     "name": "stdout",
     "output_type": "stream",
     "text": [
      "Training | Epoch: 4\n"
     ]
    },
    {
     "name": "stderr",
     "output_type": "stream",
     "text": [
      "100%|██████████| 66/66 [00:19<00:00,  3.35it/s]\n"
     ]
    },
    {
     "name": "stdout",
     "output_type": "stream",
     "text": [
      "Training | Epoch: 5\n"
     ]
    },
    {
     "name": "stderr",
     "output_type": "stream",
     "text": [
      "100%|██████████| 66/66 [00:19<00:00,  3.37it/s]\n"
     ]
    },
    {
     "name": "stdout",
     "output_type": "stream",
     "text": [
      "Training | Epoch: 6\n"
     ]
    },
    {
     "name": "stderr",
     "output_type": "stream",
     "text": [
      "100%|██████████| 66/66 [00:19<00:00,  3.39it/s]\n"
     ]
    },
    {
     "name": "stdout",
     "output_type": "stream",
     "text": [
      "Training | Epoch: 7\n"
     ]
    },
    {
     "name": "stderr",
     "output_type": "stream",
     "text": [
      "100%|██████████| 66/66 [00:19<00:00,  3.33it/s]\n"
     ]
    },
    {
     "name": "stdout",
     "output_type": "stream",
     "text": [
      "Training | Epoch: 8\n"
     ]
    },
    {
     "name": "stderr",
     "output_type": "stream",
     "text": [
      "100%|██████████| 66/66 [00:19<00:00,  3.38it/s]\n"
     ]
    },
    {
     "name": "stdout",
     "output_type": "stream",
     "text": [
      "Training | Epoch: 9\n"
     ]
    },
    {
     "name": "stderr",
     "output_type": "stream",
     "text": [
      "100%|██████████| 66/66 [00:19<00:00,  3.39it/s]\n"
     ]
    },
    {
     "name": "stdout",
     "output_type": "stream",
     "text": [
      "Training | Epoch: 10\n"
     ]
    },
    {
     "name": "stderr",
     "output_type": "stream",
     "text": [
      "100%|██████████| 66/66 [00:19<00:00,  3.37it/s]\n"
     ]
    },
    {
     "name": "stdout",
     "output_type": "stream",
     "text": [
      "Training | Epoch: 11\n"
     ]
    },
    {
     "name": "stderr",
     "output_type": "stream",
     "text": [
      "100%|██████████| 66/66 [00:19<00:00,  3.33it/s]\n"
     ]
    },
    {
     "name": "stdout",
     "output_type": "stream",
     "text": [
      "Training | Epoch: 12\n"
     ]
    },
    {
     "name": "stderr",
     "output_type": "stream",
     "text": [
      "100%|██████████| 66/66 [00:19<00:00,  3.38it/s]\n"
     ]
    },
    {
     "name": "stdout",
     "output_type": "stream",
     "text": [
      "Training | Epoch: 13\n"
     ]
    },
    {
     "name": "stderr",
     "output_type": "stream",
     "text": [
      "100%|██████████| 66/66 [00:19<00:00,  3.32it/s]\n"
     ]
    },
    {
     "name": "stdout",
     "output_type": "stream",
     "text": [
      "Training | Epoch: 14\n"
     ]
    },
    {
     "name": "stderr",
     "output_type": "stream",
     "text": [
      "100%|██████████| 66/66 [00:20<00:00,  3.28it/s]\n"
     ]
    },
    {
     "name": "stdout",
     "output_type": "stream",
     "text": [
      "Training | Epoch: 15\n"
     ]
    },
    {
     "name": "stderr",
     "output_type": "stream",
     "text": [
      "100%|██████████| 66/66 [00:20<00:00,  3.27it/s]\n"
     ]
    },
    {
     "name": "stdout",
     "output_type": "stream",
     "text": [
      "Training | Epoch: 16\n"
     ]
    },
    {
     "name": "stderr",
     "output_type": "stream",
     "text": [
      "100%|██████████| 66/66 [00:20<00:00,  3.29it/s]\n"
     ]
    },
    {
     "name": "stdout",
     "output_type": "stream",
     "text": [
      "Training | Epoch: 17\n"
     ]
    },
    {
     "name": "stderr",
     "output_type": "stream",
     "text": [
      "100%|██████████| 66/66 [00:20<00:00,  3.30it/s]\n"
     ]
    },
    {
     "name": "stdout",
     "output_type": "stream",
     "text": [
      "Training | Epoch: 18\n"
     ]
    },
    {
     "name": "stderr",
     "output_type": "stream",
     "text": [
      "100%|██████████| 66/66 [00:20<00:00,  3.22it/s]\n"
     ]
    },
    {
     "name": "stdout",
     "output_type": "stream",
     "text": [
      "Training | Epoch: 19\n"
     ]
    },
    {
     "name": "stderr",
     "output_type": "stream",
     "text": [
      "100%|██████████| 66/66 [00:20<00:00,  3.28it/s]\n"
     ]
    },
    {
     "name": "stdout",
     "output_type": "stream",
     "text": [
      "Training | Epoch: 20\n"
     ]
    },
    {
     "name": "stderr",
     "output_type": "stream",
     "text": [
      "100%|██████████| 66/66 [00:20<00:00,  3.29it/s]\n"
     ]
    },
    {
     "data": {
      "image/png": "[encoded data removed]",
      "text/plain": [
       "<Figure size 432x288 with 1 Axes>"
      ]
     },
     "metadata": {
      "needs_background": "light"
     },
     "output_type": "display_data"
    }
   ],
   "source": [
    "def contrastive_train(epoch_num, data, labels, device, optimizer, criterion, model, batch_size=32, verbose=False):\n",
    "    print(\"Training | Epoch:\", epoch_num)\n",
    "    model.train()\n",
    "    losses = []\n",
    "    for i, batch in enumerate(tqdm(get_contrastive_batches(data, labels, device, batch_size),\n",
    "                                    total=data.shape[0]//batch_size+(1 if data.shape[0]%batch_size else 0))):\n",
    "        out = model(batch[:,0]).reshape(batch.shape[0], -1)\n",
    "        similarities = torch.zeros(batch.shape[0], batch.shape[1]).to(device)\n",
    "        for j in range(1, batch.shape[1]):\n",
    "            with torch.no_grad():\n",
    "                out2 = model(batch[:,j]).reshape(batch.shape[0], -1)\n",
    "            similarities[:, j-1] = torch.mul(out, out2).sum(dim=1)\n",
    "        loss = criterion(torch.log_softmax(similarities, dim=1), torch.zeros(batch.shape[0], dtype=int).to(device))\n",
    "        optimizer.zero_grad()\n",
    "        loss.backward()\n",
    "        optimizer.step()\n",
    "        losses.append(loss.item())\n",
    "        if verbose:\n",
    "            print(\"Epoch:\", epoch_num, \"| Iter:\", i+1, \"| Loss:\", round(loss.item(), 4))\n",
    "    model.eval()\n",
    "    return losses\n",
    "\n",
    "max_len = 70\n",
    "dim = 200\n",
    "encoder = Encoder(70, 200).to(torch.device(\"cuda:0\"))\n",
    "optimizer = optim.Adam(encoder.parameters(), lr=1e-5)\n",
    "criterion = nn.NLLLoss()\n",
    "losses = []\n",
    "for i in range(20):\n",
    "    losses.extend(contrastive_train(i+1, train_ids, train_labels, torch.device(\"cuda:0\"), optimizer, criterion, encoder, 128))\n",
    "plt.plot(losses)\n",
    "plt.show()"
   ]
  },
  {
   "cell_type": "code",
   "execution_count": 68,
   "id": "fifth-george",
   "metadata": {},
   "outputs": [],
   "source": [
    "torch.save(encoder.state_dict(), \"encoder_NLL.pth\")"
   ]
  },
  {
   "cell_type": "code",
   "execution_count": 84,
   "id": "wanted-mobile",
   "metadata": {
    "scrolled": false
   },
   "outputs": [
    {
     "name": "stdout",
     "output_type": "stream",
     "text": [
      "Training | Epoch: 1\n"
     ]
    },
    {
     "name": "stderr",
     "output_type": "stream",
     "text": [
      "100%|██████████| 66/66 [00:00<00:00, 71.24it/s]\n"
     ]
    },
    {
     "name": "stdout",
     "output_type": "stream",
     "text": [
      "Training | Epoch: 2\n"
     ]
    },
    {
     "name": "stderr",
     "output_type": "stream",
     "text": [
      "100%|██████████| 66/66 [00:00<00:00, 71.68it/s]\n"
     ]
    },
    {
     "name": "stdout",
     "output_type": "stream",
     "text": [
      "Training | Epoch: 3\n"
     ]
    },
    {
     "name": "stderr",
     "output_type": "stream",
     "text": [
      "100%|██████████| 66/66 [00:00<00:00, 71.31it/s]\n"
     ]
    },
    {
     "name": "stdout",
     "output_type": "stream",
     "text": [
      "Training | Epoch: 4\n"
     ]
    },
    {
     "name": "stderr",
     "output_type": "stream",
     "text": [
      "100%|██████████| 66/66 [00:00<00:00, 71.52it/s]\n"
     ]
    },
    {
     "name": "stdout",
     "output_type": "stream",
     "text": [
      "Training | Epoch: 5\n"
     ]
    },
    {
     "name": "stderr",
     "output_type": "stream",
     "text": [
      "100%|██████████| 66/66 [00:00<00:00, 71.97it/s]\n"
     ]
    },
    {
     "name": "stdout",
     "output_type": "stream",
     "text": [
      "Training | Epoch: 6\n"
     ]
    },
    {
     "name": "stderr",
     "output_type": "stream",
     "text": [
      "100%|██████████| 66/66 [00:00<00:00, 72.07it/s]\n"
     ]
    },
    {
     "name": "stdout",
     "output_type": "stream",
     "text": [
      "Training | Epoch: 7\n"
     ]
    },
    {
     "name": "stderr",
     "output_type": "stream",
     "text": [
      "100%|██████████| 66/66 [00:00<00:00, 71.95it/s]\n"
     ]
    },
    {
     "name": "stdout",
     "output_type": "stream",
     "text": [
      "Training | Epoch: 8\n"
     ]
    },
    {
     "name": "stderr",
     "output_type": "stream",
     "text": [
      "100%|██████████| 66/66 [00:00<00:00, 71.99it/s]\n"
     ]
    },
    {
     "name": "stdout",
     "output_type": "stream",
     "text": [
      "Training | Epoch: 9\n"
     ]
    },
    {
     "name": "stderr",
     "output_type": "stream",
     "text": [
      "100%|██████████| 66/66 [00:00<00:00, 71.77it/s]\n"
     ]
    },
    {
     "name": "stdout",
     "output_type": "stream",
     "text": [
      "Training | Epoch: 10\n"
     ]
    },
    {
     "name": "stderr",
     "output_type": "stream",
     "text": [
      "100%|██████████| 66/66 [00:00<00:00, 71.96it/s]\n"
     ]
    },
    {
     "data": {
      "image/png": "[encoded data removed]",
      "text/plain": [
       "<Figure size 432x288 with 1 Axes>"
      ]
     },
     "metadata": {
      "needs_background": "light"
     },
     "output_type": "display_data"
    }
   ],
   "source": [
    "def label_train(epoch_num, data, labels, device, optimizer, criterion, enc, clf, batch_size=32, verbose=False):\n",
    "    print(\"Training | Epoch:\", epoch_num)\n",
    "    enc.eval()\n",
    "    clf.train()\n",
    "    losses = []\n",
    "    for i, batch in enumerate(tqdm(get_batches(data, labels, device, batch_size),\n",
    "                                    total=data.shape[0]//batch_size+(1 if data.shape[0]%batch_size else 0))):\n",
    "        with torch.no_grad():\n",
    "            inp = enc(batch[0]).reshape(batch[0].shape[0], -1)\n",
    "        out = clf(inp)\n",
    "        loss = criterion(out, batch[1])\n",
    "        optimizer.zero_grad()\n",
    "        loss.backward()\n",
    "        optimizer.step()\n",
    "        losses.append(loss.item())\n",
    "        if verbose:\n",
    "            print(\"Epoch:\", epoch_num, \"| Iter:\", i+1, \"| Loss:\", round(loss.item(), 4))\n",
    "    clf.eval()\n",
    "    return losses\n",
    "\n",
    "classifier = Classifier(70*200, 3).to(torch.device(\"cuda:0\"))\n",
    "optimizer = optim.Adam(classifier.parameters(), lr=1e-3)\n",
    "criterion = nn.NLLLoss()\n",
    "losses = []\n",
    "for i in range(10):\n",
    "    losses.extend(label_train(i+1, train_ids, train_labels, torch.device(\"cuda:0\"), optimizer, criterion, encoder, classifier, 128))\n",
    "plt.plot(losses)\n",
    "plt.show()"
   ]
  },
  {
   "cell_type": "code",
   "execution_count": 85,
   "id": "contemporary-teaching",
   "metadata": {},
   "outputs": [
    {
     "name": "stdout",
     "output_type": "stream",
     "text": [
      "Evaluating | Epoch: -1\n",
      "              precision    recall  f1-score   support\n",
      "\n",
      "           0       0.55      0.43      0.48       216\n",
      "           1       0.41      0.37      0.39       305\n",
      "           2       0.66      0.76      0.71       515\n",
      "\n",
      "    accuracy                           0.58      1036\n",
      "   macro avg       0.54      0.52      0.53      1036\n",
      "weighted avg       0.56      0.58      0.57      1036\n",
      "\n"
     ]
    }
   ],
   "source": [
    "def evaluate(epoch_num, data, labels, device, enc, clf, batch_size=64):\n",
    "    print(\"Evaluating | Epoch:\", epoch_num)\n",
    "    y_preds = []\n",
    "    y_tests = []\n",
    "    for batch in get_batches(data, labels, device, batch_size):\n",
    "        with torch.no_grad():\n",
    "            inp = enc(batch[0]).reshape(batch[0].shape[0], -1)\n",
    "        out = clf(inp)\n",
    "        for y in batch[1].cpu().numpy():\n",
    "            y_tests.append(y)\n",
    "        for y in out.argmax(dim=1).cpu().numpy():\n",
    "            y_preds.append(y)\n",
    "    print(classification_report(y_tests, y_preds))\n",
    "\n",
    "evaluate(-1, test_ids, test_labels, torch.device(\"cuda:0\"), encoder, classifier, batch_size=512)"
   ]
  },
  {
   "cell_type": "code",
   "execution_count": 12,
   "id": "passive-mainland",
   "metadata": {},
   "outputs": [],
   "source": [
    "def get_ids_and_labels(split):\n",
    "    ids = [i for i in pid[split] if 'gab' in i]\n",
    "    labels = [label_dict[Counter([j[\"label\"] for j in data[i][\"annotators\"]]).most_common(1)[0][0]] for i in pid[split] if 'gab' in i]\n",
    "    return np.array(ids), np.array(labels)"
   ]
  },
  {
   "cell_type": "code",
   "execution_count": 13,
   "id": "alone-wedding",
   "metadata": {},
   "outputs": [],
   "source": [
    "data_path = '../../data/commons/dataset.json'\n",
    "pid_path = '../../data/commons/post_id_divisions.json'\n",
    "\n",
    "with open(pid_path) as f:\n",
    "    pid = json.load(f)\n",
    "with open(data_path) as f:\n",
    "    data = json.load(f)\n",
    "\n",
    "label_dict = {'normal': 0, 'offensive': 1, 'hatespeech': 2}\n",
    "\n",
    "train_ids, train_labels = get_ids_and_labels(\"train\")\n",
    "val_ids, val_labels = get_ids_and_labels(\"val\")\n",
    "test_ids, test_labels = get_ids_and_labels(\"test\")"
   ]
  },
  {
   "cell_type": "code",
   "execution_count": 19,
   "id": "thick-masters",
   "metadata": {},
   "outputs": [],
   "source": [
    "train_class_ids = []\n",
    "train_class_ids.append(sorted(list(train_ids[train_labels==0])))\n",
    "train_class_ids.append(sorted(list(train_ids[train_labels==1])))\n",
    "train_class_ids.append(sorted(list(train_ids[train_labels==2])))"
   ]
  },
  {
   "cell_type": "code",
   "execution_count": 36,
   "id": "thousand-series",
   "metadata": {},
   "outputs": [
    {
     "name": "stdout",
     "output_type": "stream",
     "text": [
      "Training | Epoch: 1\n"
     ]
    },
    {
     "name": "stderr",
     "output_type": "stream",
     "text": [
      "100%|██████████| 66/66 [00:01<00:00, 60.15it/s]\n",
      "/home/souvic/anaconda3/envs/py38/lib/python3.8/site-packages/sklearn/metrics/_classification.py:1245: UndefinedMetricWarning: Precision and F-score are ill-defined and being set to 0.0 in labels with no predicted samples. Use `zero_division` parameter to control this behavior.\n",
      "  _warn_prf(average, modifier, msg_start, len(result))\n",
      "/home/souvic/anaconda3/envs/py38/lib/python3.8/site-packages/sklearn/metrics/_classification.py:1245: UndefinedMetricWarning: Precision and F-score are ill-defined and being set to 0.0 in labels with no predicted samples. Use `zero_division` parameter to control this behavior.\n",
      "  _warn_prf(average, modifier, msg_start, len(result))\n",
      "/home/souvic/anaconda3/envs/py38/lib/python3.8/site-packages/sklearn/metrics/_classification.py:1245: UndefinedMetricWarning: Precision and F-score are ill-defined and being set to 0.0 in labels with no predicted samples. Use `zero_division` parameter to control this behavior.\n",
      "  _warn_prf(average, modifier, msg_start, len(result))\n"
     ]
    },
    {
     "name": "stdout",
     "output_type": "stream",
     "text": [
      "Evaluating | Epoch: 1\n",
      "              precision    recall  f1-score   support\n",
      "\n",
      "           0       0.00      0.00      0.00       216\n",
      "           1       0.00      0.00      0.00       305\n",
      "           2       0.50      1.00      0.66       515\n",
      "\n",
      "    accuracy                           0.50      1036\n",
      "   macro avg       0.17      0.33      0.22      1036\n",
      "weighted avg       0.25      0.50      0.33      1036\n",
      "\n",
      "Training | Epoch: 2\n"
     ]
    },
    {
     "name": "stderr",
     "output_type": "stream",
     "text": [
      "100%|██████████| 66/66 [00:01<00:00, 60.05it/s]\n",
      "/home/souvic/anaconda3/envs/py38/lib/python3.8/site-packages/sklearn/metrics/_classification.py:1245: UndefinedMetricWarning: Precision and F-score are ill-defined and being set to 0.0 in labels with no predicted samples. Use `zero_division` parameter to control this behavior.\n",
      "  _warn_prf(average, modifier, msg_start, len(result))\n",
      "/home/souvic/anaconda3/envs/py38/lib/python3.8/site-packages/sklearn/metrics/_classification.py:1245: UndefinedMetricWarning: Precision and F-score are ill-defined and being set to 0.0 in labels with no predicted samples. Use `zero_division` parameter to control this behavior.\n",
      "  _warn_prf(average, modifier, msg_start, len(result))\n",
      "/home/souvic/anaconda3/envs/py38/lib/python3.8/site-packages/sklearn/metrics/_classification.py:1245: UndefinedMetricWarning: Precision and F-score are ill-defined and being set to 0.0 in labels with no predicted samples. Use `zero_division` parameter to control this behavior.\n",
      "  _warn_prf(average, modifier, msg_start, len(result))\n"
     ]
    },
    {
     "name": "stdout",
     "output_type": "stream",
     "text": [
      "Evaluating | Epoch: 2\n",
      "              precision    recall  f1-score   support\n",
      "\n",
      "           0       0.00      0.00      0.00       216\n",
      "           1       0.00      0.00      0.00       305\n",
      "           2       0.50      1.00      0.66       515\n",
      "\n",
      "    accuracy                           0.50      1036\n",
      "   macro avg       0.17      0.33      0.22      1036\n",
      "weighted avg       0.25      0.50      0.33      1036\n",
      "\n",
      "Training | Epoch: 3\n"
     ]
    },
    {
     "name": "stderr",
     "output_type": "stream",
     "text": [
      "100%|██████████| 66/66 [00:01<00:00, 59.89it/s]\n",
      "/home/souvic/anaconda3/envs/py38/lib/python3.8/site-packages/sklearn/metrics/_classification.py:1245: UndefinedMetricWarning: Precision and F-score are ill-defined and being set to 0.0 in labels with no predicted samples. Use `zero_division` parameter to control this behavior.\n",
      "  _warn_prf(average, modifier, msg_start, len(result))\n",
      "/home/souvic/anaconda3/envs/py38/lib/python3.8/site-packages/sklearn/metrics/_classification.py:1245: UndefinedMetricWarning: Precision and F-score are ill-defined and being set to 0.0 in labels with no predicted samples. Use `zero_division` parameter to control this behavior.\n",
      "  _warn_prf(average, modifier, msg_start, len(result))\n",
      "/home/souvic/anaconda3/envs/py38/lib/python3.8/site-packages/sklearn/metrics/_classification.py:1245: UndefinedMetricWarning: Precision and F-score are ill-defined and being set to 0.0 in labels with no predicted samples. Use `zero_division` parameter to control this behavior.\n",
      "  _warn_prf(average, modifier, msg_start, len(result))\n"
     ]
    },
    {
     "name": "stdout",
     "output_type": "stream",
     "text": [
      "Evaluating | Epoch: 3\n",
      "              precision    recall  f1-score   support\n",
      "\n",
      "           0       0.00      0.00      0.00       216\n",
      "           1       0.39      0.05      0.09       305\n",
      "           2       0.51      0.98      0.67       515\n",
      "\n",
      "    accuracy                           0.50      1036\n",
      "   macro avg       0.30      0.34      0.25      1036\n",
      "weighted avg       0.37      0.50      0.36      1036\n",
      "\n",
      "Training | Epoch: 4\n"
     ]
    },
    {
     "name": "stderr",
     "output_type": "stream",
     "text": [
      "100%|██████████| 66/66 [00:01<00:00, 60.20it/s]\n",
      "/home/souvic/anaconda3/envs/py38/lib/python3.8/site-packages/sklearn/metrics/_classification.py:1245: UndefinedMetricWarning: Precision and F-score are ill-defined and being set to 0.0 in labels with no predicted samples. Use `zero_division` parameter to control this behavior.\n",
      "  _warn_prf(average, modifier, msg_start, len(result))\n",
      "/home/souvic/anaconda3/envs/py38/lib/python3.8/site-packages/sklearn/metrics/_classification.py:1245: UndefinedMetricWarning: Precision and F-score are ill-defined and being set to 0.0 in labels with no predicted samples. Use `zero_division` parameter to control this behavior.\n",
      "  _warn_prf(average, modifier, msg_start, len(result))\n",
      "/home/souvic/anaconda3/envs/py38/lib/python3.8/site-packages/sklearn/metrics/_classification.py:1245: UndefinedMetricWarning: Precision and F-score are ill-defined and being set to 0.0 in labels with no predicted samples. Use `zero_division` parameter to control this behavior.\n",
      "  _warn_prf(average, modifier, msg_start, len(result))\n"
     ]
    },
    {
     "name": "stdout",
     "output_type": "stream",
     "text": [
      "Evaluating | Epoch: 4\n",
      "              precision    recall  f1-score   support\n",
      "\n",
      "           0       0.00      0.00      0.00       216\n",
      "           1       0.38      0.33      0.35       305\n",
      "           2       0.58      0.87      0.70       515\n",
      "\n",
      "    accuracy                           0.53      1036\n",
      "   macro avg       0.32      0.40      0.35      1036\n",
      "weighted avg       0.40      0.53      0.45      1036\n",
      "\n",
      "Training | Epoch: 5\n"
     ]
    },
    {
     "name": "stderr",
     "output_type": "stream",
     "text": [
      "100%|██████████| 66/66 [00:01<00:00, 59.58it/s]\n"
     ]
    },
    {
     "name": "stdout",
     "output_type": "stream",
     "text": [
      "Evaluating | Epoch: 5\n",
      "              precision    recall  f1-score   support\n",
      "\n",
      "           0       0.48      0.07      0.12       216\n",
      "           1       0.37      0.30      0.33       305\n",
      "           2       0.61      0.90      0.72       515\n",
      "\n",
      "    accuracy                           0.55      1036\n",
      "   macro avg       0.49      0.42      0.39      1036\n",
      "weighted avg       0.51      0.55      0.48      1036\n",
      "\n",
      "Training | Epoch: 6\n"
     ]
    },
    {
     "name": "stderr",
     "output_type": "stream",
     "text": [
      "100%|██████████| 66/66 [00:01<00:00, 60.10it/s]\n"
     ]
    },
    {
     "name": "stdout",
     "output_type": "stream",
     "text": [
      "Evaluating | Epoch: 6\n",
      "              precision    recall  f1-score   support\n",
      "\n",
      "           0       0.43      0.18      0.25       216\n",
      "           1       0.39      0.41      0.40       305\n",
      "           2       0.69      0.83      0.75       515\n",
      "\n",
      "    accuracy                           0.57      1036\n",
      "   macro avg       0.50      0.47      0.47      1036\n",
      "weighted avg       0.55      0.57      0.55      1036\n",
      "\n",
      "Training | Epoch: 7\n"
     ]
    },
    {
     "name": "stderr",
     "output_type": "stream",
     "text": [
      "100%|██████████| 66/66 [00:01<00:00, 60.27it/s]\n"
     ]
    },
    {
     "name": "stdout",
     "output_type": "stream",
     "text": [
      "Evaluating | Epoch: 7\n",
      "              precision    recall  f1-score   support\n",
      "\n",
      "           0       0.53      0.12      0.19       216\n",
      "           1       0.40      0.39      0.39       305\n",
      "           2       0.66      0.89      0.76       515\n",
      "\n",
      "    accuracy                           0.58      1036\n",
      "   macro avg       0.53      0.46      0.45      1036\n",
      "weighted avg       0.56      0.58      0.53      1036\n",
      "\n",
      "Training | Epoch: 8\n"
     ]
    },
    {
     "name": "stderr",
     "output_type": "stream",
     "text": [
      "100%|██████████| 66/66 [00:01<00:00, 60.03it/s]\n"
     ]
    },
    {
     "name": "stdout",
     "output_type": "stream",
     "text": [
      "Evaluating | Epoch: 8\n",
      "              precision    recall  f1-score   support\n",
      "\n",
      "           0       0.43      0.19      0.26       216\n",
      "           1       0.41      0.46      0.43       305\n",
      "           2       0.71      0.83      0.76       515\n",
      "\n",
      "    accuracy                           0.58      1036\n",
      "   macro avg       0.52      0.49      0.48      1036\n",
      "weighted avg       0.56      0.58      0.56      1036\n",
      "\n",
      "Training | Epoch: 9\n"
     ]
    },
    {
     "name": "stderr",
     "output_type": "stream",
     "text": [
      "100%|██████████| 66/66 [00:01<00:00, 59.96it/s]\n"
     ]
    },
    {
     "name": "stdout",
     "output_type": "stream",
     "text": [
      "Evaluating | Epoch: 9\n",
      "              precision    recall  f1-score   support\n",
      "\n",
      "           0       0.46      0.21      0.29       216\n",
      "           1       0.41      0.46      0.44       305\n",
      "           2       0.72      0.83      0.77       515\n",
      "\n",
      "    accuracy                           0.59      1036\n",
      "   macro avg       0.53      0.50      0.50      1036\n",
      "weighted avg       0.57      0.59      0.57      1036\n",
      "\n",
      "Training | Epoch: 10\n"
     ]
    },
    {
     "name": "stderr",
     "output_type": "stream",
     "text": [
      "100%|██████████| 66/66 [00:01<00:00, 60.17it/s]\n"
     ]
    },
    {
     "name": "stdout",
     "output_type": "stream",
     "text": [
      "Evaluating | Epoch: 10\n",
      "              precision    recall  f1-score   support\n",
      "\n",
      "           0       0.50      0.26      0.34       216\n",
      "           1       0.42      0.52      0.47       305\n",
      "           2       0.74      0.79      0.77       515\n",
      "\n",
      "    accuracy                           0.60      1036\n",
      "   macro avg       0.55      0.52      0.52      1036\n",
      "weighted avg       0.60      0.60      0.59      1036\n",
      "\n",
      "Training | Epoch: 11\n"
     ]
    },
    {
     "name": "stderr",
     "output_type": "stream",
     "text": [
      "100%|██████████| 66/66 [00:01<00:00, 60.66it/s]\n"
     ]
    },
    {
     "name": "stdout",
     "output_type": "stream",
     "text": [
      "Evaluating | Epoch: 11\n",
      "              precision    recall  f1-score   support\n",
      "\n",
      "           0       0.56      0.21      0.31       216\n",
      "           1       0.42      0.52      0.47       305\n",
      "           2       0.73      0.82      0.77       515\n",
      "\n",
      "    accuracy                           0.61      1036\n",
      "   macro avg       0.57      0.52      0.52      1036\n",
      "weighted avg       0.60      0.61      0.59      1036\n",
      "\n",
      "Training | Epoch: 12\n"
     ]
    },
    {
     "name": "stderr",
     "output_type": "stream",
     "text": [
      "100%|██████████| 66/66 [00:01<00:00, 60.32it/s]\n"
     ]
    },
    {
     "name": "stdout",
     "output_type": "stream",
     "text": [
      "Evaluating | Epoch: 12\n",
      "              precision    recall  f1-score   support\n",
      "\n",
      "           0       0.59      0.27      0.37       216\n",
      "           1       0.44      0.46      0.45       305\n",
      "           2       0.71      0.86      0.78       515\n",
      "\n",
      "    accuracy                           0.62      1036\n",
      "   macro avg       0.58      0.53      0.53      1036\n",
      "weighted avg       0.61      0.62      0.60      1036\n",
      "\n",
      "Training | Epoch: 13\n"
     ]
    },
    {
     "name": "stderr",
     "output_type": "stream",
     "text": [
      "100%|██████████| 66/66 [00:01<00:00, 60.17it/s]\n"
     ]
    },
    {
     "name": "stdout",
     "output_type": "stream",
     "text": [
      "Evaluating | Epoch: 13\n",
      "              precision    recall  f1-score   support\n",
      "\n",
      "           0       0.57      0.36      0.44       216\n",
      "           1       0.44      0.41      0.43       305\n",
      "           2       0.71      0.85      0.77       515\n",
      "\n",
      "    accuracy                           0.62      1036\n",
      "   macro avg       0.57      0.54      0.55      1036\n",
      "weighted avg       0.60      0.62      0.60      1036\n",
      "\n",
      "Training | Epoch: 14\n"
     ]
    },
    {
     "name": "stderr",
     "output_type": "stream",
     "text": [
      "100%|██████████| 66/66 [00:01<00:00, 59.72it/s]\n"
     ]
    },
    {
     "name": "stdout",
     "output_type": "stream",
     "text": [
      "Evaluating | Epoch: 14\n",
      "              precision    recall  f1-score   support\n",
      "\n",
      "           0       0.54      0.39      0.46       216\n",
      "           1       0.45      0.47      0.46       305\n",
      "           2       0.75      0.81      0.77       515\n",
      "\n",
      "    accuracy                           0.62      1036\n",
      "   macro avg       0.58      0.56      0.56      1036\n",
      "weighted avg       0.61      0.62      0.62      1036\n",
      "\n",
      "Training | Epoch: 15\n"
     ]
    },
    {
     "name": "stderr",
     "output_type": "stream",
     "text": [
      "100%|██████████| 66/66 [00:01<00:00, 60.07it/s]\n"
     ]
    },
    {
     "name": "stdout",
     "output_type": "stream",
     "text": [
      "Evaluating | Epoch: 15\n",
      "              precision    recall  f1-score   support\n",
      "\n",
      "           0       0.52      0.46      0.49       216\n",
      "           1       0.43      0.52      0.47       305\n",
      "           2       0.78      0.72      0.75       515\n",
      "\n",
      "    accuracy                           0.61      1036\n",
      "   macro avg       0.58      0.57      0.57      1036\n",
      "weighted avg       0.62      0.61      0.61      1036\n",
      "\n",
      "Training | Epoch: 16\n"
     ]
    },
    {
     "name": "stderr",
     "output_type": "stream",
     "text": [
      "100%|██████████| 66/66 [00:01<00:00, 59.82it/s]\n"
     ]
    },
    {
     "name": "stdout",
     "output_type": "stream",
     "text": [
      "Evaluating | Epoch: 16\n",
      "              precision    recall  f1-score   support\n",
      "\n",
      "           0       0.59      0.30      0.40       216\n",
      "           1       0.44      0.45      0.44       305\n",
      "           2       0.71      0.85      0.78       515\n",
      "\n",
      "    accuracy                           0.62      1036\n",
      "   macro avg       0.58      0.53      0.54      1036\n",
      "weighted avg       0.61      0.62      0.60      1036\n",
      "\n",
      "Training | Epoch: 17\n"
     ]
    },
    {
     "name": "stderr",
     "output_type": "stream",
     "text": [
      "100%|██████████| 66/66 [00:01<00:00, 60.26it/s]\n"
     ]
    },
    {
     "name": "stdout",
     "output_type": "stream",
     "text": [
      "Evaluating | Epoch: 17\n",
      "              precision    recall  f1-score   support\n",
      "\n",
      "           0       0.59      0.31      0.41       216\n",
      "           1       0.46      0.53      0.49       305\n",
      "           2       0.75      0.82      0.79       515\n",
      "\n",
      "    accuracy                           0.63      1036\n",
      "   macro avg       0.60      0.56      0.56      1036\n",
      "weighted avg       0.63      0.63      0.62      1036\n",
      "\n",
      "Training | Epoch: 18\n"
     ]
    },
    {
     "name": "stderr",
     "output_type": "stream",
     "text": [
      "100%|██████████| 66/66 [00:01<00:00, 60.19it/s]\n"
     ]
    },
    {
     "name": "stdout",
     "output_type": "stream",
     "text": [
      "Evaluating | Epoch: 18\n",
      "              precision    recall  f1-score   support\n",
      "\n",
      "           0       0.58      0.33      0.42       216\n",
      "           1       0.45      0.47      0.46       305\n",
      "           2       0.73      0.84      0.78       515\n",
      "\n",
      "    accuracy                           0.63      1036\n",
      "   macro avg       0.59      0.55      0.55      1036\n",
      "weighted avg       0.62      0.63      0.61      1036\n",
      "\n",
      "Training | Epoch: 19\n"
     ]
    },
    {
     "name": "stderr",
     "output_type": "stream",
     "text": [
      "100%|██████████| 66/66 [00:01<00:00, 59.43it/s]\n"
     ]
    },
    {
     "name": "stdout",
     "output_type": "stream",
     "text": [
      "Evaluating | Epoch: 19\n",
      "              precision    recall  f1-score   support\n",
      "\n",
      "           0       0.57      0.44      0.49       216\n",
      "           1       0.46      0.50      0.48       305\n",
      "           2       0.76      0.80      0.78       515\n",
      "\n",
      "    accuracy                           0.64      1036\n",
      "   macro avg       0.60      0.58      0.59      1036\n",
      "weighted avg       0.63      0.64      0.63      1036\n",
      "\n",
      "Training | Epoch: 20\n"
     ]
    },
    {
     "name": "stderr",
     "output_type": "stream",
     "text": [
      "100%|██████████| 66/66 [00:01<00:00, 60.05it/s]\n"
     ]
    },
    {
     "name": "stdout",
     "output_type": "stream",
     "text": [
      "Evaluating | Epoch: 20\n",
      "              precision    recall  f1-score   support\n",
      "\n",
      "           0       0.57      0.39      0.47       216\n",
      "           1       0.47      0.52      0.49       305\n",
      "           2       0.76      0.81      0.78       515\n",
      "\n",
      "    accuracy                           0.64      1036\n",
      "   macro avg       0.60      0.57      0.58      1036\n",
      "weighted avg       0.63      0.64      0.63      1036\n",
      "\n",
      "Training | Epoch: 21\n"
     ]
    },
    {
     "name": "stderr",
     "output_type": "stream",
     "text": [
      "100%|██████████| 66/66 [00:01<00:00, 60.44it/s]\n"
     ]
    },
    {
     "name": "stdout",
     "output_type": "stream",
     "text": [
      "Evaluating | Epoch: 21\n",
      "              precision    recall  f1-score   support\n",
      "\n",
      "           0       0.57      0.42      0.48       216\n",
      "           1       0.45      0.45      0.45       305\n",
      "           2       0.74      0.83      0.78       515\n",
      "\n",
      "    accuracy                           0.63      1036\n",
      "   macro avg       0.59      0.56      0.57      1036\n",
      "weighted avg       0.62      0.63      0.62      1036\n",
      "\n",
      "Training | Epoch: 22\n"
     ]
    },
    {
     "name": "stderr",
     "output_type": "stream",
     "text": [
      "100%|██████████| 66/66 [00:01<00:00, 58.32it/s]\n"
     ]
    },
    {
     "name": "stdout",
     "output_type": "stream",
     "text": [
      "Evaluating | Epoch: 22\n",
      "              precision    recall  f1-score   support\n",
      "\n",
      "           0       0.58      0.40      0.48       216\n",
      "           1       0.46      0.47      0.47       305\n",
      "           2       0.75      0.83      0.78       515\n",
      "\n",
      "    accuracy                           0.64      1036\n",
      "   macro avg       0.60      0.57      0.58      1036\n",
      "weighted avg       0.63      0.64      0.63      1036\n",
      "\n",
      "Training | Epoch: 23\n"
     ]
    },
    {
     "name": "stderr",
     "output_type": "stream",
     "text": [
      "100%|██████████| 66/66 [00:01<00:00, 59.97it/s]\n"
     ]
    },
    {
     "name": "stdout",
     "output_type": "stream",
     "text": [
      "Evaluating | Epoch: 23\n",
      "              precision    recall  f1-score   support\n",
      "\n",
      "           0       0.58      0.41      0.48       216\n",
      "           1       0.46      0.44      0.45       305\n",
      "           2       0.73      0.84      0.78       515\n",
      "\n",
      "    accuracy                           0.63      1036\n",
      "   macro avg       0.59      0.56      0.57      1036\n",
      "weighted avg       0.62      0.63      0.62      1036\n",
      "\n",
      "Training | Epoch: 24\n"
     ]
    },
    {
     "name": "stderr",
     "output_type": "stream",
     "text": [
      "100%|██████████| 66/66 [00:01<00:00, 60.27it/s]\n"
     ]
    },
    {
     "name": "stdout",
     "output_type": "stream",
     "text": [
      "Evaluating | Epoch: 24\n",
      "              precision    recall  f1-score   support\n",
      "\n",
      "           0       0.59      0.37      0.45       216\n",
      "           1       0.48      0.48      0.48       305\n",
      "           2       0.74      0.85      0.79       515\n",
      "\n",
      "    accuracy                           0.64      1036\n",
      "   macro avg       0.60      0.57      0.58      1036\n",
      "weighted avg       0.63      0.64      0.63      1036\n",
      "\n",
      "Training | Epoch: 25\n"
     ]
    },
    {
     "name": "stderr",
     "output_type": "stream",
     "text": [
      "100%|██████████| 66/66 [00:01<00:00, 60.05it/s]\n"
     ]
    },
    {
     "name": "stdout",
     "output_type": "stream",
     "text": [
      "Evaluating | Epoch: 25\n",
      "              precision    recall  f1-score   support\n",
      "\n",
      "           0       0.58      0.44      0.50       216\n",
      "           1       0.49      0.45      0.47       305\n",
      "           2       0.74      0.84      0.79       515\n",
      "\n",
      "    accuracy                           0.65      1036\n",
      "   macro avg       0.60      0.58      0.59      1036\n",
      "weighted avg       0.63      0.65      0.64      1036\n",
      "\n",
      "Training | Epoch: 26\n"
     ]
    },
    {
     "name": "stderr",
     "output_type": "stream",
     "text": [
      "100%|██████████| 66/66 [00:01<00:00, 60.22it/s]\n"
     ]
    },
    {
     "name": "stdout",
     "output_type": "stream",
     "text": [
      "Evaluating | Epoch: 26\n",
      "              precision    recall  f1-score   support\n",
      "\n",
      "           0       0.59      0.45      0.51       216\n",
      "           1       0.48      0.48      0.48       305\n",
      "           2       0.75      0.82      0.78       515\n",
      "\n",
      "    accuracy                           0.64      1036\n",
      "   macro avg       0.60      0.58      0.59      1036\n",
      "weighted avg       0.63      0.64      0.64      1036\n",
      "\n",
      "Training | Epoch: 27\n"
     ]
    },
    {
     "name": "stderr",
     "output_type": "stream",
     "text": [
      "100%|██████████| 66/66 [00:01<00:00, 60.23it/s]\n"
     ]
    },
    {
     "name": "stdout",
     "output_type": "stream",
     "text": [
      "Evaluating | Epoch: 27\n",
      "              precision    recall  f1-score   support\n",
      "\n",
      "           0       0.61      0.44      0.51       216\n",
      "           1       0.50      0.48      0.49       305\n",
      "           2       0.74      0.85      0.79       515\n",
      "\n",
      "    accuracy                           0.65      1036\n",
      "   macro avg       0.62      0.59      0.60      1036\n",
      "weighted avg       0.64      0.65      0.64      1036\n",
      "\n",
      "Training | Epoch: 28\n"
     ]
    },
    {
     "name": "stderr",
     "output_type": "stream",
     "text": [
      "100%|██████████| 66/66 [00:01<00:00, 60.19it/s]\n"
     ]
    },
    {
     "name": "stdout",
     "output_type": "stream",
     "text": [
      "Evaluating | Epoch: 28\n",
      "              precision    recall  f1-score   support\n",
      "\n",
      "           0       0.59      0.52      0.56       216\n",
      "           1       0.52      0.46      0.49       305\n",
      "           2       0.75      0.83      0.79       515\n",
      "\n",
      "    accuracy                           0.66      1036\n",
      "   macro avg       0.62      0.61      0.61      1036\n",
      "weighted avg       0.65      0.66      0.65      1036\n",
      "\n",
      "Training | Epoch: 29\n"
     ]
    },
    {
     "name": "stderr",
     "output_type": "stream",
     "text": [
      "100%|██████████| 66/66 [00:01<00:00, 60.06it/s]\n"
     ]
    },
    {
     "name": "stdout",
     "output_type": "stream",
     "text": [
      "Evaluating | Epoch: 29\n",
      "              precision    recall  f1-score   support\n",
      "\n",
      "           0       0.58      0.50      0.54       216\n",
      "           1       0.51      0.46      0.49       305\n",
      "           2       0.75      0.84      0.79       515\n",
      "\n",
      "    accuracy                           0.66      1036\n",
      "   macro avg       0.62      0.60      0.60      1036\n",
      "weighted avg       0.65      0.66      0.65      1036\n",
      "\n",
      "Training | Epoch: 30\n"
     ]
    },
    {
     "name": "stderr",
     "output_type": "stream",
     "text": [
      "100%|██████████| 66/66 [00:01<00:00, 60.10it/s]\n"
     ]
    },
    {
     "name": "stdout",
     "output_type": "stream",
     "text": [
      "Evaluating | Epoch: 30\n",
      "              precision    recall  f1-score   support\n",
      "\n",
      "           0       0.61      0.49      0.54       216\n",
      "           1       0.52      0.48      0.50       305\n",
      "           2       0.74      0.83      0.79       515\n",
      "\n",
      "    accuracy                           0.66      1036\n",
      "   macro avg       0.62      0.60      0.61      1036\n",
      "weighted avg       0.65      0.66      0.65      1036\n",
      "\n",
      "Training | Epoch: 31\n"
     ]
    },
    {
     "name": "stderr",
     "output_type": "stream",
     "text": [
      "100%|██████████| 66/66 [00:01<00:00, 60.43it/s]\n"
     ]
    },
    {
     "name": "stdout",
     "output_type": "stream",
     "text": [
      "Evaluating | Epoch: 31\n",
      "              precision    recall  f1-score   support\n",
      "\n",
      "           0       0.59      0.55      0.57       216\n",
      "           1       0.53      0.44      0.48       305\n",
      "           2       0.74      0.84      0.79       515\n",
      "\n",
      "    accuracy                           0.66      1036\n",
      "   macro avg       0.62      0.61      0.61      1036\n",
      "weighted avg       0.65      0.66      0.65      1036\n",
      "\n",
      "Training | Epoch: 32\n"
     ]
    },
    {
     "name": "stderr",
     "output_type": "stream",
     "text": [
      "100%|██████████| 66/66 [00:01<00:00, 60.24it/s]\n"
     ]
    },
    {
     "name": "stdout",
     "output_type": "stream",
     "text": [
      "Evaluating | Epoch: 32\n",
      "              precision    recall  f1-score   support\n",
      "\n",
      "           0       0.61      0.46      0.53       216\n",
      "           1       0.51      0.49      0.50       305\n",
      "           2       0.74      0.83      0.79       515\n",
      "\n",
      "    accuracy                           0.65      1036\n",
      "   macro avg       0.62      0.59      0.60      1036\n",
      "weighted avg       0.65      0.65      0.65      1036\n",
      "\n",
      "Training | Epoch: 33\n"
     ]
    },
    {
     "name": "stderr",
     "output_type": "stream",
     "text": [
      "100%|██████████| 66/66 [00:01<00:00, 60.26it/s]\n"
     ]
    },
    {
     "name": "stdout",
     "output_type": "stream",
     "text": [
      "Evaluating | Epoch: 33\n",
      "              precision    recall  f1-score   support\n",
      "\n",
      "           0       0.62      0.44      0.51       216\n",
      "           1       0.50      0.53      0.51       305\n",
      "           2       0.76      0.82      0.79       515\n",
      "\n",
      "    accuracy                           0.65      1036\n",
      "   macro avg       0.62      0.60      0.60      1036\n",
      "weighted avg       0.65      0.65      0.65      1036\n",
      "\n",
      "Training | Epoch: 34\n"
     ]
    },
    {
     "name": "stderr",
     "output_type": "stream",
     "text": [
      "100%|██████████| 66/66 [00:01<00:00, 59.74it/s]\n"
     ]
    },
    {
     "name": "stdout",
     "output_type": "stream",
     "text": [
      "Evaluating | Epoch: 34\n",
      "              precision    recall  f1-score   support\n",
      "\n",
      "           0       0.60      0.51      0.55       216\n",
      "           1       0.52      0.49      0.51       305\n",
      "           2       0.76      0.83      0.79       515\n",
      "\n",
      "    accuracy                           0.67      1036\n",
      "   macro avg       0.63      0.61      0.62      1036\n",
      "weighted avg       0.66      0.67      0.66      1036\n",
      "\n",
      "Training | Epoch: 35\n"
     ]
    },
    {
     "name": "stderr",
     "output_type": "stream",
     "text": [
      "100%|██████████| 66/66 [00:01<00:00, 60.03it/s]\n"
     ]
    },
    {
     "name": "stdout",
     "output_type": "stream",
     "text": [
      "Evaluating | Epoch: 35\n",
      "              precision    recall  f1-score   support\n",
      "\n",
      "           0       0.60      0.47      0.53       216\n",
      "           1       0.50      0.51      0.50       305\n",
      "           2       0.76      0.82      0.79       515\n",
      "\n",
      "    accuracy                           0.66      1036\n",
      "   macro avg       0.62      0.60      0.61      1036\n",
      "weighted avg       0.65      0.66      0.65      1036\n",
      "\n",
      "Training | Epoch: 36\n"
     ]
    },
    {
     "name": "stderr",
     "output_type": "stream",
     "text": [
      "100%|██████████| 66/66 [00:01<00:00, 60.05it/s]\n"
     ]
    },
    {
     "name": "stdout",
     "output_type": "stream",
     "text": [
      "Evaluating | Epoch: 36\n",
      "              precision    recall  f1-score   support\n",
      "\n",
      "           0       0.61      0.43      0.50       216\n",
      "           1       0.50      0.51      0.50       305\n",
      "           2       0.75      0.83      0.79       515\n",
      "\n",
      "    accuracy                           0.65      1036\n",
      "   macro avg       0.62      0.59      0.60      1036\n",
      "weighted avg       0.64      0.65      0.64      1036\n",
      "\n",
      "Training | Epoch: 37\n"
     ]
    },
    {
     "name": "stderr",
     "output_type": "stream",
     "text": [
      "100%|██████████| 66/66 [00:01<00:00, 59.92it/s]\n"
     ]
    },
    {
     "name": "stdout",
     "output_type": "stream",
     "text": [
      "Evaluating | Epoch: 37\n",
      "              precision    recall  f1-score   support\n",
      "\n",
      "           0       0.60      0.47      0.53       216\n",
      "           1       0.49      0.52      0.50       305\n",
      "           2       0.76      0.80      0.78       515\n",
      "\n",
      "    accuracy                           0.65      1036\n",
      "   macro avg       0.62      0.60      0.60      1036\n",
      "weighted avg       0.65      0.65      0.65      1036\n",
      "\n",
      "Training | Epoch: 38\n"
     ]
    },
    {
     "name": "stderr",
     "output_type": "stream",
     "text": [
      "100%|██████████| 66/66 [00:01<00:00, 59.98it/s]\n"
     ]
    },
    {
     "name": "stdout",
     "output_type": "stream",
     "text": [
      "Evaluating | Epoch: 38\n",
      "              precision    recall  f1-score   support\n",
      "\n",
      "           0       0.60      0.50      0.54       216\n",
      "           1       0.51      0.48      0.49       305\n",
      "           2       0.75      0.83      0.79       515\n",
      "\n",
      "    accuracy                           0.66      1036\n",
      "   macro avg       0.62      0.60      0.61      1036\n",
      "weighted avg       0.65      0.66      0.65      1036\n",
      "\n",
      "Training | Epoch: 39\n"
     ]
    },
    {
     "name": "stderr",
     "output_type": "stream",
     "text": [
      "100%|██████████| 66/66 [00:01<00:00, 60.18it/s]\n"
     ]
    },
    {
     "name": "stdout",
     "output_type": "stream",
     "text": [
      "Evaluating | Epoch: 39\n",
      "              precision    recall  f1-score   support\n",
      "\n",
      "           0       0.59      0.50      0.54       216\n",
      "           1       0.49      0.49      0.49       305\n",
      "           2       0.76      0.82      0.79       515\n",
      "\n",
      "    accuracy                           0.65      1036\n",
      "   macro avg       0.61      0.60      0.61      1036\n",
      "weighted avg       0.65      0.65      0.65      1036\n",
      "\n",
      "Training | Epoch: 40\n"
     ]
    },
    {
     "name": "stderr",
     "output_type": "stream",
     "text": [
      "100%|██████████| 66/66 [00:01<00:00, 59.90it/s]\n"
     ]
    },
    {
     "name": "stdout",
     "output_type": "stream",
     "text": [
      "Evaluating | Epoch: 40\n",
      "              precision    recall  f1-score   support\n",
      "\n",
      "           0       0.60      0.53      0.56       216\n",
      "           1       0.51      0.46      0.48       305\n",
      "           2       0.75      0.83      0.79       515\n",
      "\n",
      "    accuracy                           0.66      1036\n",
      "   macro avg       0.62      0.61      0.61      1036\n",
      "weighted avg       0.65      0.66      0.65      1036\n",
      "\n",
      "Training | Epoch: 41\n"
     ]
    },
    {
     "name": "stderr",
     "output_type": "stream",
     "text": [
      "100%|██████████| 66/66 [00:01<00:00, 60.41it/s]\n"
     ]
    },
    {
     "name": "stdout",
     "output_type": "stream",
     "text": [
      "Evaluating | Epoch: 41\n",
      "              precision    recall  f1-score   support\n",
      "\n",
      "           0       0.60      0.46      0.52       216\n",
      "           1       0.49      0.51      0.50       305\n",
      "           2       0.76      0.81      0.78       515\n",
      "\n",
      "    accuracy                           0.65      1036\n",
      "   macro avg       0.62      0.60      0.60      1036\n",
      "weighted avg       0.65      0.65      0.65      1036\n",
      "\n",
      "Training | Epoch: 42\n"
     ]
    },
    {
     "name": "stderr",
     "output_type": "stream",
     "text": [
      "100%|██████████| 66/66 [00:01<00:00, 60.04it/s]\n"
     ]
    },
    {
     "name": "stdout",
     "output_type": "stream",
     "text": [
      "Evaluating | Epoch: 42\n",
      "              precision    recall  f1-score   support\n",
      "\n",
      "           0       0.61      0.49      0.54       216\n",
      "           1       0.50      0.47      0.49       305\n",
      "           2       0.74      0.83      0.79       515\n",
      "\n",
      "    accuracy                           0.66      1036\n",
      "   macro avg       0.62      0.60      0.61      1036\n",
      "weighted avg       0.65      0.66      0.65      1036\n",
      "\n",
      "Training | Epoch: 43\n"
     ]
    },
    {
     "name": "stderr",
     "output_type": "stream",
     "text": [
      "100%|██████████| 66/66 [00:01<00:00, 60.16it/s]\n"
     ]
    },
    {
     "name": "stdout",
     "output_type": "stream",
     "text": [
      "Evaluating | Epoch: 43\n",
      "              precision    recall  f1-score   support\n",
      "\n",
      "           0       0.59      0.56      0.57       216\n",
      "           1       0.52      0.48      0.49       305\n",
      "           2       0.76      0.81      0.78       515\n",
      "\n",
      "    accuracy                           0.66      1036\n",
      "   macro avg       0.62      0.61      0.62      1036\n",
      "weighted avg       0.65      0.66      0.65      1036\n",
      "\n",
      "Training | Epoch: 44\n"
     ]
    },
    {
     "name": "stderr",
     "output_type": "stream",
     "text": [
      "100%|██████████| 66/66 [00:01<00:00, 59.22it/s]\n"
     ]
    },
    {
     "name": "stdout",
     "output_type": "stream",
     "text": [
      "Evaluating | Epoch: 44\n",
      "              precision    recall  f1-score   support\n",
      "\n",
      "           0       0.60      0.52      0.55       216\n",
      "           1       0.51      0.48      0.50       305\n",
      "           2       0.75      0.82      0.79       515\n",
      "\n",
      "    accuracy                           0.66      1036\n",
      "   macro avg       0.62      0.61      0.61      1036\n",
      "weighted avg       0.65      0.66      0.65      1036\n",
      "\n",
      "Training | Epoch: 45\n"
     ]
    },
    {
     "name": "stderr",
     "output_type": "stream",
     "text": [
      "100%|██████████| 66/66 [00:01<00:00, 59.94it/s]\n"
     ]
    },
    {
     "name": "stdout",
     "output_type": "stream",
     "text": [
      "Evaluating | Epoch: 45\n",
      "              precision    recall  f1-score   support\n",
      "\n",
      "           0       0.60      0.48      0.54       216\n",
      "           1       0.50      0.47      0.48       305\n",
      "           2       0.74      0.83      0.78       515\n",
      "\n",
      "    accuracy                           0.65      1036\n",
      "   macro avg       0.61      0.59      0.60      1036\n",
      "weighted avg       0.64      0.65      0.64      1036\n",
      "\n",
      "Training | Epoch: 46\n"
     ]
    },
    {
     "name": "stderr",
     "output_type": "stream",
     "text": [
      "100%|██████████| 66/66 [00:01<00:00, 60.33it/s]\n"
     ]
    },
    {
     "name": "stdout",
     "output_type": "stream",
     "text": [
      "Evaluating | Epoch: 46\n",
      "              precision    recall  f1-score   support\n",
      "\n",
      "           0       0.62      0.50      0.55       216\n",
      "           1       0.51      0.49      0.50       305\n",
      "           2       0.75      0.83      0.79       515\n",
      "\n",
      "    accuracy                           0.66      1036\n",
      "   macro avg       0.63      0.61      0.61      1036\n",
      "weighted avg       0.65      0.66      0.65      1036\n",
      "\n",
      "Training | Epoch: 47\n"
     ]
    },
    {
     "name": "stderr",
     "output_type": "stream",
     "text": [
      "100%|██████████| 66/66 [00:01<00:00, 60.24it/s]\n"
     ]
    },
    {
     "name": "stdout",
     "output_type": "stream",
     "text": [
      "Evaluating | Epoch: 47\n",
      "              precision    recall  f1-score   support\n",
      "\n",
      "           0       0.60      0.53      0.57       216\n",
      "           1       0.51      0.45      0.48       305\n",
      "           2       0.74      0.83      0.78       515\n",
      "\n",
      "    accuracy                           0.66      1036\n",
      "   macro avg       0.62      0.60      0.61      1036\n",
      "weighted avg       0.65      0.66      0.65      1036\n",
      "\n",
      "Training | Epoch: 48\n"
     ]
    },
    {
     "name": "stderr",
     "output_type": "stream",
     "text": [
      "100%|██████████| 66/66 [00:01<00:00, 60.13it/s]\n"
     ]
    },
    {
     "name": "stdout",
     "output_type": "stream",
     "text": [
      "Evaluating | Epoch: 48\n",
      "              precision    recall  f1-score   support\n",
      "\n",
      "           0       0.60      0.54      0.57       216\n",
      "           1       0.50      0.47      0.49       305\n",
      "           2       0.75      0.81      0.78       515\n",
      "\n",
      "    accuracy                           0.65      1036\n",
      "   macro avg       0.62      0.61      0.61      1036\n",
      "weighted avg       0.65      0.65      0.65      1036\n",
      "\n",
      "Training | Epoch: 49\n"
     ]
    },
    {
     "name": "stderr",
     "output_type": "stream",
     "text": [
      "100%|██████████| 66/66 [00:01<00:00, 60.05it/s]\n"
     ]
    },
    {
     "name": "stdout",
     "output_type": "stream",
     "text": [
      "Evaluating | Epoch: 49\n",
      "              precision    recall  f1-score   support\n",
      "\n",
      "           0       0.60      0.57      0.59       216\n",
      "           1       0.53      0.45      0.48       305\n",
      "           2       0.75      0.83      0.78       515\n",
      "\n",
      "    accuracy                           0.66      1036\n",
      "   macro avg       0.62      0.62      0.62      1036\n",
      "weighted avg       0.65      0.66      0.65      1036\n",
      "\n",
      "Training | Epoch: 50\n"
     ]
    },
    {
     "name": "stderr",
     "output_type": "stream",
     "text": [
      "100%|██████████| 66/66 [00:01<00:00, 59.86it/s]\n"
     ]
    },
    {
     "name": "stdout",
     "output_type": "stream",
     "text": [
      "Evaluating | Epoch: 50\n",
      "              precision    recall  f1-score   support\n",
      "\n",
      "           0       0.61      0.53      0.56       216\n",
      "           1       0.51      0.48      0.49       305\n",
      "           2       0.75      0.82      0.78       515\n",
      "\n",
      "    accuracy                           0.66      1036\n",
      "   macro avg       0.62      0.61      0.61      1036\n",
      "weighted avg       0.65      0.66      0.65      1036\n",
      "\n"
     ]
    }
   ],
   "source": [
    "device = torch.device(\"cuda:0\" if torch.cuda.is_available() else \"cpu\")\n",
    "# device = torch.device(\"cpu\")\n",
    "model = Network(70, 200, 3).to(device)\n",
    "\n",
    "optimizer = optim.Adam(model.parameters(), lr=3e-5)\n",
    "criterion = nn.CrossEntropyLoss()\n",
    "\n",
    "max_len = 70\n",
    "dim = 200\n",
    "\n",
    "for epoch in range(50):\n",
    "    train(epoch+1, train_ids, train_labels, device, optimizer, criterion, model, 128)\n",
    "    evaluate(epoch+1, test_ids, test_labels, device, model, 512)"
   ]
  }
 ],
 "metadata": {
  "kernelspec": {
   "display_name": "Python [conda env:py38] *",
   "language": "python",
   "name": "conda-env-py38-py"
  },
  "language_info": {
   "codemirror_mode": {
    "name": "ipython",
    "version": 3
   },
   "file_extension": ".py",
   "mimetype": "text/x-python",
   "name": "python",
   "nbconvert_exporter": "python",
   "pygments_lexer": "ipython3",
   "version": "3.8.0"
  }
 },
 "nbformat": 4,
 "nbformat_minor": 5
}
