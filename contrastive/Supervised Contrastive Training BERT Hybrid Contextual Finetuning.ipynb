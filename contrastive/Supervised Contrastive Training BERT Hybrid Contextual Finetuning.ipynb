{
 "cells": [
  {
   "cell_type": "code",
   "execution_count": 1,
   "id": "educational-potter",
   "metadata": {},
   "outputs": [],
   "source": [
    "import torch\n",
    "import torch.nn as nn\n",
    "import torch.optim as optim\n",
    "\n",
    "import json, pickle#, gzip\n",
    "# from gensim.models import Word2Vec\n",
    "from tqdm import tqdm\n",
    "import numpy as np\n",
    "import matplotlib.pyplot as plt\n",
    "from collections import Counter\n",
    "from sklearn.metrics import classification_report, f1_score"
   ]
  },
  {
   "cell_type": "code",
   "execution_count": 2,
   "id": "connected-japan",
   "metadata": {},
   "outputs": [
    {
     "name": "stdout",
     "output_type": "stream",
     "text": [
      "Sat Oct 30 16:37:59 2021       \n",
      "+-----------------------------------------------------------------------------+\n",
      "| NVIDIA-SMI 470.57.02    Driver Version: 470.57.02    CUDA Version: 11.4     |\n",
      "|-------------------------------+----------------------+----------------------+\n",
      "| GPU  Name        Persistence-M| Bus-Id        Disp.A | Volatile Uncorr. ECC |\n",
      "| Fan  Temp  Perf  Pwr:Usage/Cap|         Memory-Usage | GPU-Util  Compute M. |\n",
      "|                               |                      |               MIG M. |\n",
      "|===============================+======================+======================|\n",
      "|   0  NVIDIA GeForce ...  Off  | 00000000:01:00.0 Off |                  N/A |\n",
      "| 32%   58C    P8    18W / 250W |    630MiB / 11018MiB |      0%      Default |\n",
      "|                               |                      |                  N/A |\n",
      "+-------------------------------+----------------------+----------------------+\n",
      "|   1  NVIDIA GeForce ...  Off  | 00000000:03:00.0 Off |                  N/A |\n",
      "| 37%   41C    P8    12W / 175W |     10MiB /  7982MiB |      0%      Default |\n",
      "|                               |                      |                  N/A |\n",
      "+-------------------------------+----------------------+----------------------+\n",
      "                                                                               \n",
      "+-----------------------------------------------------------------------------+\n",
      "| Processes:                                                                  |\n",
      "|  GPU   GI   CI        PID   Type   Process name                  GPU Memory |\n",
      "|        ID   ID                                                   Usage      |\n",
      "|=============================================================================|\n",
      "|    0   N/A  N/A       897      G   /usr/lib/xorg/Xorg                 35MiB |\n",
      "|    0   N/A  N/A      1626      G   /usr/lib/xorg/Xorg                517MiB |\n",
      "|    0   N/A  N/A      1751      G   /usr/bin/gnome-shell               34MiB |\n",
      "|    0   N/A  N/A      5782      G   ...AAAAAAAAA= --shared-files       10MiB |\n",
      "|    0   N/A  N/A    268517      G   ...AAAAAAAAA= --shared-files        8MiB |\n",
      "|    1   N/A  N/A       897      G   /usr/lib/xorg/Xorg                  4MiB |\n",
      "|    1   N/A  N/A      1626      G   /usr/lib/xorg/Xorg                  4MiB |\n",
      "+-----------------------------------------------------------------------------+\n"
     ]
    }
   ],
   "source": [
    "! nvidia-smi"
   ]
  },
  {
   "cell_type": "code",
   "execution_count": 3,
   "id": "addressed-newton",
   "metadata": {},
   "outputs": [],
   "source": [
    "post_id_2_text = pickle.load(open(\"../../data/non-graph/posts_id_2_text.pkl\", \"rb\"))"
   ]
  },
  {
   "cell_type": "code",
   "execution_count": 4,
   "id": "secret-extra",
   "metadata": {},
   "outputs": [
    {
     "name": "stderr",
     "output_type": "stream",
     "text": [
      "100%|██████████| 10423/10423 [00:09<00:00, 1077.15it/s]\n"
     ]
    }
   ],
   "source": [
    "post2user = pickle.load(open(\"../../data/non-graph/post_id_2_user_id.pkl\", \"rb\"))\n",
    "user2posts = pickle.load(open(\"../../data/non-graph/user_id_posts_idx_list.pkl\", \"rb\"))\n",
    "for post_id in tqdm(post2user):\n",
    "    user_id = post2user[post_id]\n",
    "    post_ids = set(user2posts[user_id])\n",
    "    post_ids.add(post_id)\n",
    "    user2posts[user_id] = sorted(list(post_ids))"
   ]
  },
  {
   "cell_type": "code",
   "execution_count": 5,
   "id": "endangered-substitute",
   "metadata": {},
   "outputs": [
    {
     "name": "stdout",
     "output_type": "stream",
     "text": [
      "cuda:0\n"
     ]
    }
   ],
   "source": [
    "device = torch.device('cuda:0' if torch.cuda.is_available() else 'cpu')\n",
    "from transformers import AutoTokenizer, AutoModel\n",
    "model_name=\"bert-base-uncased\"\n",
    "# model_name=\"GroNLP/hateBERT\"\n",
    "# model_name=\"Hate-speech-CNERG/bert-base-uncased-hatexplain\"\n",
    "tokenizer = AutoTokenizer.from_pretrained(model_name)\n",
    "print(device)"
   ]
  },
  {
   "cell_type": "code",
   "execution_count": 6,
   "id": "experimental-homework",
   "metadata": {},
   "outputs": [],
   "source": [
    "class Classifier(nn.Module):\n",
    "    \n",
    "    def __init__(self, inp_dim, hid_dim, out_logits):\n",
    "        super(Classifier, self).__init__()\n",
    "\n",
    "        self.inp_dim = inp_dim\n",
    "        self.out_dim = out_logits\n",
    "\n",
    "        self.fc1 = nn.Linear(inp_dim, hid_dim)\n",
    "        self.fc2 = nn.Linear(hid_dim, out_logits)\n",
    "    \n",
    "    def forward(self, x):\n",
    "        assert x.shape[1] == self.inp_dim\n",
    "\n",
    "        x = self.fc1(x)\n",
    "        x = self.fc2(torch.relu(x))\n",
    "        return torch.log_softmax(x, dim=1)"
   ]
  },
  {
   "cell_type": "code",
   "execution_count": 7,
   "id": "fluid-organizer",
   "metadata": {},
   "outputs": [],
   "source": [
    "def get_contrastive_batches(post_ids, y, device, batch_size):\n",
    "    num_of_batches = y.shape[0] // batch_size + (1 if y.shape[0] % batch_size else 0)\n",
    "    shuffled_idxs = np.random.permutation(np.arange(y.shape[0]))\n",
    "    for i in range(num_of_batches):\n",
    "        batch_idxs = shuffled_idxs[i*batch_size:(i+1)*batch_size]\n",
    "        X = np.zeros((batch_idxs.shape[0], 15, max_len), dtype=np.float32)\n",
    "        for dim1, batch_idx in enumerate(batch_idxs):\n",
    "            post_id = post_ids[batch_idx][:-4]\n",
    "            positive_sample = post_id\n",
    "            while positive_sample != post_id:\n",
    "                positive_sample = np.random.choice(train_class_ids[y[batch_idx]])[:-4]\n",
    "            batch_post_ids = [post_id, positive_sample]\n",
    "            negative_classes = [label for label in range(3) if label != y[batch_idx]]\n",
    "            negative_samples = set()\n",
    "            while len(negative_samples) != 2:\n",
    "                negative_samples.add(np.random.choice(train_class_ids[negative_classes[0]])[:-4])\n",
    "            while len(negative_samples) != 4:\n",
    "                negative_samples.add(np.random.choice(train_class_ids[negative_classes[1]])[:-4])\n",
    "            batch_post_ids.extend(list(negative_samples))\n",
    "            user_id = post2user[int(post_id)]\n",
    "            positive_sample = post_id\n",
    "            while positive_sample != post_id:\n",
    "                positive_sample = str(np.random.choice(user2posts[user_id]))\n",
    "            batch_post_ids.append(positive_sample)\n",
    "            negative_user_ids = [userid for userid in user2posts if userid != user_id]\n",
    "            negative_users = set()\n",
    "            negative_samples = []\n",
    "            while len(negative_users) < 8:\n",
    "                negative_users.add(np.random.choice(negative_user_ids))\n",
    "            for userid in list(negative_users):\n",
    "                negative_samples.append(str(np.random.choice(user2posts[userid])))\n",
    "            batch_post_ids.extend(negative_samples)\n",
    "            for dim2, post_id in enumerate(batch_post_ids):\n",
    "                text = post_id_2_text[int(post_id)]\n",
    "                ids = tokenizer(text, max_length=max_len, padding=\"max_length\", truncation=True)['input_ids']\n",
    "                X[dim1, dim2] = np.array(ids, dtype=int)\n",
    "        yield torch.IntTensor(X).to(device),\\\n",
    "                torch.LongTensor(y[batch_idxs]).to(device)"
   ]
  },
  {
   "cell_type": "code",
   "execution_count": 8,
   "id": "acoustic-guard",
   "metadata": {},
   "outputs": [],
   "source": [
    "def get_context_batches(post_ids, y, device, batch_size, num=10):\n",
    "    num_of_batches = y.shape[0] // batch_size + (1 if y.shape[0] % batch_size else 0)\n",
    "    shuffled_idxs = np.random.permutation(np.arange(y.shape[0]))\n",
    "    for i in range(num_of_batches):\n",
    "        batch_idxs = shuffled_idxs[i*batch_size:(i+1)*batch_size]\n",
    "        X = np.zeros((batch_idxs.shape[0], num, max_len), dtype=np.float32)\n",
    "        for dim1, batch_idx in enumerate(batch_idxs):\n",
    "            post_id = post_ids[batch_idx][:-4]\n",
    "            batch_post_ids = [post_id]\n",
    "            user_id = post2user[int(post_id)]\n",
    "            for _ in range(num-1):\n",
    "                batch_post_ids.append(str(np.random.choice(user2posts[user_id])))\n",
    "            for dim2, post_id in enumerate(batch_post_ids):\n",
    "                text = post_id_2_text[int(post_id)]\n",
    "                ids = tokenizer(text, max_length=max_len, padding=\"max_length\", truncation=True)['input_ids']\n",
    "                X[dim1, dim2] = np.array(ids, dtype=int)\n",
    "        yield torch.IntTensor(X).to(device),\\\n",
    "                torch.LongTensor(y[batch_idxs]).to(device)"
   ]
  },
  {
   "cell_type": "code",
   "execution_count": 9,
   "id": "unnecessary-bottom",
   "metadata": {},
   "outputs": [],
   "source": [
    "def get_batches(post_ids, y, device, batch_size):\n",
    "    num_of_batches = y.shape[0] // batch_size + (1 if y.shape[0] % batch_size else 0)\n",
    "    shuffled_idxs = np.random.permutation(np.arange(y.shape[0]))\n",
    "    for i in range(num_of_batches):\n",
    "        batch_idxs = shuffled_idxs[i*batch_size:(i+1)*batch_size]\n",
    "        X = np.zeros((batch_idxs.shape[0], 1, max_len), dtype=np.float32)\n",
    "        for dim1, batch_idx in enumerate(batch_idxs):\n",
    "            post_id = int(post_ids[batch_idx][:-4])\n",
    "            batch_post_ids = [post_id]\n",
    "            for dim2, post_id in enumerate(batch_post_ids):\n",
    "                text = post_id_2_text[post_id]\n",
    "                ids = tokenizer(text, max_length=max_len, padding=\"max_length\", truncation=True)['input_ids']\n",
    "                X[dim1, dim2] = np.array(ids, dtype=int)\n",
    "        yield torch.IntTensor(X.squeeze()).to(device),\\\n",
    "                torch.LongTensor(y[batch_idxs]).to(device)"
   ]
  },
  {
   "cell_type": "code",
   "execution_count": 10,
   "id": "allied-banking",
   "metadata": {},
   "outputs": [],
   "source": [
    "def contrastive_train(epoch_num, data, labels, device, optimizers, criterion, enc, clf, batch_size=32, verbose=False):\n",
    "    print(\"Training | Epoch:\", epoch_num)\n",
    "    enc.train()\n",
    "    # clf.train()\n",
    "    losses = []\n",
    "    for i, batch in enumerate(tqdm(get_contrastive_batches(data, labels, device, batch_size),\n",
    "                                    total=data.shape[0]//batch_size+(1 if data.shape[0]%batch_size else 0))):\n",
    "        # given actual post\n",
    "        out = enc(batch[0][:,0])['pooler_output']\n",
    "        # given class level contrastive samples\n",
    "        similarities1 = torch.zeros(batch[0].shape[0], 5).to(device)\n",
    "        for j in range(1, 6):\n",
    "            with torch.no_grad():\n",
    "                out1 = enc(batch[0][:,j])['pooler_output']\n",
    "            similarities1[:, j-1] = torch.mul(out, out1).sum(dim=1)\n",
    "        loss1 = criterion(torch.log_softmax(similarities1, dim=1), torch.zeros(batch[0].shape[0], dtype=int).to(device))\n",
    "        # given user level contrastive samples\n",
    "        similarities2 = torch.zeros(batch[0].shape[0], 9).to(device)\n",
    "        for j in range(6, 15):\n",
    "            with torch.no_grad():\n",
    "                out2 = enc(batch[0][:,j])['pooler_output']\n",
    "            similarities2[:, j-6] = torch.mul(out, out2).sum(dim=1)\n",
    "        loss2 = criterion(torch.log_softmax(similarities2, dim=1), torch.zeros(batch[0].shape[0], dtype=int).to(device))\n",
    "        batch_loss = loss1 + loss2\n",
    "        for optimizer in optimizers:\n",
    "            optimizer.zero_grad()\n",
    "        batch_loss.backward()\n",
    "        for optimizer in reversed(optimizers):\n",
    "            optimizer.step()\n",
    "        losses.append(batch_loss.item())\n",
    "        if verbose:\n",
    "            print(\"Epoch:\", epoch_num, \"| Iter:\", i+1, \"| Loss1:\", round(loss1.item(), 4),\\\n",
    "                  \"| Loss2:\", round(loss2.item(), 4), \"| Total Loss:\", round(batch_loss.item(), 4))\n",
    "    enc.eval()\n",
    "    clf.eval()\n",
    "    return losses"
   ]
  },
  {
   "cell_type": "code",
   "execution_count": 11,
   "id": "psychological-region",
   "metadata": {},
   "outputs": [],
   "source": [
    "def label_finetune(epoch_num, data, labels, device, optimizers, criterion, enc, clf, batch_size=32, verbose=False):\n",
    "    print(\"Training | Epoch:\", epoch_num)\n",
    "    enc.train()\n",
    "    clf.train()\n",
    "    losses = []\n",
    "    for i, batch in enumerate(tqdm(get_batches(data, labels, device, batch_size),\n",
    "                                    total=data.shape[0]//batch_size+(1 if data.shape[0]%batch_size else 0))):\n",
    "        inp = enc(batch[0])['pooler_output']\n",
    "        out = clf(inp)\n",
    "        loss = criterion(out, batch[1])\n",
    "        for optimizer in optimizers:\n",
    "            optimizer.zero_grad()\n",
    "        loss.backward()\n",
    "        for optimizer in reversed(optimizers):\n",
    "            optimizer.step()\n",
    "        losses.append(loss.item())\n",
    "        if verbose:\n",
    "            print(\"Epoch:\", epoch_num, \"| Iter:\", i+1, \"| Loss:\", round(loss.item(), 4))\n",
    "    enc.eval()\n",
    "    clf.eval()\n",
    "    return losses"
   ]
  },
  {
   "cell_type": "code",
   "execution_count": 12,
   "id": "based-membership",
   "metadata": {},
   "outputs": [],
   "source": [
    "def context_finetune(epoch_num, data, labels, device, optimizers, criterion, enc, clf, batch_size=32, verbose=False):\n",
    "    print(\"Training | Epoch:\", epoch_num)\n",
    "    enc.train()\n",
    "    clf.train()\n",
    "    losses = []\n",
    "    for i, batch in enumerate(tqdm(get_context_batches(data, labels, device, batch_size),\n",
    "                                    total=data.shape[0]//batch_size+(1 if data.shape[0]%batch_size else 0))):\n",
    "        outs = []\n",
    "        for j in range(10):\n",
    "            if j > 0:\n",
    "                with torch.no_grad():\n",
    "                    outs.append(clf(enc(batch[0][:,j])['pooler_output']))\n",
    "                continue\n",
    "            outs.append(clf(enc(batch[0][:,j])['pooler_output']))\n",
    "        loss = criterion(outs[0], batch[1])\n",
    "        for out in outs[1:]:\n",
    "            loss += criterion(out, batch[1])\n",
    "        for optimizer in optimizers:\n",
    "            optimizer.zero_grad()\n",
    "        loss.backward()\n",
    "        for optimizer in reversed(optimizers):\n",
    "            optimizer.step()\n",
    "        losses.append(loss.item())\n",
    "        if verbose:\n",
    "            print(\"Epoch:\", epoch_num, \"| Iter:\", i+1, \"| Loss:\", round(loss.item(), 4))\n",
    "    enc.eval()\n",
    "    clf.eval()\n",
    "    return losses"
   ]
  },
  {
   "cell_type": "code",
   "execution_count": 13,
   "id": "valued-clearance",
   "metadata": {},
   "outputs": [],
   "source": [
    "def evaluate(epoch_num, data, labels, device, enc, clf, batch_size=64):\n",
    "    print(\"Evaluating | Epoch:\", epoch_num)\n",
    "    enc.eval()\n",
    "    clf.eval()\n",
    "    y_preds = []\n",
    "    y_tests = []\n",
    "    for batch in tqdm(get_batches(data, labels, device, batch_size),\\\n",
    "                                    total=data.shape[0]//batch_size+(1 if data.shape[0]%batch_size else 0)):\n",
    "        with torch.no_grad():\n",
    "            inp = enc(batch[0])['pooler_output']\n",
    "            out = clf(inp)\n",
    "        for y in batch[1].cpu().numpy():\n",
    "            y_tests.append(y)\n",
    "        for y in out.argmax(dim=1).cpu().numpy():\n",
    "            y_preds.append(y)\n",
    "    print(classification_report(y_tests, y_preds))\n",
    "    print(round(f1_score(y_tests, y_preds, average=\"macro\"), 4), round(f1_score(y_tests, y_preds, average=\"micro\"), 4))"
   ]
  },
  {
   "cell_type": "code",
   "execution_count": 14,
   "id": "relative-worthy",
   "metadata": {},
   "outputs": [],
   "source": [
    "def get_ids_and_labels(split):\n",
    "    ids = [i for i in pid[split] if 'gab' in i]\n",
    "    labels = [label_dict[Counter([j[\"label\"] for j in data[i][\"annotators\"]]).most_common(1)[0][0]] for i in pid[split] if 'gab' in i]\n",
    "    return np.array(ids), np.array(labels)"
   ]
  },
  {
   "cell_type": "code",
   "execution_count": 15,
   "id": "obvious-dictionary",
   "metadata": {},
   "outputs": [],
   "source": [
    "data_path = '../../data/commons/dataset.json'\n",
    "pid_path = '../../data/commons/post_id_divisions.json'\n",
    "\n",
    "with open(pid_path) as f:\n",
    "    pid = json.load(f)\n",
    "with open(data_path) as f:\n",
    "    data = json.load(f)\n",
    "\n",
    "label_dict = {'normal': 0, 'offensive': 1, 'hatespeech': 2}\n",
    "\n",
    "train_ids, train_labels = get_ids_and_labels(\"train\")\n",
    "val_ids, val_labels = get_ids_and_labels(\"val\")\n",
    "test_ids, test_labels = get_ids_and_labels(\"test\")"
   ]
  },
  {
   "cell_type": "code",
   "execution_count": 16,
   "id": "italian-windows",
   "metadata": {},
   "outputs": [],
   "source": [
    "train_class_ids = []\n",
    "train_class_ids.append(sorted(list(train_ids[train_labels==0])))\n",
    "train_class_ids.append(sorted(list(train_ids[train_labels==1])))\n",
    "train_class_ids.append(sorted(list(train_ids[train_labels==2])))"
   ]
  },
  {
   "cell_type": "code",
   "execution_count": 21,
   "id": "listed-mother",
   "metadata": {
    "scrolled": false
   },
   "outputs": [
    {
     "data": {
      "text/plain": [
       "<All keys matched successfully>"
      ]
     },
     "execution_count": 21,
     "metadata": {},
     "output_type": "execute_result"
    }
   ],
   "source": [
    "# max_len = 128\n",
    "# encoder = AutoModel.from_pretrained('../../../../mlm/checkpoint-201500').to(device)\n",
    "# classifier = Classifier(768, 128, 3).to(device)\n",
    "optimizer1 = optim.Adam(encoder.parameters(), lr=1e-6)\n",
    "optimizer2 = optim.Adam(classifier.parameters(), lr=1e-5)\n",
    "optimizers = [optimizer1, optimizer2]\n",
    "# criterion = nn.NLLLoss()\n",
    "\n",
    "# aux_losses = []\n",
    "# for i in range(3):\n",
    "#     aux_losses.extend(contrastive_train(i+1, train_ids, train_labels, device, optimizers, criterion, encoder, classifier, 32))\n",
    "# plt.plot(aux_losses)\n",
    "# plt.show()\n",
    "# torch.save(encoder.state_dict(), \"encoder_hxbert_user_class_NLL.pth\")\n",
    "\n",
    "encoder.load_state_dict(torch.load(\"encoder_hxbert_user_class_NLL.pth\"))\n",
    "# encoder.load_state_dict(torch.load(\"encoder_hxbert_user_class.pth\"))\n",
    "# classifier.load_state_dict(torch.load(\"classifier_hxbert_user_class.pth\"))"
   ]
  },
  {
   "cell_type": "code",
   "execution_count": 22,
   "id": "complicated-trainer",
   "metadata": {
    "scrolled": false
   },
   "outputs": [
    {
     "name": "stdout",
     "output_type": "stream",
     "text": [
      "Training | Epoch: 1\n"
     ]
    },
    {
     "name": "stderr",
     "output_type": "stream",
     "text": [
      "100%|██████████| 262/262 [05:08<00:00,  1.18s/it]\n"
     ]
    },
    {
     "name": "stdout",
     "output_type": "stream",
     "text": [
      "Evaluating | Epoch: 1\n"
     ]
    },
    {
     "name": "stderr",
     "output_type": "stream",
     "text": [
      "100%|██████████| 33/33 [00:02<00:00, 11.19it/s]\n"
     ]
    },
    {
     "name": "stdout",
     "output_type": "stream",
     "text": [
      "              precision    recall  f1-score   support\n",
      "\n",
      "           0       0.62      0.59      0.61       216\n",
      "           1       0.56      0.52      0.54       305\n",
      "           2       0.79      0.84      0.81       515\n",
      "\n",
      "    accuracy                           0.69      1036\n",
      "   macro avg       0.66      0.65      0.65      1036\n",
      "weighted avg       0.69      0.69      0.69      1036\n",
      "\n",
      "0.6522 0.6921\n",
      "Training | Epoch: 2\n"
     ]
    },
    {
     "name": "stderr",
     "output_type": "stream",
     "text": [
      "100%|██████████| 262/262 [05:08<00:00,  1.18s/it]\n"
     ]
    },
    {
     "name": "stdout",
     "output_type": "stream",
     "text": [
      "Evaluating | Epoch: 2\n"
     ]
    },
    {
     "name": "stderr",
     "output_type": "stream",
     "text": [
      "100%|██████████| 33/33 [00:02<00:00, 11.31it/s]\n"
     ]
    },
    {
     "name": "stdout",
     "output_type": "stream",
     "text": [
      "              precision    recall  f1-score   support\n",
      "\n",
      "           0       0.68      0.54      0.60       216\n",
      "           1       0.57      0.51      0.54       305\n",
      "           2       0.75      0.87      0.81       515\n",
      "\n",
      "    accuracy                           0.69      1036\n",
      "   macro avg       0.67      0.64      0.65      1036\n",
      "weighted avg       0.68      0.69      0.69      1036\n",
      "\n",
      "0.6488 0.694\n",
      "Training | Epoch: 3\n"
     ]
    },
    {
     "name": "stderr",
     "output_type": "stream",
     "text": [
      "100%|██████████| 262/262 [05:07<00:00,  1.17s/it]\n"
     ]
    },
    {
     "name": "stdout",
     "output_type": "stream",
     "text": [
      "Evaluating | Epoch: 3\n"
     ]
    },
    {
     "name": "stderr",
     "output_type": "stream",
     "text": [
      "100%|██████████| 33/33 [00:02<00:00, 11.24it/s]\n"
     ]
    },
    {
     "name": "stdout",
     "output_type": "stream",
     "text": [
      "              precision    recall  f1-score   support\n",
      "\n",
      "           0       0.67      0.57      0.62       216\n",
      "           1       0.57      0.50      0.53       305\n",
      "           2       0.76      0.87      0.81       515\n",
      "\n",
      "    accuracy                           0.70      1036\n",
      "   macro avg       0.67      0.65      0.65      1036\n",
      "weighted avg       0.69      0.70      0.69      1036\n",
      "\n",
      "0.6539 0.6969\n"
     ]
    },
    {
     "data": {
      "image/png": "[encoded data removed]",
      "text/plain": [
       "<Figure size 432x288 with 1 Axes>"
      ]
     },
     "metadata": {
      "needs_background": "light"
     },
     "output_type": "display_data"
    }
   ],
   "source": [
    "# losses = []\n",
    "for i in range(3):\n",
    "    losses.extend(context_finetune(i+1, train_ids, train_labels, device, optimizers, criterion, encoder, classifier, 32))\n",
    "    evaluate(i+1, test_ids, test_labels, device, encoder, classifier, batch_size=32)\n",
    "plt.plot(losses)\n",
    "plt.show()"
   ]
  },
  {
   "cell_type": "code",
   "execution_count": null,
   "id": "charitable-graphics",
   "metadata": {},
   "outputs": [],
   "source": [
    "# torch.save(encoder.state_dict(), \"encoder_hatebert_user_class.pth\")\n",
    "# torch.save(classifier.state_dict(), \"classifier_hatebert_user_class.pth\")"
   ]
  }
 ],
 "metadata": {
  "kernelspec": {
   "display_name": "Python [conda env:py38] *",
   "language": "python",
   "name": "conda-env-py38-py"
  },
  "language_info": {
   "codemirror_mode": {
    "name": "ipython",
    "version": 3
   },
   "file_extension": ".py",
   "mimetype": "text/x-python",
   "name": "python",
   "nbconvert_exporter": "python",
   "pygments_lexer": "ipython3",
   "version": "3.8.0"
  }
 },
 "nbformat": 4,
 "nbformat_minor": 5
}
