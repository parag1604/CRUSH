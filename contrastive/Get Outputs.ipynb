{
 "cells": [
  {
   "cell_type": "code",
   "execution_count": 1,
   "id": "educational-potter",
   "metadata": {},
   "outputs": [],
   "source": [
    "import torch\n",
    "import torch.nn as nn\n",
    "import torch.optim as optim\n",
    "\n",
    "import json, pickle, gzip\n",
    "from gensim.models import Word2Vec\n",
    "from tqdm import tqdm\n",
    "import numpy as np\n",
    "import matplotlib.pyplot as plt\n",
    "from collections import Counter\n",
    "from sklearn.metrics import classification_report"
   ]
  },
  {
   "cell_type": "code",
   "execution_count": 2,
   "id": "addressed-newton",
   "metadata": {},
   "outputs": [],
   "source": [
    "post_id_2_text = pickle.load(open(\"../../data/non-graph/posts_id_2_text.pkl\", \"rb\"))"
   ]
  },
  {
   "cell_type": "code",
   "execution_count": 3,
   "id": "endangered-substitute",
   "metadata": {},
   "outputs": [
    {
     "name": "stdout",
     "output_type": "stream",
     "text": [
      "cuda:0\n"
     ]
    }
   ],
   "source": [
    "device = torch.device('cuda:0' if torch.cuda.is_available() else 'cpu')\n",
    "from transformers import AutoTokenizer, AutoModel\n",
    "model_name = \"bert-base-uncased\"\n",
    "# model_name = \"Hate-speech-CNERG/bert-base-uncased-hatexplain\"\n",
    "tokenizer = AutoTokenizer.from_pretrained(model_name)\n",
    "print(device)"
   ]
  },
  {
   "cell_type": "code",
   "execution_count": 4,
   "id": "experimental-homework",
   "metadata": {},
   "outputs": [],
   "source": [
    "class Classifier(nn.Module):\n",
    "    \n",
    "    def __init__(self, inp_dim, out_logits):\n",
    "        super(Classifier, self).__init__()\n",
    "\n",
    "        self.inp_dim = inp_dim\n",
    "        self.out_dim = out_logits\n",
    "\n",
    "        self.fc1 = nn.Linear(inp_dim, 128)\n",
    "        self.fc2 = nn.Linear(128, out_logits)\n",
    "    \n",
    "    def forward(self, x):\n",
    "        assert x.shape[1] == self.inp_dim\n",
    "\n",
    "        x = self.fc1(x)\n",
    "        x = self.fc2(torch.relu(x))\n",
    "        return torch.log_softmax(x, dim=1)"
   ]
  },
  {
   "cell_type": "code",
   "execution_count": 5,
   "id": "moving-lawrence",
   "metadata": {},
   "outputs": [],
   "source": [
    "def get_batches(post_ids, y, device, batch_size, shuffle=True):\n",
    "    num_of_batches = y.shape[0] // batch_size + (1 if y.shape[0] % batch_size else 0)\n",
    "    if shuffle:\n",
    "        shuffled_idxs = np.random.permutation(np.arange(y.shape[0]))\n",
    "    else:\n",
    "        shuffled_idxs = np.arange(y.shape[0])\n",
    "    for i in range(num_of_batches):\n",
    "        batch_idxs = shuffled_idxs[i*batch_size:(i+1)*batch_size]\n",
    "        X = np.zeros((batch_idxs.shape[0], 1, max_len), dtype=np.float32)\n",
    "        for dim1, batch_idx in enumerate(batch_idxs):\n",
    "            post_id = int(post_ids[batch_idx][:-4])\n",
    "            batch_post_ids = [post_id]\n",
    "            for dim2, post_id in enumerate(batch_post_ids):\n",
    "                text = post_id_2_text[post_id]\n",
    "                ids = tokenizer(text, max_length=max_len, padding=\"max_length\", truncation=True)['input_ids']\n",
    "                X[dim1, dim2] = np.array(ids, dtype=int)\n",
    "        yield torch.IntTensor(X.squeeze()).to(device),\\\n",
    "                torch.LongTensor(y[batch_idxs]).to(device)"
   ]
  },
  {
   "cell_type": "code",
   "execution_count": 7,
   "id": "designed-induction",
   "metadata": {},
   "outputs": [],
   "source": [
    "def label_train(epoch_num, data, labels, device, optimizer1, optimizer2, criterion, enc, clf, batch_size=32, verbose=False):\n",
    "    print(\"Training | Epoch:\", epoch_num)\n",
    "    enc.train()\n",
    "    clf.train()\n",
    "    losses = []\n",
    "    for i, batch in enumerate(tqdm(get_batches(data, labels, device, batch_size),\n",
    "                                    total=data.shape[0]//batch_size+(1 if data.shape[0]%batch_size else 0))):\n",
    "        inp = enc(batch[0])['pooler_output']\n",
    "        out = clf(inp)\n",
    "        loss = criterion(out, batch[1])\n",
    "        optimizer1.zero_grad()\n",
    "        optimizer2.zero_grad()\n",
    "        loss.backward()\n",
    "        optimizer2.step()\n",
    "        optimizer1.step()\n",
    "        losses.append(loss.item())\n",
    "        if verbose:\n",
    "            print(\"Epoch:\", epoch_num, \"| Iter:\", i+1, \"| Loss:\", round(loss.item(), 4))\n",
    "    clf.eval()\n",
    "    enc.eval()\n",
    "    return losses"
   ]
  },
  {
   "cell_type": "code",
   "execution_count": 6,
   "id": "relative-worthy",
   "metadata": {},
   "outputs": [],
   "source": [
    "def get_ids_and_labels(split):\n",
    "    ids = [i for i in pid[split] if 'gab' in i]\n",
    "    labels = [label_dict[Counter([j[\"label\"] for j in data[i][\"annotators\"]]).most_common(1)[0][0]]\\\n",
    "              for i in pid[split] if 'gab' in i]\n",
    "    return np.array(ids), np.array(labels)"
   ]
  },
  {
   "cell_type": "code",
   "execution_count": 32,
   "id": "valued-clearance",
   "metadata": {},
   "outputs": [],
   "source": [
    "def evaluate(epoch_num, data, labels, device, enc, clf, batch_size=64):\n",
    "    print(\"Evaluating | Epoch:\", epoch_num)\n",
    "    enc.eval()\n",
    "    clf.eval()\n",
    "    y_preds = []\n",
    "    y_tests = []\n",
    "    for batch in tqdm(get_batches(data, labels, device, batch_size, False),\\\n",
    "                                    total=data.shape[0]//batch_size+(1 if data.shape[0]%batch_size else 0)):\n",
    "        with torch.no_grad():\n",
    "            inp = enc(batch[0])['pooler_output']\n",
    "        out = clf(inp)\n",
    "        for y in batch[1].cpu().numpy():\n",
    "            y_tests.append(y)\n",
    "        for y in out.argmax(dim=1).cpu().numpy():\n",
    "            y_preds.append(y)\n",
    "    print(classification_report(y_tests, y_preds))\n",
    "    return y_tests"
   ]
  },
  {
   "cell_type": "code",
   "execution_count": 8,
   "id": "obvious-dictionary",
   "metadata": {},
   "outputs": [],
   "source": [
    "data_path = '../../data/commons/dataset.json'\n",
    "pid_path = '../../data/commons/post_id_divisions.json'\n",
    "\n",
    "with open(pid_path) as f:\n",
    "    pid = json.load(f)\n",
    "with open(data_path) as f:\n",
    "    data = json.load(f)\n",
    "\n",
    "label_dict = {'normal': 0, 'offensive': 1, 'hatespeech': 2}\n",
    "\n",
    "train_ids, train_labels = get_ids_and_labels(\"train\")\n",
    "val_ids, val_labels = get_ids_and_labels(\"val\")\n",
    "test_ids, test_labels = get_ids_and_labels(\"test\")"
   ]
  },
  {
   "cell_type": "code",
   "execution_count": 9,
   "id": "public-myrtle",
   "metadata": {
    "scrolled": false
   },
   "outputs": [
    {
     "name": "stderr",
     "output_type": "stream",
     "text": [
      "Some weights of the model checkpoint at bert-base-uncased were not used when initializing BertModel: ['cls.seq_relationship.bias', 'cls.predictions.transform.dense.weight', 'cls.predictions.transform.dense.bias', 'cls.predictions.transform.LayerNorm.weight', 'cls.predictions.bias', 'cls.predictions.decoder.weight', 'cls.seq_relationship.weight', 'cls.predictions.transform.LayerNorm.bias']\n",
      "- This IS expected if you are initializing BertModel from the checkpoint of a model trained on another task or with another architecture (e.g. initializing a BertForSequenceClassification model from a BertForPreTraining model).\n",
      "- This IS NOT expected if you are initializing BertModel from the checkpoint of a model that you expect to be exactly identical (initializing a BertForSequenceClassification model from a BertForSequenceClassification model).\n"
     ]
    }
   ],
   "source": [
    "max_len = 128\n",
    "encoder = AutoModel.from_pretrained(model_name).to(device)\n",
    "classifier = Classifier(768, 3).to(device)"
   ]
  },
  {
   "cell_type": "code",
   "execution_count": 29,
   "id": "charitable-graphics",
   "metadata": {},
   "outputs": [
    {
     "data": {
      "text/plain": [
       "<All keys matched successfully>"
      ]
     },
     "execution_count": 29,
     "metadata": {},
     "output_type": "execute_result"
    }
   ],
   "source": [
    "encoder.load_state_dict(torch.load(\"encoder_bert_user_class.pth\"))\n",
    "classifier.load_state_dict(torch.load(\"classifier_bert_user_class.pth\"))"
   ]
  },
  {
   "cell_type": "code",
   "execution_count": 33,
   "id": "essential-gothic",
   "metadata": {},
   "outputs": [
    {
     "name": "stdout",
     "output_type": "stream",
     "text": [
      "Evaluating | Epoch: -1\n"
     ]
    },
    {
     "name": "stderr",
     "output_type": "stream",
     "text": [
      "100%|██████████| 33/33 [00:02<00:00, 11.67it/s]"
     ]
    },
    {
     "name": "stdout",
     "output_type": "stream",
     "text": [
      "              precision    recall  f1-score   support\n",
      "\n",
      "           0       0.63      0.60      0.62       216\n",
      "           1       0.55      0.58      0.56       305\n",
      "           2       0.82      0.80      0.81       515\n",
      "\n",
      "    accuracy                           0.69      1036\n",
      "   macro avg       0.67      0.66      0.66      1036\n",
      "weighted avg       0.70      0.69      0.70      1036\n",
      "\n"
     ]
    },
    {
     "name": "stderr",
     "output_type": "stream",
     "text": [
      "\n"
     ]
    }
   ],
   "source": [
    "ys = evaluate(-1, test_ids, test_labels, device, encoder, classifier, batch_size=32)"
   ]
  },
  {
   "cell_type": "code",
   "execution_count": 34,
   "id": "psychological-detroit",
   "metadata": {
    "scrolled": false
   },
   "outputs": [
    {
     "name": "stdout",
     "output_type": "stream",
     "text": [
      ", 2, 1, 2, 0, 2, 1, 2, 1, 2, 2, 2, 2, 2, 0, 0, 2, 1, 2, 2, 2, 0, 1, 2, 2, 2, 2, 0, 0, 1, 2, 2, 0, 2, 1, 1, 0, 2, 2, 0, 2, 1, 0, 0, 1, 1, 2, 2, 2, 2, 0, 2, 2, 2, 1, 1, 2, 0, 2, 1, 2, 2, 2, 2, 2, 1, 0, 2, 0, 1, 2, 2, 2, 1, 0, 2, 0, 2, 2, 0, 1, 1, 0, 2, 2, 2, 2, 2, 0, 1, 0, 2, 0, 1, 2, 2, 1, 1, 2, 1, 2, 1, 2, 2, 1, 2, 1, 2, 0, 1, 1, 0, 2, 0, 2, 2, 2, 2, 2, 0, 1, 2, 0, 1, 2, 2, 2, 1, 2, 2, 2, 2, 2, 0, 2, 2, 0, 2, 2, 2, 2, 0, 1, 1, 2, 2, 2, 2, 2, 2, 2, 2, 2, 2, 2, 2, 2, 1, 1, 0, 0, 1, 2, 2, 1, 2, 1, 1, 2, 1, 2, 1, 2, 2, 2, 1, 1, 1, 2, 2, 1, 2, 2, 2, 0, 2, 2, 2, 2, 2, 2, 2, 2, 2, 2, 1, 2, 0, 2, 2, 2, 0, 0, 0, 2, 0, 2, 2, 2, 2, 2, 1, 0, 1, 2, 1, 0, 1, 0, 0, 2, 2, 2, 2, 2, 0, 2, 2, 1, 0, 2, 2, 2, 0, 2, 1, 1, 1, 1, 2, 1, 0, 0, 2, 0, 1, 1, 0, 2, 1, 1, 2, 0, 2, 2, 2, 0, 2, 0, 1, 1, 2, 2, 1, 1, 0, 1, 2, 2, 2, 2, 2, 0, 2, 1, 0, 0, 1, 0, 1, 1, 1, 1, 2, 1, 0, 2, 2, 2, 2, 1, 2, 1, 2, 2, 2, 1, 0, 1, 1, 1, 0, 1, 2, 2, 0, 0, 2, 0, 0, 2, 2, 2, 2, 1, 1, 2, 0, 2, 0, 2, 2, 1, 0, 2, 2, 2, 0, 2, 0, 2, 1, 0, 2, 2, 1, 2, 2, 1, 2, 1, 2, 0, 0, 1, 2, 2, 0, 1, 0, 0, 2, 2, 0, 0, 1, 0, 0, 2, 2, 2, 2, 0, 0, 1, 0, 2, 2, 2, 1, 2, 2, 1, 0, 1, 0, 1, 0, 1, 1, 1, 1, 2, 2, 0, 0, 1, 2, 2, 2, 1, 2, 1, 2, 0, 2, 2, 1, 2, 1, 2, 2, 2, 0, 2, 1, 0, 0, 2, 2, 2, 2, 2, 2, 2, 2, 1, 2, 0, 2, 2, 2, 0, 2, 1, 1, 1, 1, 2, 1, 0, 2, 1, 0, 2, 2, 2, 1, 2, 2, 0, 0, 2, 1, 2, 2, 2, 2, 0, 0, 2, 1, 2, 2, 2, 1, 1, 2, 2, 1, 0, 1, 1, 0, 2, 2, 1, 0, 2, 1, 2, 2, 0, 2, 0, 2, 1, 2, 2, 1, 1, 2, 1, 2, 0, 2, 2, 2, 0, 1, 2, 0, 0, 1, 2, 1, 2, 1, 1, 2, 2, 1, 1, 2, 2, 2, 2, 0, 0, 1, 1, 0, 0, 2, 0, 2, 1, 0, 2, 2, 2, 1, 0, 1, 1, 2, 2, 1, 1, 2, 2, 2, 2, 1, 1, 2, 0, 2, 2, 0, 1, 1, 2, 1, 2, 1, 1, 2, 0, 1, 1, 1, 1, 2, 2, 2, 2, 2, 1, 1, 0, 1, 0, 2, 0, 0, 2, 1, 2, 2, 2, 2, 1, 0, 0, 1, 2, 1, 2, 1, 2, 1, 1, 0, 2, 0, 2, 0, 0, 2, 2, 1, 1, 0, 2, 2, 1, 0, 1, 0, 2, 0, 1, 2, 2, 0, 2, 2, 0, 1, 2, 2, 2, 0, 0, 0, 2, 2, 2, 2, 1, 1, 1, 0, 1, 0, 1, 0, 1, 2, 2, 0, 0, 0, 0, 1, 1, 2, 2, 2, 0, 2, 2, 2, 1, 2, 2, 0, 1, 2, 0, 2, 1, 2, 2, 0, 2, 1, 1, 0, 2, 2, 2, 2, 1, 1, 1, 0, 2, 1, 2, 0, 2, 1, 2, 0, 2, 2, 1, 1, 2, 0, 2, 2, 2, 2, 1, 2, 1, 2, 0, 1, 1, 0, 2, 0, 2, 0, 1, 0, 1, 2, 1, 1, 2, 0, 1, 2, 2, 2, 2, 1, 0, 1, 2, 0, 2, 1, 2, 1, 2, 0, 2, 2, 1, 2, 0, 1, 2, 2, 1, 0, 2, 2, 2, 0, 2, 2, 2, 2, 2, 2, 0, 2, 1, 2, 0, 2, 2, 2, 2, 2, 2, 0, 1, 2, 1, 2, 2, 2, 1, 2, 1, 2, 2, 1, 1, 0, 1, 2, 1, 2, 2, 0, 2, 0, 0, 2, 2, 2, 1, 1, 2, 2, 0, 2, 2, 1, 0, 0, 2, 1, 1, 2, 1, 2, 1, 2, 0, 2, 1, 1, 1, 1, 2, 1, 1, 2, 2, 1, 2, 0, 2, 2, 2, 2, 0, 2, 2, 1, 0, 0, 2, 2, 2, 1, 2, 1, 1, 2, 1, 1, 2, 1, 0, 1, 1, 1, 0, 2, 0, 1, 2, 1, 2, 1, 1, 2, 2, 1, 2, 2, 1, 1, 2, 2, 2, 0, 1, 1, 0, 0, 1, 1, 0, 2, 0, 2, 1, 2, 2, 1, 2, 1, 0, 1, 2, 1, 2, 2, 2, 2, 1, 2, 0, 0, 2, 2, 2, 1, 2, 2, 0, 1, 2, 2, 2, 2, 2, 0, 2, 0, 2, 1, 2, 2, 0, 2, 2, 0, 1, 0, 1, 1, 0, 1, 2, 2, 2, 1, 2, 2, 2, 2, 2, 1, 2, 2, 0, 1, 0, 0, 2, 2, 1, 2, 2, 0, 2, 2, 0, 2, 2, 1, 0, 2, 2, 2, 2, 1, 0, 2, 0, 0, 2, 1, 1, 2, 0, 2, 2, 2, 2, 2, 1, 2, 1, 2, 1, 0, 2, 2, 1, 2, 1, 2, 2, 2, 1, 2, 1, 1, 1, 2, 1, 1, 1, 1, 1, 1, 1, 1, 0, 2, 1, 2, 1, 1, 2, 0, 1, 2, 2, 1, 0, 1, 1, 1, 2, 2, 0, 1, 1, 2, 0, 1, 0, 1, 2, 2, 2, 2, 2, 2, 1, 2, 1, 1, 0, 1, 2, 1, 1, 2, 1, 2, 2"
     ]
    }
   ],
   "source": [
    "for y in ys:\n",
    "    print(\",\",y,end=\"\")"
   ]
  }
 ],
 "metadata": {
  "kernelspec": {
   "display_name": "Python [conda env:py38] *",
   "language": "python",
   "name": "conda-env-py38-py"
  },
  "language_info": {
   "codemirror_mode": {
    "name": "ipython",
    "version": 3
   },
   "file_extension": ".py",
   "mimetype": "text/x-python",
   "name": "python",
   "nbconvert_exporter": "python",
   "pygments_lexer": "ipython3",
   "version": "3.8.0"
  }
 },
 "nbformat": 4,
 "nbformat_minor": 5
}
