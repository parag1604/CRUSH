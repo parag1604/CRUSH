{
 "cells": [
  {
   "cell_type": "code",
   "execution_count": null,
   "id": "interesting-nurse",
   "metadata": {},
   "outputs": [],
   "source": [
    "# p = 0.02\n",
    "# p = 0.05\n",
    "# p = 0.1\n",
    "# p = 0.2\n",
    "p = 1.0"
   ]
  },
  {
   "cell_type": "code",
   "execution_count": null,
   "id": "educational-potter",
   "metadata": {},
   "outputs": [],
   "source": [
    "import torch\n",
    "import torch.nn as nn\n",
    "import torch.optim as optim\n",
    "\n",
    "import json, pickle, gzip\n",
    "from gensim.models import Word2Vec\n",
    "from tqdm import tqdm\n",
    "import numpy as np\n",
    "import matplotlib.pyplot as plt\n",
    "from collections import Counter\n",
    "from sklearn.metrics import classification_report"
   ]
  },
  {
   "cell_type": "code",
   "execution_count": 3,
   "id": "connected-japan",
   "metadata": {},
   "outputs": [
    {
     "name": "stdout",
     "output_type": "stream",
     "text": [
      "Sun Nov 14 02:11:32 2021       \n",
      "+-----------------------------------------------------------------------------+\n",
      "| NVIDIA-SMI 470.82.01    Driver Version: 470.82.01    CUDA Version: 11.4     |\n",
      "|-------------------------------+----------------------+----------------------+\n",
      "| GPU  Name        Persistence-M| Bus-Id        Disp.A | Volatile Uncorr. ECC |\n",
      "| Fan  Temp  Perf  Pwr:Usage/Cap|         Memory-Usage | GPU-Util  Compute M. |\n",
      "|                               |                      |               MIG M. |\n",
      "|===============================+======================+======================|\n",
      "|   0  NVIDIA GeForce ...  Off  | 00000000:01:00.0  On |                  N/A |\n",
      "| 37%   62C    P8    19W / 250W |    360MiB / 11018MiB |      0%      Default |\n",
      "|                               |                      |                  N/A |\n",
      "+-------------------------------+----------------------+----------------------+\n",
      "|   1  NVIDIA GeForce ...  Off  | 00000000:03:00.0 Off |                  N/A |\n",
      "| 36%   40C    P8    12W / 175W |     10MiB /  7982MiB |      0%      Default |\n",
      "|                               |                      |                  N/A |\n",
      "+-------------------------------+----------------------+----------------------+\n",
      "                                                                               \n",
      "+-----------------------------------------------------------------------------+\n",
      "| Processes:                                                                  |\n",
      "|  GPU   GI   CI        PID   Type   Process name                  GPU Memory |\n",
      "|        ID   ID                                                   Usage      |\n",
      "|=============================================================================|\n",
      "|    0   N/A  N/A       908      G   /usr/lib/xorg/Xorg                 35MiB |\n",
      "|    0   N/A  N/A     11239      G   /usr/lib/xorg/Xorg                188MiB |\n",
      "|    0   N/A  N/A     11364      G   /usr/bin/gnome-shell               26MiB |\n",
      "|    0   N/A  N/A     11708      G   ...AAAAAAAAA= --shared-files       40MiB |\n",
      "|    0   N/A  N/A     13617      G   ...AAAAAAAAA= --shared-files       52MiB |\n",
      "|    1   N/A  N/A       908      G   /usr/lib/xorg/Xorg                  4MiB |\n",
      "|    1   N/A  N/A     11239      G   /usr/lib/xorg/Xorg                  4MiB |\n",
      "+-----------------------------------------------------------------------------+\n"
     ]
    }
   ],
   "source": [
    "! nvidia-smi"
   ]
  },
  {
   "cell_type": "code",
   "execution_count": 4,
   "id": "addressed-newton",
   "metadata": {},
   "outputs": [],
   "source": [
    "post_id_2_text = pickle.load(open(\"../../data/non-graph/posts_id_2_text.pkl\", \"rb\"))"
   ]
  },
  {
   "cell_type": "code",
   "execution_count": 5,
   "id": "secret-extra",
   "metadata": {},
   "outputs": [
    {
     "name": "stderr",
     "output_type": "stream",
     "text": [
      "100%|██████████| 10423/10423 [00:10<00:00, 1029.78it/s]\n"
     ]
    }
   ],
   "source": [
    "post2user = pickle.load(open(\"../../data/non-graph/post_id_2_user_id.pkl\", \"rb\"))\n",
    "user2posts = pickle.load(open(\"user_id_posts_idx_list.pkl\", \"rb\"))\n",
    "for post_id in tqdm(post2user):\n",
    "    user_id = post2user[post_id]\n",
    "    post_ids = set(user2posts[user_id])\n",
    "    post_ids.add(post_id)\n",
    "    user2posts[user_id] = sorted(list(post_ids))"
   ]
  },
  {
   "cell_type": "code",
   "execution_count": 6,
   "id": "endangered-substitute",
   "metadata": {},
   "outputs": [
    {
     "name": "stdout",
     "output_type": "stream",
     "text": [
      "cuda:0\n"
     ]
    }
   ],
   "source": [
    "device = torch.device('cuda:0' if torch.cuda.is_available() else 'cpu')\n",
    "from transformers import AutoTokenizer, AutoModel\n",
    "model_name=\"bert-base-uncased\"\n",
    "# model_name=\"GroNLP/hateBERT\"\n",
    "# model_name=\"Hate-speech-CNERG/bert-base-uncased-hatexplain\"\n",
    "tokenizer = AutoTokenizer.from_pretrained(model_name)\n",
    "print(device)"
   ]
  },
  {
   "cell_type": "code",
   "execution_count": 7,
   "id": "experimental-homework",
   "metadata": {},
   "outputs": [],
   "source": [
    "class Classifier(nn.Module):\n",
    "    \n",
    "    def __init__(self, inp_dim, hid_dim, out_logits):\n",
    "        super(Classifier, self).__init__()\n",
    "\n",
    "        self.inp_dim = inp_dim\n",
    "        self.out_dim = out_logits\n",
    "\n",
    "        self.fc1 = nn.Linear(inp_dim, hid_dim)\n",
    "        self.fc2 = nn.Linear(hid_dim, out_logits)\n",
    "    \n",
    "    def forward(self, x):\n",
    "        assert x.shape[1] == self.inp_dim\n",
    "\n",
    "        x = self.fc1(x)\n",
    "        x = self.fc2(torch.relu(x))\n",
    "        return torch.log_softmax(x, dim=1)"
   ]
  },
  {
   "cell_type": "code",
   "execution_count": 8,
   "id": "fluid-organizer",
   "metadata": {},
   "outputs": [],
   "source": [
    "def get_contrastive_batches(post_ids, y, device, batch_size):\n",
    "    num_of_batches = y.shape[0] // batch_size + (1 if y.shape[0] % batch_size else 0)\n",
    "    shuffled_idxs = np.random.permutation(np.arange(y.shape[0]))\n",
    "    for i in range(num_of_batches):\n",
    "        batch_idxs = shuffled_idxs[i*batch_size:(i+1)*batch_size]\n",
    "        X = np.zeros((batch_idxs.shape[0], 15, max_len), dtype=np.float32)\n",
    "        for dim1, batch_idx in enumerate(batch_idxs):\n",
    "            post_id = post_ids[batch_idx][:-4]\n",
    "#             positive_sample = post_id\n",
    "#             while positive_sample != post_id:\n",
    "#                 positive_sample = np.random.choice(train_class_ids[y[batch_idx]])[:-4]\n",
    "            positive_sample = np.random.choice(train_class_ids[y[batch_idx]])[:-4]\n",
    "            batch_post_ids = [post_id, positive_sample]\n",
    "            negative_classes = [label for label in range(3) if label != y[batch_idx]]\n",
    "#             negative_samples = set()\n",
    "#             while len(negative_samples) != 2:\n",
    "#                 negative_samples.add(np.random.choice(train_class_ids[negative_classes[0]])[:-4])\n",
    "            negative_samples = []\n",
    "            negative_samples.append(np.random.choice(train_class_ids[negative_classes[0]])[:-4])\n",
    "            negative_samples.append(np.random.choice(train_class_ids[negative_classes[0]])[:-4])\n",
    "#             while len(negative_samples) != 4:\n",
    "#                 negative_samples.add(np.random.choice(train_class_ids[negative_classes[1]])[:-4])\n",
    "            negative_samples.add(np.random.choice(train_class_ids[negative_classes[1]])[:-4])\n",
    "            negative_samples.add(np.random.choice(train_class_ids[negative_classes[1]])[:-4])\n",
    "            batch_post_ids.extend(list(negative_samples))\n",
    "            user_id = post2user[int(post_id)]\n",
    "#             positive_sample = post_id\n",
    "#             while positive_sample != post_id:\n",
    "#                 positive_sample = str(np.random.choice(user2posts[user_id]))\n",
    "            positive_sample = str(np.random.choice(user2posts[user_id]))\n",
    "            batch_post_ids.append(positive_sample)\n",
    "            negative_user_ids = [userid for userid in user2posts if userid != user_id]\n",
    "            negative_users = set()\n",
    "            negative_samples = []\n",
    "            while len(negative_users) < 8:\n",
    "                negative_users.add(np.random.choice(negative_user_ids))\n",
    "            for userid in list(negative_users):\n",
    "                negative_samples.append(str(np.random.choice(user2posts[userid])))\n",
    "            batch_post_ids.extend(negative_samples)\n",
    "            for dim2, post_id in enumerate(batch_post_ids):\n",
    "                text = post_id_2_text[int(post_id)]\n",
    "                ids = tokenizer(text, max_length=max_len, padding=\"max_length\", truncation=True)['input_ids']\n",
    "                X[dim1, dim2] = np.array(ids, dtype=int)\n",
    "        yield torch.IntTensor(X).to(device),\\\n",
    "                torch.LongTensor(y[batch_idxs]).to(device)"
   ]
  },
  {
   "cell_type": "code",
   "execution_count": 9,
   "id": "unnecessary-bottom",
   "metadata": {},
   "outputs": [],
   "source": [
    "def get_batches(post_ids, y, device, batch_size, shuffle=True):\n",
    "    num_of_batches = y.shape[0] // batch_size + (1 if y.shape[0] % batch_size else 0)\n",
    "    if shuffle:\n",
    "        shuffled_idxs = np.random.permutation(np.arange(y.shape[0]))\n",
    "    else:\n",
    "        shuffled_idxs = np.arange(y.shape[0])\n",
    "    for i in range(num_of_batches):\n",
    "        batch_idxs = shuffled_idxs[i*batch_size:(i+1)*batch_size]\n",
    "        X = np.zeros((batch_idxs.shape[0], 1, max_len), dtype=np.float32)\n",
    "        for dim1, batch_idx in enumerate(batch_idxs):\n",
    "            post_id = int(post_ids[batch_idx][:-4])\n",
    "            batch_post_ids = [post_id]\n",
    "            for dim2, post_id in enumerate(batch_post_ids):\n",
    "                text = post_id_2_text[post_id]\n",
    "                ids = tokenizer(text, max_length=max_len, padding=\"max_length\", truncation=True)['input_ids']\n",
    "                X[dim1, dim2] = np.array(ids, dtype=int)\n",
    "        yield torch.IntTensor(X.squeeze()).to(device),\\\n",
    "                torch.LongTensor(y[batch_idxs]).to(device)"
   ]
  },
  {
   "cell_type": "code",
   "execution_count": 10,
   "id": "allied-banking",
   "metadata": {},
   "outputs": [],
   "source": [
    "def contrastive_train(epoch_num, data, labels, device, optimizers, criterion, enc, clf, batch_size=32, verbose=False):\n",
    "    print(\"Training | Epoch:\", epoch_num)\n",
    "    enc.train()\n",
    "    # clf.train()\n",
    "    losses = []\n",
    "    for i, batch in enumerate(tqdm(get_contrastive_batches(data, labels, device, batch_size),\n",
    "                                    total=data.shape[0]//batch_size+(1 if data.shape[0]%batch_size else 0))):\n",
    "        # given actual post\n",
    "        out = enc(batch[0][:,0])['pooler_output']\n",
    "        # given class level contrastive samples\n",
    "        similarities1 = torch.zeros(batch[0].shape[0], 5).to(device)\n",
    "        for j in range(1, 6):\n",
    "            with torch.no_grad():\n",
    "                out1 = enc(batch[0][:,j])['pooler_output']\n",
    "            similarities1[:, j-1] = torch.mul(out, out1).sum(dim=1)\n",
    "        loss1 = criterion(torch.log_softmax(similarities1, dim=1), torch.zeros(batch[0].shape[0], dtype=int).to(device))\n",
    "        # given user level contrastive samples\n",
    "        similarities2 = torch.zeros(batch[0].shape[0], 9).to(device)\n",
    "        for j in range(6, 15):\n",
    "            with torch.no_grad():\n",
    "                out2 = enc(batch[0][:,j])['pooler_output']\n",
    "            similarities2[:, j-6] = torch.mul(out, out2).sum(dim=1)\n",
    "        loss2 = criterion(torch.log_softmax(similarities2, dim=1), torch.zeros(batch[0].shape[0], dtype=int).to(device))\n",
    "        batch_loss = loss1 + loss2\n",
    "        for optimizer in optimizers:\n",
    "            optimizer.zero_grad()\n",
    "        batch_loss.backward()\n",
    "        for optimizer in reversed(optimizers):\n",
    "            optimizer.step()\n",
    "        losses.append(batch_loss.item())\n",
    "        if verbose:\n",
    "            print(\"Epoch:\", epoch_num, \"| Iter:\", i+1, \"| Loss1:\", round(loss1.item(), 4),\\\n",
    "                  \"| Loss2:\", round(loss2.item(), 4), \"| Total Loss:\", round(batch_loss.item(), 4))\n",
    "    enc.eval()\n",
    "    clf.eval()\n",
    "    return losses"
   ]
  },
  {
   "cell_type": "code",
   "execution_count": 11,
   "id": "psychological-region",
   "metadata": {},
   "outputs": [],
   "source": [
    "def label_finetune(epoch_num, data, labels, device, optimizer, criterion, enc, clf, batch_size=32, verbose=False):\n",
    "    print(\"Training | Epoch:\", epoch_num)\n",
    "    enc.train()\n",
    "    clf.train()\n",
    "    losses = []\n",
    "    for i, batch in enumerate(tqdm(get_batches(data, labels, device, batch_size),\n",
    "                                    total=data.shape[0]//batch_size+(1 if data.shape[0]%batch_size else 0))):\n",
    "        inp = enc(batch[0])['pooler_output']\n",
    "        out = clf(inp)\n",
    "        loss = criterion(out, batch[1])\n",
    "        for optimizer in optimizers:\n",
    "            optimizer.zero_grad()\n",
    "        loss.backward()\n",
    "        for optimizer in reversed(optimizers):\n",
    "            optimizer.step()\n",
    "        losses.append(loss.item())\n",
    "        if verbose:\n",
    "            print(\"Epoch:\", epoch_num, \"| Iter:\", i+1, \"| Loss:\", round(loss.item(), 4))\n",
    "    enc.eval()\n",
    "    clf.eval()\n",
    "    return losses"
   ]
  },
  {
   "cell_type": "code",
   "execution_count": 12,
   "id": "valued-clearance",
   "metadata": {},
   "outputs": [],
   "source": [
    "def evaluate(epoch_num, data, labels, device, enc, clf, batch_size=64, shuffle=True):\n",
    "    print(\"Evaluating | Epoch:\", epoch_num)\n",
    "    enc.eval()\n",
    "    clf.eval()\n",
    "    y_preds = []\n",
    "    y_tests = []\n",
    "    for batch in tqdm(get_batches(data, labels, device, batch_size, shuffle=shuffle),\\\n",
    "                                    total=data.shape[0]//batch_size+(1 if data.shape[0]%batch_size else 0)):\n",
    "        with torch.no_grad():\n",
    "            inp = enc(batch[0])['pooler_output']\n",
    "            out = clf(inp)\n",
    "        for y in batch[1].cpu().numpy():\n",
    "            y_tests.append(y)\n",
    "        for y in out.argmax(dim=1).cpu().numpy():\n",
    "            y_preds.append(y)\n",
    "    print(classification_report(y_tests, y_preds, digits=4))\n",
    "    return y_preds"
   ]
  },
  {
   "cell_type": "code",
   "execution_count": 13,
   "id": "relative-worthy",
   "metadata": {},
   "outputs": [],
   "source": [
    "def get_ids_and_labels(split):\n",
    "    ids = [i for i in pid[split] if 'gab' in i]\n",
    "    labels = [label_dict[Counter([j[\"label\"] for j in data[i][\"annotators\"]]).most_common(1)[0][0]] for i in pid[split] if 'gab' in i]\n",
    "    return np.array(ids), np.array(labels)"
   ]
  },
  {
   "cell_type": "code",
   "execution_count": 14,
   "id": "obvious-dictionary",
   "metadata": {},
   "outputs": [],
   "source": [
    "data_path = '../../data/commons/dataset.json'\n",
    "pid_path = '../../data/commons/post_id_divisions.json'\n",
    "\n",
    "with open(pid_path) as f:\n",
    "    pid = json.load(f)\n",
    "with open(data_path) as f:\n",
    "    data = json.load(f)\n",
    "\n",
    "label_dict = {'normal': 0, 'offensive': 1, 'hatespeech': 2}\n",
    "\n",
    "train_ids, train_labels = get_ids_and_labels(\"train\")\n",
    "val_ids, val_labels = get_ids_and_labels(\"val\")\n",
    "test_ids, test_labels = get_ids_and_labels(\"test\")"
   ]
  },
  {
   "cell_type": "code",
   "execution_count": 15,
   "id": "vital-commercial",
   "metadata": {},
   "outputs": [],
   "source": [
    "train_ids = train_ids[:int(len(train_labels)*p)]\n",
    "train_labels = train_labels[:int(len(train_labels)*p)]"
   ]
  },
  {
   "cell_type": "code",
   "execution_count": 16,
   "id": "italian-windows",
   "metadata": {},
   "outputs": [],
   "source": [
    "train_class_ids = []\n",
    "train_class_ids.append(sorted(list(train_ids[train_labels==0])))\n",
    "train_class_ids.append(sorted(list(train_ids[train_labels==1])))\n",
    "train_class_ids.append(sorted(list(train_ids[train_labels==2])))"
   ]
  },
  {
   "cell_type": "code",
   "execution_count": 21,
   "id": "listed-mother",
   "metadata": {
    "scrolled": false
   },
   "outputs": [
    {
     "data": {
      "text/plain": [
       "<All keys matched successfully>"
      ]
     },
     "execution_count": 21,
     "metadata": {},
     "output_type": "execute_result"
    }
   ],
   "source": [
    "# max_len = 128\n",
    "# encoder = AutoModel.from_pretrained(\"../../../../mlm/checkpoint-201500\").to(device)\n",
    "# classifier = Classifier(768, 128, 3).to(device)\n",
    "# optimizer1 = optim.Adam(encoder.parameters(), lr=1e-5)\n",
    "# optimizer2 = optim.Adam(classifier.parameters(), lr=1e-4)\n",
    "# optimizers = [optimizer1, optimizer2]\n",
    "# criterion = nn.NLLLoss()\n",
    "\n",
    "# aux_losses = []\n",
    "# for i in range(5):\n",
    "#     aux_losses.extend(contrastive_train(i+1, train_ids, train_labels, device, optimizers, criterion, encoder, classifier, 32))\n",
    "# plt.plot(aux_losses)\n",
    "# plt.show()\n",
    "# torch.save(encoder.state_dict(), \"encoder_hxbert_user_class_NLL.pth\")\n",
    "\n",
    "# encoder.load_state_dict(torch.load(\"encoder_hxbert_user_class_NLL.pth\"))\n",
    "encoder.load_state_dict(torch.load(\"encoder_hxbert_user_class.pth\"))\n",
    "classifier.load_state_dict(torch.load(\"classifier_hxbert_user_class.pth\"))"
   ]
  },
  {
   "cell_type": "code",
   "execution_count": 19,
   "id": "complicated-trainer",
   "metadata": {
    "scrolled": false
   },
   "outputs": [
    {
     "name": "stdout",
     "output_type": "stream",
     "text": [
      "Training | Epoch: 1\n"
     ]
    },
    {
     "name": "stderr",
     "output_type": "stream",
     "text": [
      "100%|██████████| 262/262 [01:10<00:00,  3.74it/s]\n"
     ]
    },
    {
     "name": "stdout",
     "output_type": "stream",
     "text": [
      "Evaluating | Epoch: 1\n"
     ]
    },
    {
     "name": "stderr",
     "output_type": "stream",
     "text": [
      "100%|██████████| 33/33 [00:02<00:00, 11.16it/s]"
     ]
    },
    {
     "name": "stdout",
     "output_type": "stream",
     "text": [
      "              precision    recall  f1-score   support\n",
      "\n",
      "           0     0.5917    0.6574    0.6228       216\n",
      "           1     0.6250    0.4262    0.5068       305\n",
      "           2     0.7653    0.8738    0.8160       515\n",
      "\n",
      "    accuracy                         0.6969      1036\n",
      "   macro avg     0.6607    0.6525    0.6485      1036\n",
      "weighted avg     0.6878    0.6969    0.6847      1036\n",
      "\n"
     ]
    },
    {
     "name": "stderr",
     "output_type": "stream",
     "text": [
      "\n"
     ]
    }
   ],
   "source": [
    "losses = []\n",
    "for i in range(1):\n",
    "    losses.extend(label_finetune(i+1, train_ids, train_labels, device, optimizers, criterion, encoder, classifier, 32))\n",
    "    evaluate(i+1, test_ids, test_labels, device, encoder, classifier, batch_size=32)\n",
    "# plt.plot(losses)\n",
    "# plt.show()"
   ]
  },
  {
   "cell_type": "code",
   "execution_count": null,
   "id": "charitable-graphics",
   "metadata": {},
   "outputs": [],
   "source": [
    "# torch.save(encoder.state_dict(), \"encoder_hatebert_user_class.pth\")\n",
    "# torch.save(classifier.state_dict(), \"classifier_hatebert_user_class.pth\")"
   ]
  },
  {
   "cell_type": "code",
   "execution_count": 22,
   "id": "amber-public",
   "metadata": {},
   "outputs": [
    {
     "name": "stdout",
     "output_type": "stream",
     "text": [
      "Evaluating | Epoch: 1\n"
     ]
    },
    {
     "name": "stderr",
     "output_type": "stream",
     "text": [
      "100%|██████████| 22/22 [00:02<00:00,  8.16it/s]"
     ]
    },
    {
     "name": "stdout",
     "output_type": "stream",
     "text": [
      "              precision    recall  f1-score   support\n",
      "\n",
      "           0     0.6650    0.6065    0.6344       216\n",
      "           1     0.5813    0.5508    0.5657       305\n",
      "           2     0.7873    0.8408    0.8131       515\n",
      "\n",
      "    accuracy                         0.7066      1036\n",
      "   macro avg     0.6779    0.6660    0.6711      1036\n",
      "weighted avg     0.7011    0.7066    0.7030      1036\n",
      "\n"
     ]
    },
    {
     "name": "stderr",
     "output_type": "stream",
     "text": [
      "\n"
     ]
    }
   ],
   "source": [
    "test_y_hx = evaluate(1, test_ids, test_labels, device, encoder, classifier, batch_size=48, shuffle=False)"
   ]
  },
  {
   "cell_type": "code",
   "execution_count": 23,
   "id": "royal-communications",
   "metadata": {
    "scrolled": false
   },
   "outputs": [
    {
     "name": "stdout",
     "output_type": "stream",
     "text": [
      "1 | 2 | i hope there are not many of my fellow asians in sweden high chance of falling victim to islamic rape gangs in that country\n",
      "2 | 2 | jew faggot milo is king of the alt right great it not the alt right anymore\n",
      "3 | 1 | imagine being so disconnected that youd think a dickies work shirt and some black pants are comparable to a fur suit imagine crying about optics while writing for a site that screams nigger in every title like a <number> year old on xbox love who d just found 4 chan\n",
      "4 | 2 | america is supposed to be home to free speech except there is one problem most of the platforms are privately owned by jews and the jews could not care less about your free speech wake up white people the jews control what you see and hear be vigilant\n",
      "5 | 2 | if they are seeking asylum from a terrible mussie country why then are they working so hard to turn these gracious countries into the very mussie countries they claim to be fleeing we all know that answer immediately\n",
      "6 | 1 | <user> they resisted it for <number> years along with the nubeans in the south of sudan that is a beautiful and remarkable history of resisting evil i gotta tell u u have to read genesis <number> <number> the story of ishmael and u will see arabs today perfectly described\n",
      "7 | 0 | brigham and women hospital a teaching hospital of harvard medical school is taking down portraits of white medical legends because they reinforce white men are in charge liberal craziness diversity\n",
      "8 | 2 | well my dear lgbtq brothers and sisters i don ’ t want to die at the hands of a muslim terrorist and as you are putting my life in danger with your politics i would like to suggest that you all go fuck yourselves\n",
      "9 | 1 | obama was ghetto bigger so yes\n",
      "10 | 1 | talk to me when one of the dumb tradthots get shot over their views or something no one gives a shit about some idiot getting detained on muslim grounds anymore this isnt <number>\n",
      "11 | 1 | they have thousands of years of practice but the fuckers keep re branding themselves in history books so nobody realizes it the same jews using the same rabid arabs century after century\n",
      "12 | 2 | you can ’ t culturally enrich a moslem\n",
      "13 | 0 | four days before i deactivate my twitter account and i do not miss it one bit gab fam outshines jackbrats it not even funny welcome all refugees 🖐\n",
      "14 | 0 | on the left jews putting a sad face for the pictures that they would publish around the world on the right the same jews celebrating that their enemies were killing each other and soon israel would be created without shedding a single drop of jewish blood\n",
      "15 | 0 | kenyun paki at <number>\n",
      "16 | 2 | if we are being brutally honest here i am not pro because <user> is a scumbag piece of shit aziz anzari type arrogant entitled shitskin and i would not piss on him to put out a fire so mr torba gets nothing from me until he gone\n",
      "17 | 1 | i guess you are not good at statistics how many cities have whites burned and looted how many ghettos have they created how many first world civilizations have blacks created why did they never invent the wheel or written language why do they still live in mud huts\n",
      "18 | 0 | no most people are good people do you think all men are evil maybe because you have been victimized yourself you do know there are many women who are pediofiles do not you\n",
      "19 | 1 | a dyke puts the mannish moves on a femme at a lesbian bar in paris <number> photograph by george brassai\n",
      "20 | 2 | look who introduced theresa may to phillip may always a connection as to why paki muslims have raped with impunity g4s protects the grooming gangs that why tommy robinson has been imprisoned always a link\n",
      "21 | 1 | token astronauts jeanette epps negress replaced with mexican chic x feed the fish sally ride lesbian quota affirmative action segregation hbcu\n",
      "22 | 1 | islam continues to spread because of arabs\n",
      "23 | 2 | plenty of faggots to talk to\n",
      "24 | 1 | obama to cubans you can not stay sorry cubans but what about the illegal immigrants from mexico obama they get to stay they vote democrat result obama just guaranteed trump will win florida in <number> gab gab fam speak freely maga cuba\n",
      "25 | 1 | the ultimate anti muslim weapon a muslim being killed by a women means no virgins in heaven the armed kurdish women brigades caused fear and running of isis in syria this is the time for our sisters to take control of the destiny of the human race\n",
      "26 | 2 | the labour party has <number> mps in prison for paedophilia <number> mps and councillors on the sex registry <number> million white kids raped by paki muslims all labour voters covered up by labour councils mps and a pm\n",
      "27 | 0 | america is so racist that they think asians are smarter than blacks and hispanics they also pay asians more too and asians are more highly represented in high tech industries i blame white people\n",
      "28 | 2 | wherever trump goes there is love peace and happiness except for israel only jews would kill around <number> people in his presence\n",
      "29 | 2 | white south africans are the real refugees we need to be saving let the arabs and africans save their own people for a change oh wait that who the supposed refugees are running from burn it all no more refugees shoot then deport\n",
      "30 | 1 | the muslims have fled and are claiming benefits in europe and the jews are sitting safe and sound in new york and washington rubbing their hands together spending the proceeds of stolen oil\n",
      "31 | 0 | do asians like you ever feel any shame for invading us universities in such overwhelming numbers\n",
      "32 | 1 | whatever ivan bollockov you keep flapping like a bitch i will get your dad to turn your wifi off and confiscate your phone\n",
      "33 | 0 | <user> it actually country but ghetto stole it\n",
      "34 | 1 | when a cucked trump faggot thinks you are a libertarian\n",
      "35 | 0 | we are lucky his son died before he got sudden jihad syndrome the ft hood shooter killed more us soldiers than moslem soldiers have died fighting for the us in the past <number> years that is easily checked\n",
      "36 | 2 | see how lefties turn on their poster girl aung san suu kyi mynarmar cos she will not bend to dhimmi traitor politicians un by appeasing moslems unhcr head is a moslem screams genocide irony yet mentions nothing of ongoing moslem genocide of christians in middle east me says go for it aung\n",
      "37 | 2 | european history of <number> years speaks with one voice exterminate the jews before they exterminate you white genocide\n",
      "38 | 2 | the hill as always twists it up it not the religious right it the religious left that run refugee placement programs and such like the jackasses settle muzzies in paterson nj\n",
      "39 | 1 | still avoiding my questions i see castrato what do you have against people hating the marxist cultural agenda led by your beloved jews who also lead the homosexual movement which you apparently support is it because you are a faggoty posin person masquerading as a christian\n",
      "40 | 0 | re the <number> people who recently followed me have you no taste or standards i will try to return the follow asap i am just making sure you are not a window licking nazi larping annoying drama queen i can only handleso much of that so far so good they follow me wtf\n",
      "41 | 1 | that seems like a misleading generalization i heard black women do not like giving oral i bet the black gays do though and the dl guys probably do so prob <number> <percent> tops\n",
      "42 | 0 | omg we just had a monster queers on american idol lmfao 😂 😂 😂\n",
      "43 | 2 | women should be ashamed of themselves for letting transgender lesbian man hating dykes speak for them shame on you\n",
      "44 | 0 | it worth remembering that in <number> meryl streep actually stood up and applauded a man who drugged then raped a <number> year old girl streep was fully aware of the rape and supported him nonetheless child rape ok democracy not so much yikes\n",
      "45 | 2 | i guess i get complacent and forget not everyone lives in florida or has heard their names most anyone i talk to in a real life situation knows of them of course most anyone i talk to here is in agreement where liberals rats and muzzies are concerned\n",
      "46 | 2 | fuck a bunch of amnesty every last one of these illegal immigrants need to be rounded up like a herd of cattle and sent back to whatever shithole of a country they came from\n",
      "47 | 1 | it a mediocre tinder knockoff where women are required to message men first it useless in eastern europe because the only women who use it are british or irish tourists\n",
      "48 | 1 | really apart from tunnelling what have the arabs provided the world with\n",
      "49 | 1 | at it root it is a muh dick and gibs me dat ideology no wonder it is so popular among blacks even though they have no idea how much the arabs hate them and still trade them into slavery\n",
      "50 | 2 | this is milo pussy grabbing moment if you will we get to learn who the loyalists are and who the pusillanimous cuckservative faggots are trump maga milo pussy grabbing gab fam milo <user> dread ilk vfm fake news\n",
      "51 | 1 | now he comes aaron judge certainly one of the hotter yankees michael kay no homo\n",
      "52 | 1 | i must ve been lucky back in my days of chasing poon as i found jewish women to be very easy as long as i pretended to have money\n",
      "53 | 0 | specific threats of violence should never be permitted kill the honky is allowed as it is interpreted as political speech kill that honky at <number> main street is a specific threat and should be banned\n",
      "54 | 1 | <user> the only problem i see right now with this is the robot is white so even if you do grant it rights some ghetto niggas are going to come along and kidnap it because it white and mostly like supported donald j trump for president\n",
      "55 | 1 | we have several generations of women utterly incapable of making even the simplest sandwich\n",
      "56 | 0 | i will stop caring for the arabs when i see militias cleaning house in dearborn michigan\n",
      "57 | 2 | that is about the most faggot ass looking shit a man could wear bet ya any sumbitch that dons this bs is packing a man purse too\n",
      "58 | 0 | this dude sits around all day trying to argue with anglin others then probably bitched about targeted harassment all day\n",
      "59 | 1 | i am an american but i am ethnically chinese people often ask me what does ching chong ching chong mean i always answer it means go fuck yourself you retarded democrat speak freely\n",
      "60 | 0 | i never thought about race in terms of iq or nationalism it wasn t until the stupid left under dindunuffin obama that the anti white screed began to get loud and now i am a white nationalist thanks to the racist left i am embracing my ancestry my genes my origins white and proud\n",
      "61 | 2 | <user> and <user> jailed today for highlighting the paki gangs raping british children in towns and cities across the uk our police will not do anything about it because they are busy engaging in this degeneracy\n",
      "62 | 2 | iran our women and children are being raped murdered and stabbed by invading barbarians and we are worried about muh democracy in iran wtf iranprotests\n",
      "63 | 0 | <user> may as well put you to good use <user> this is an example of a muslim catfish study it have fun with it but if you want to cry at me for a few more hrs i suppose that would just say some thing no\n",
      "64 | 1 | i can only assume that our govts are corrupted by saudi qatari money and in return have promised to put muslims above every non muslim citizen that the only thing that makes sense which means next ge we have to elect an uncorrupted govt\n",
      "65 | 0 | that charlottesville violence is aweful for years the rightys refrained from violence while the islamic extremists and registered democrats perpetrated it more times than a guy can count on two hands it does not help em that anytime folks tries to assemble the leftys show up to egg people on\n",
      "66 | 2 | you can sleep safe at night knowing these wonderful ladies at nato are defending you from moslem terrorist\n",
      "67 | 0 | the french government position is that france is made stronger by the immigrants it is bribing to leave porter\n",
      "68 | 1 | the tsarnaev brothers remember them sorry you may know them by another title boston bombers shocking they were also called refugees what are the odds that islamic muslim refugees commit terrorism on the people and country they are taught to hate gab fam maga america first islam\n",
      "69 | 1 | my paki muslim neighbour just got a job as a traffic warden i said what wrong mate were you unhappy that people did not hate you enough\n",
      "70 | 1 | liberals call potus trump supporters white supremacists nazis and coons but whine because he calls fat boy in nk rocket man ❄ hypocrites 😂\n",
      "71 | 1 | arabs can barely build guided rockets\n",
      "72 | 1 | excuse me oh no i wasn t born into incest that was birthed out of the anus of a wunder you will have to take that up with that fat ginger state goobering retard lol\n",
      "73 | 0 | no guys this based chinaman billionaire is going to make america great again\n",
      "74 | 1 | welp tinder was exactly what i expected <percent> ugly fat chicks <percent> duckfaced instagram models fishing for likes <percent> prog dykes uninstall\n",
      "75 | 1 | <user> you do not consider anything presented to you as evidence let alone irrefutable evidence you just continue to diagree you shifted this argument from the jews pushing the muslims in to the holocaust to af diary you can not win so you shift are you black or a woman\n",
      "76 | 1 | egad my home is being invaded by black ants i wonder if this is some sort of cosmic symbolism for the third world immigrant invasion probably not i have not heard of any mexicans getting crushed by the thumb of damocles\n",
      "77 | 1 | i am gonna go now but i will be back later we are just getting started you and i better rummage through your closet and find your dancing shoes bitch boy we are not done by a long shot\n",
      "78 | 0 | saudi arabia is about <percent> afro arab these are the original african arabs who were out of african migrants from the earliest days of human kind into arabia and stayed there and are indeed a black people saracens original arabs original berbers and semites are dark african peoples you know this\n",
      "79 | 1 | 1 0 th floor maybe wow cnn with the fake news the body count is going to be waay bad too but we can all go home now they have the white ar <number> toting suicide shooter with huge drum mags dead on the 3 2 nd floor\n",
      "80 | 1 | loved 7 0 comedy you could say nigga paki and be lazy and chase women with big bristols and john and larry were the brighton element\n",
      "81 | 2 | the german regime is more scared of women like this than than are of any moslem terrorist\n",
      "82 | 2 | <number> year old black man charged with raping a <number> year old child in al it no secret why the black man loves islam because that moo haamed guy tells me i gots to gets me a <number> year old maga <user> <user>\n",
      "83 | 0 | in all of us there lies two wolves a dark wolf and a white wolf the native american says the one you feed is the one that grows odin says feed them both grow them strong and unleash the one that suits the situation\n",
      "84 | 0 | keft wing nazi <number> life\n",
      "85 | 1 | i am a retarded fucking jew\n",
      "86 | 0 | as the zionist controlled tech industry marginalises the voice of white interests i have applied for refugee status at gab first they came for dailystormer then they came for stormfront next they came for cuckservatives moral is stop punching right as you will be next\n",
      "87 | 0 | <user> turkish immigrants in germany did invent that wonderful post pub delicacy the döner kebab so that drunk people could eat shwarma whilst stumbling home i can not imagine that mo or al would be one bit happy with their entrepreneurial spirit unleashed by wonderful western freedom\n",
      "88 | 2 | yah christian island republic shall not have queers or witches on it if we find any death\n",
      "89 | 1 | how is all that awesome muslim diversity going for you native germans you have allowed this yourselves if you do not stand and fight against this you get what you asked for what you deserve\n",
      "90 | 1 | <user> hey joo phebus you have still never explained your ties to jew lawyers and liberal actvists like diversity law group all you had to do is explain but you refuse but you demand others explain things to you you are such a textbook heeb operative just poorly trained\n",
      "91 | 2 | that the future face of the country is a dumb sexually confused hyperliberal negro should surprise no one\n",
      "92 | 1 | you are obviously stupid so you would not understand if you truly believe physical force is justified at this time why are not you shooting blacks or mexicans in the ghetto you do not really believe in what you are saying cuck\n",
      "93 | 1 | those two were the first racist in the white house\n",
      "94 | 1 | lol the only things an african has ever invented is peanut butter like wow we really couldnt live with out that meanwhile white people and asians have invented practically everything in the modern world\n",
      "95 | 2 | eurocucks love to watch their wives get raped by migrants\n",
      "96 | 0 | last one i promise i am so white that albinos worry that i look pale\n",
      "97 | 2 | have just another rabbit running on facebook under the honey badge guise this one is a little rocket wicked fun making jews dance the homo paedo dave slatfascists is unable to find me on facebook\n",
      "98 | 2 | mussie ohell created funded armed isis tried to destroy america <number> years in the pit of his incompetent hell christians prayed for god to heal our land god blessed this land ans trump the media whores and both parties hate him because elected by revolution voters who want america and god first\n",
      "99 | 0 | just call them jews\n",
      "100 | 1 | baked alaska is probably my favorite anti racist holocaust denier definitely top <number>\n",
      "101 | 1 | daily reminder that with the jews you lose do not believe me just ask jesus\n",
      "102 | 2 | i am presuming he means the standard left wing idiots lots of hypocritical women amongst them think maria ladenburger obviously you are against these fucking muhammedans\n",
      "103 | 1 | antifa is currently burning everything in sight and beating people up stand down someone is shooting this school up stand down there are a bunch of illegal immigrants holding a rally let them stay it all good stand down rule of law my rear\n",
      "104 | 1 | european capitols arent american besides europe allowed the muzzies in anyway not my problem\n",
      "105 | 0 | per capita whites are doing much better than the chinese besides i think you are over estimating how much soy the average chinaman actually eats\n",
      "106 | 0 | lol <user> what happened the owner of this website pew tube has banned you temporarily from accessing this website i dindunuffin\n",
      "107 | 1 | gay you are\n",
      "108 | 2 | by taking known numbers of muslim refugees being allowed onto our soil daily <number> multiplying each by <number> for chain migration every muslim in the world could potentially be here by <number> enough diversity yet sto pislam ba nislam\n",
      "109 | 0 | these are the refugees that europe should be taking in\n",
      "110 | 1 | they are calling nick fuentes not part of the movement as if the movement is some sort of cult and saying he an immature attention seeker i have <number> problem with women who are mothers speaking out for our people just these single ladies should not do beta farming\n",
      "111 | 1 | muslim migrant rapes more women than canadian bernado yet media stays silent we wonder why no one trusts the media any more\n",
      "112 | 2 | march for our lives protesters trash streets of d.c. after gun control march similar to environmental protests compare to conservative dan bake sale that left streets spic and span after <number> gathered in fort collins\n",
      "113 | 0 | i know we are all worried about whether trump will cave on daca what will go on with the norks and the iranians whether we will stem the tide of moslem migration and postmodernist degeneracy but let us ask the real questions should i make soft pretzels or english muffins\n",
      "114 | 2 | if britain closed its borders2day moslems would still become a majority due2their high birthrates the only solution2the moslem problem is repatriation2their ancestral homelands at 1 st it can be tried on a voluntary basis with financial compensation4example but eventually they all must b told2 go\n",
      "115 | 2 | as fully vested members of the same grisly club you can always count on the queers to side with the murderous abortionists in a moving display of solidarity among separate but equal planks in the culture of death ireland\n",
      "116 | 0 | do not put your gab mug in the dishwasher the gab decal is not dishwasher safe 😢 <user> <user> edit only the black gab mug does this the white one will not thanks for the replacement gab ♥\n",
      "117 | 2 | socialist dictator socialist feminist son of a whore space cadet spoiled bitch stuttering barky stuttering clusterfuck the brown clown the choom gangster in chief the color muslim the community agitator the crony elitist presy the drama king the execuitve infant the face of evil\n",
      "118 | 1 | white people allowed their kids to be raped by pakis why they went running to the police why is not it a fathers job to protect his kids from monsters we did in my day we did not ask anyone permission\n",
      "119 | 1 | so muslim is back killing people with truck again islam the religion of peace etc\n",
      "120 | 2 | what an absolutely beautiful video this is germany under hitler was as close to paradise as the beleagurd goyim shall ever see the jews won ww1 and ww2 the jews are now orchestrating ww3 godspeed my friends i love u\n",
      "121 | 1 | spin the wheel of sexual harassment folks who will it be next and for what crime mccain violation of the logan act podesta for the evil that he is clinton of course but pick your fucking poison\n",
      "122 | 1 | you can change your heart but you can not change your fellow man heart if a group of people participates in honor killings genital mutilations treating women as property and legal pedophilia the chances of you changing that are remote we have got our nation and they have got theirs trump maga\n",
      "123 | 0 | yeah do not know why everyone on this site hates gay people so much more women for me\n",
      "124 | 1 | wait so ur tellin me not only is the earth not flat but niggers be on other planets i guess i should not be surprised after learning what ethnic swedes look like i always thought they were hot blondes\n",
      "125 | 2 | this is the general attitude of all ghetto apes\n",
      "126 | 1 | islam is the religion of peace there ’ a piece of you over here another piece over there some more pieces over there the fun never stops with the retarded followers of the pedophile prophet\n",
      "127 | 1 | what faggot curates live topics\n",
      "128 | 2 | yes everybody ask yourself right now would you ruin your life with a bull dyke ricky vaughn with tits <user>\n",
      "129 | 0 | install writing app on phone connect tiny bluetooth keyboard type up shit on my phone while on my balcony using this ghetto set up good feeling gab writers\n",
      "130 | 2 | <user> talmud according to jews is just men commentary qur an according to muslims is literally the word of allah god we have to attack the qur an first because jews are not flying into buildings killing people plus is obvious no god would make so many mistakes as shown in qur an\n",
      "131 | 1 | interesting note to self determine which dna test the israeli government uses to test immigrants so that unfortunate mis identifications can be avoided during shoah <number> electric boogaloo\n",
      "132 | 1 | <user> you can take the family out of the ghetto but you cannot take the ghetto out of the family\n",
      "133 | 1 | throwing kitchenware is a bitch move it what physically weak women do to indicate their displeasure without actually attacking their man\n"
     ]
    },
    {
     "name": "stdout",
     "output_type": "stream",
     "text": [
      "134 | 0 | roflol as if a bunch of queers has any concept of what a good christian or any kind of christian is or does or would do my sides\n",
      "135 | 0 | an illegal immigrant that came here to commit crimes is not the same as someone who comes to work abide by our american laws live in peace deport zarate justicefor kate\n",
      "136 | 1 | and a closet muslim like obama jerks off whenever the rads go boom\n",
      "137 | 0 | when their still putting the dead in body bags but all you can think about is the backlash islamophobia the moslem community might face\n",
      "138 | 1 | hey nazi dirtbag is your black bull keeping you occupied\n",
      "139 | 2 | canfam next make sure that everyone you know sees video footage of taharrush gamea from europe and let them know europe has imported the muslim gang rape game and that the euro press has totally blacked out this epidemic of horrifically violent gang rape and beatings of european women\n",
      "140 | 1 | the question i ask myself most often is why the negro race keeps running away from themselves to live amongst the white race and then turn around and blame the white race for their pathetic existence in the land from whence they came\n",
      "141 | 2 | blacks are much fatter in white societies but they complain a lot guess thats why they all want to move here we tried investing there but they ate all the missionaries and raped all the nuns they dont understand homosexuality\n",
      "142 | 0 | tfw i never got to use my white privilege to just walk into a starbucks and take a huge shit without buying a small coffee\n",
      "143 | 0 | so there is nothing wrong with them leaving women alone if they are worthless to them\n",
      "144 | 1 | totalbiscuit mainly attacked sjws because they attacked him first in hysterical and extremely aggressive terms for looking into the quinnspiracy on his own and not <percent> going along with the narrative he shares most of the sjws views on gender feminism etc but is slightly less retarded about it\n",
      "145 | 2 | attention all lieberal feminazi here a cause for you put on your pussy hats and go get the toxic male responsible for actual pussy grabbing c mon lying bitches still waiting\n",
      "146 | 1 | true but the most disgusting thing would be a muslim twerking a goat\n",
      "147 | 1 | i noticed in this sting operation video the brown third worlder who was unabashed about banning right wingers is an indian its very embarassing for us indians in india when these dumbfucks go to usa settle there and then decide to backstab white majority by spewing venom against them kick them out\n",
      "148 | 2 | or the construction company hired some raghead sleeper cell asshole\n",
      "149 | 0 | feminists are the gender counter to how muslim males think of all women in the world feminism feminist <user>\n",
      "150 | 0 | how long until it is revealed hollywood stars and directors raped and molested children regularly and it was known and an open secret within the industry\n",
      "151 | 0 | this was a total bullshit rule housing is segregated by income more than anything this rule would force wealthy neighborhoods to allow section <number> housing be built in high end communities under the guise of diversity and equality bringing the ghetto to you\n",
      "152 | 1 | kevin spacey raped me by making me watch all the way through that queer man fantasia american beauty in the hope of seeing mena suvari tits me too\n",
      "153 | 1 | when you are fighting a war as retarded as afghanistan all you have to keep you going are your brothers and he betrayed them i do not even want this shithead tortured i just want him dead you do not waste torture on a cockroach you step on it\n",
      "154 | 0 | police are reporting they are on the look out for moslem convert terror suspect al samel haeed\n",
      "155 | 1 | no chain migration is a bottomless pit of immigrant flooding into the country their mamma and dadda their brothers and sisters their grandparents their aunts uncles their kids etc etc etc family reunification my ass\n",
      "156 | 1 | <user> well not really islam does not care for ridicule nor reason you beat islam like you would a pack of wolves just do not be a bitch and act tougher than they are problem solved oh and do not invade their hunting grounds if you can help it\n",
      "157 | 0 | another bbc poster paki stani\n",
      "158 | 1 | thanks jews how it started\n",
      "159 | 1 | i swear if i ever die someday and some sorry son of bitch votes democrat on my behalf i will comeback and slash that motherfucker\n",
      "160 | 2 | two of the people i am really getting sick and tired of seeing as guests on these evening news programs are that wild eyed gook malkin and the physically retarded jew krauthammer i change the channel when they come on there are others the list is growing\n",
      "161 | 1 | lol oh yeah ok you wanna fight lets go queer anyone who jojns the military withour being drafted is a faggot too\n",
      "162 | 0 | in fact i can not find anything fuzzy or warm about my dutch ness we are a pretty dour people always having to stick our fingers in dykes while wearing wooden shoes does that to you\n",
      "163 | 2 | atomaweapon is a puny faggot trying to be big shit asking billshit questions to dodge the subject\n",
      "164 | 1 | through out the ghetto was there nary a word except brothers in green who through the streets could be heard demanding where my five dollah\n",
      "165 | 1 | swedish prime minister stefan löven condemns minor attack by muslims against the synagogue in gothenburg he wants more money for holocaust propaganda and harsh punishment for antisemitism swedes have been murdered and raped for years without him saying a word a shekel for a good goy\n",
      "166 | 2 | yeah i got to about just over <number> followers and got shoahed for criticizing amy schumer being cast as barbie and just never bothered to return and surprise surprise i was correct and they nixed that kikey plan but whatevs <happy>\n"
     ]
    }
   ],
   "source": [
    "i = 1\n",
    "for idx, val in enumerate((np.array(test_y_hx) == test_labels) == (np.array(test_y_h) != test_labels)):\n",
    "    if val == False:\n",
    "        continue\n",
    "    post_id = test_ids[idx]\n",
    "    print(i, \"|\", test_labels[idx], \"|\",  post_id_2_text[int(post_id[:-4])])\n",
    "    i += 1"
   ]
  }
 ],
 "metadata": {
  "kernelspec": {
   "display_name": "Python [conda env:py38] *",
   "language": "python",
   "name": "conda-env-py38-py"
  },
  "language_info": {
   "codemirror_mode": {
    "name": "ipython",
    "version": 3
   },
   "file_extension": ".py",
   "mimetype": "text/x-python",
   "name": "python",
   "nbconvert_exporter": "python",
   "pygments_lexer": "ipython3",
   "version": "3.8.0"
  }
 },
 "nbformat": 4,
 "nbformat_minor": 5
}
