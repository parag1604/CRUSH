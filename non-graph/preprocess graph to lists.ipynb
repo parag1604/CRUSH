{
 "cells": [
  {
   "cell_type": "code",
   "execution_count": 1,
   "id": "42a4781d",
   "metadata": {},
   "outputs": [],
   "source": [
    "import pickle\n",
    "import numpy as np\n",
    "import json\n",
    "import scipy.sparse as sp\n",
    "from tqdm import tqdm\n",
    "from collections import defaultdict"
   ]
  },
  {
   "cell_type": "code",
   "execution_count": 2,
   "id": "fa8eb1ae",
   "metadata": {},
   "outputs": [],
   "source": [
    "def get_ids(split):\n",
    "    ids = [i for i in pid[split] if 'gab' in i]\n",
    "    return ids"
   ]
  },
  {
   "cell_type": "code",
   "execution_count": 3,
   "id": "a2d22b7f",
   "metadata": {},
   "outputs": [
    {
     "data": {
      "text/plain": [
       "10423"
      ]
     },
     "execution_count": 3,
     "metadata": {},
     "output_type": "execute_result"
    }
   ],
   "source": [
    "data_path = '../../data/commons/dataset.json'\n",
    "pid_path = '../../data/commons/post_id_divisions.json'\n",
    "\n",
    "with open(pid_path) as f:\n",
    "    pid = json.load(f)\n",
    "with open(data_path) as f:\n",
    "    data = json.load(f)\n",
    "\n",
    "label_dict = {'normal': 0, 'offensive': 1, 'hatespeech': 2}\n",
    "\n",
    "HatexplainGabIds = get_ids(\"train\") + get_ids(\"val\") + get_ids(\"test\")\n",
    "len(HatexplainGabIds)"
   ]
  },
  {
   "cell_type": "code",
   "execution_count": 4,
   "id": "10a45e74",
   "metadata": {},
   "outputs": [],
   "source": [
    "PostAdj = sp.load_npz(\"../../data/commons/A_full.npz\").tocsr()\n",
    "PostAdj = PostAdj.multiply(PostAdj.multiply(PostAdj))"
   ]
  },
  {
   "cell_type": "code",
   "execution_count": 5,
   "id": "a5ae8a3f",
   "metadata": {},
   "outputs": [],
   "source": [
    "GabId2PostAdjIdx = pickle.load(open(\"../../data/commons/id_2_idx.pkl\", \"rb\"))"
   ]
  },
  {
   "cell_type": "code",
   "execution_count": 6,
   "id": "3c2b1386",
   "metadata": {},
   "outputs": [
    {
     "name": "stderr",
     "output_type": "stream",
     "text": [
      "100%|██████████| 10423/10423 [00:10<00:00, 1001.69it/s]\n"
     ]
    }
   ],
   "source": [
    "AdjList = dict()\n",
    "for HatexplainGabId in tqdm(HatexplainGabIds):\n",
    "    GabId = int(HatexplainGabId[:-4])\n",
    "    PostAdjIdx = GabId2PostAdjIdx[GabId]\n",
    "    cx = PostAdj[PostAdjIdx].tocoo()\n",
    "    NeighborsIdxs = [idx for idx in cx.col]\n",
    "    AdjList[GabId] = NeighborsIdxs"
   ]
  },
  {
   "cell_type": "code",
   "execution_count": 7,
   "id": "3dfd89c0",
   "metadata": {},
   "outputs": [],
   "source": [
    "pickle.dump(AdjList, open(\"neighbors_list_dict.pkl\", \"wb\"))"
   ]
  },
  {
   "cell_type": "code",
   "execution_count": 8,
   "id": "8e2fa080",
   "metadata": {},
   "outputs": [],
   "source": [
    "GabData = pickle.load(open(\"../../../sumegh/GabData/Final_Posts.pkl\", \"rb\"))"
   ]
  },
  {
   "cell_type": "code",
   "execution_count": 9,
   "id": "109074b6",
   "metadata": {},
   "outputs": [
    {
     "name": "stderr",
     "output_type": "stream",
     "text": [
      "100%|██████████| 10423/10423 [00:00<00:00, 60114.56it/s]\n"
     ]
    },
    {
     "data": {
      "text/plain": [
       "3209"
      ]
     },
     "execution_count": 9,
     "metadata": {},
     "output_type": "execute_result"
    }
   ],
   "source": [
    "HatexplainGabUsers = set()\n",
    "for HatexplainGabId in tqdm(HatexplainGabIds):\n",
    "# for HatexplainGabId in HatexplainGabIds:\n",
    "    GabId = int(HatexplainGabId[:-4])\n",
    "    GabUser = GabData[GabId]['userid']\n",
    "    HatexplainGabUsers.add(GabUser)\n",
    "len(HatexplainGabUsers)"
   ]
  },
  {
   "cell_type": "code",
   "execution_count": 14,
   "id": "d3bc7a18",
   "metadata": {},
   "outputs": [
    {
     "name": "stderr",
     "output_type": "stream",
     "text": [
      "100%|██████████| 21207961/21207961 [01:32<00:00, 228320.13it/s]\n"
     ]
    }
   ],
   "source": [
    "UserPostsIdxList = dict()\n",
    "for HatexplainGabUser in sorted(list(HatexplainGabUsers)):\n",
    "    UserPostsIdxList[HatexplainGabUser] = []\n",
    "for idx in tqdm(GabData):\n",
    "    Datum = GabData[idx]\n",
    "    UserId = Datum['userid']\n",
    "    if UserId in HatexplainGabUsers and Datum['post_body'] is not None:\n",
    "        UserPostsIdxList[UserId].append(idx)"
   ]
  },
  {
   "cell_type": "code",
   "execution_count": 11,
   "id": "7aa6881c",
   "metadata": {},
   "outputs": [
    {
     "name": "stderr",
     "output_type": "stream",
     "text": [
      "100%|██████████| 10423/10423 [00:00<00:00, 23259.87it/s]\n"
     ]
    }
   ],
   "source": [
    "HatexplainGabId2GabUserId = dict()\n",
    "for HatexplainGabId in tqdm(HatexplainGabIds):\n",
    "    GabId = int(HatexplainGabId[:-4])\n",
    "    GabUser = GabData[GabId]['userid']\n",
    "    HatexplainGabId2GabUserId[GabId] = GabUser"
   ]
  },
  {
   "cell_type": "code",
   "execution_count": 15,
   "id": "33caaea5",
   "metadata": {},
   "outputs": [],
   "source": [
    "pickle.dump(HatexplainGabId2GabUserId, open(\"post_id_2_user_id.pkl\", \"wb\"))\n",
    "pickle.dump(UserPostsIdxList, open(\"user_id_posts_idx_list.pkl\", \"wb\"))"
   ]
  }
 ],
 "metadata": {
  "kernelspec": {
   "display_name": "Python [conda env:.conda-py38] *",
   "language": "python",
   "name": "conda-env-.conda-py38-py"
  },
  "language_info": {
   "codemirror_mode": {
    "name": "ipython",
    "version": 3
   },
   "file_extension": ".py",
   "mimetype": "text/x-python",
   "name": "python",
   "nbconvert_exporter": "python",
   "pygments_lexer": "ipython3",
   "version": "3.8.5"
  }
 },
 "nbformat": 4,
 "nbformat_minor": 5
}
