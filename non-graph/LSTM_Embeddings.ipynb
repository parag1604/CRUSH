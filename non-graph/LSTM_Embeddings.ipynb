{
 "cells": [
  {
   "cell_type": "code",
   "execution_count": 5,
   "id": "dadf3509",
   "metadata": {},
   "outputs": [
    {
     "name": "stderr",
     "output_type": "stream",
     "text": [
      "/home/btp-souvic/miniconda3/envs/py38/lib/python3.8/site-packages/ekphrasis/classes/tokenizer.py:225: FutureWarning: Possible nested set at position 2190\n",
      "  self.tok = re.compile(r\"({})\".format(\"|\".join(pipeline)))\n"
     ]
    },
    {
     "name": "stdout",
     "output_type": "stream",
     "text": [
      "Reading twitter - 1grams ...\n",
      "Reading twitter - 2grams ...\n"
     ]
    },
    {
     "name": "stderr",
     "output_type": "stream",
     "text": [
      "/home/btp-souvic/miniconda3/envs/py38/lib/python3.8/site-packages/ekphrasis/classes/exmanager.py:14: FutureWarning: Possible nested set at position 42\n",
      "  regexes = {k.lower(): re.compile(self.expressions[k]) for k, v in\n"
     ]
    },
    {
     "name": "stdout",
     "output_type": "stream",
     "text": [
      "Reading english - 1grams ...\n"
     ]
    }
   ],
   "source": [
    "import numpy as np, pickle\n",
    "from gensim.models import Word2Vec\n",
    "from tensorflow import keras\n",
    "from preprocess import ek_extra_preprocess"
   ]
  },
  {
   "cell_type": "code",
   "execution_count": 4,
   "id": "9214df89",
   "metadata": {},
   "outputs": [],
   "source": [
    "wv = Word2Vec.load('../../data/commons/word2vec.model').wv"
   ]
  },
  {
   "cell_type": "code",
   "execution_count": 6,
   "id": "8d0562a4",
   "metadata": {},
   "outputs": [
    {
     "ename": "FileNotFoundError",
     "evalue": "[Errno 2] No such file or directory: '../../../hatexplain_context/data/commons/Final_Posts.pkl'",
     "output_type": "error",
     "traceback": [
      "\u001b[0;31m---------------------------------------------------------------------------\u001b[0m",
      "\u001b[0;31mFileNotFoundError\u001b[0m                         Traceback (most recent call last)",
      "\u001b[0;32m/tmp/ipykernel_1916399/3131677864.py\u001b[0m in \u001b[0;36m<module>\u001b[0;34m\u001b[0m\n\u001b[0;32m----> 1\u001b[0;31m \u001b[0mgab_data\u001b[0m \u001b[0;34m=\u001b[0m \u001b[0mpickle\u001b[0m\u001b[0;34m.\u001b[0m\u001b[0mload\u001b[0m\u001b[0;34m(\u001b[0m\u001b[0mopen\u001b[0m\u001b[0;34m(\u001b[0m\u001b[0;34m\"../../../hatexplain_context/data/commons/Final_Posts.pkl\"\u001b[0m\u001b[0;34m,\u001b[0m \u001b[0;34m\"rb\"\u001b[0m\u001b[0;34m)\u001b[0m\u001b[0;34m)\u001b[0m\u001b[0;34m\u001b[0m\u001b[0;34m\u001b[0m\u001b[0m\n\u001b[0m",
      "\u001b[0;31mFileNotFoundError\u001b[0m: [Errno 2] No such file or directory: '../../../hatexplain_context/data/commons/Final_Posts.pkl'"
     ]
    }
   ],
   "source": [
    "gab_data = pickle.load(open(\"../../../hatexplain_contex/data/commons/Final_Posts.pkl\", \"rb\"))"
   ]
  },
  {
   "cell_type": "code",
   "execution_count": null,
   "id": "0b7cbc53",
   "metadata": {},
   "outputs": [],
   "source": [
    "def get_sentence_embedding(post_id):\n",
    "    # GET TEXT\n",
    "    \n",
    "    # PREPROCESS TEXT (hatexplain style)\n",
    "    \n",
    "    \n",
    "    # GET Word2Vecs\n",
    "    vecs = []\n",
    "    for word in X[idx].split():\n",
    "        try:\n",
    "            vecs.append(model.wv.get_vector(word))\n",
    "        except:\n",
    "            pass\n",
    "    sent_len = len(vecs)\n",
    "    if sent_len >= max_len:\n",
    "        vecs = vecs[:max_len]\n",
    "    else:\n",
    "        pad_len = max_len - sent_len\n",
    "        pad_vecs = []\n",
    "        for _ in range(pad_len):\n",
    "            pad_vecs.append(np.zeros((dim,)))\n",
    "        vecs = pad_vecs + vecs\n",
    "    vecs = np.array([vecs])\n",
    "    \n",
    "    # PASS THROUGH LSTM and GET EMBEDDINGS\n",
    "    return model(vecs).squeeze()"
   ]
  }
 ],
 "metadata": {
  "kernelspec": {
   "display_name": "Python [conda env:py38] *",
   "language": "python",
   "name": "conda-env-py38-py"
  },
  "language_info": {
   "codemirror_mode": {
    "name": "ipython",
    "version": 3
   },
   "file_extension": ".py",
   "mimetype": "text/x-python",
   "name": "python",
   "nbconvert_exporter": "python",
   "pygments_lexer": "ipython3",
   "version": "3.8.0"
  }
 },
 "nbformat": 4,
 "nbformat_minor": 5
}
