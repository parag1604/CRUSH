{
 "cells": [
  {
   "cell_type": "code",
   "execution_count": 1,
   "id": "0739fa7d",
   "metadata": {},
   "outputs": [],
   "source": [
    "# load libraries\n",
    "import torch\n",
    "import torch.nn as nn\n",
    "import torch.optim as optim\n",
    "\n",
    "import pickle\n",
    "import json\n",
    "import numpy as np\n",
    "from collections import Counter\n",
    "from gensim.models import Word2Vec\n",
    "from tqdm import tqdm\n",
    "from sklearn.metrics import classification_report, f1_score\n",
    "\n",
    "device = torch.device(\"cuda:0\")"
   ]
  },
  {
   "cell_type": "code",
   "execution_count": 2,
   "id": "fb425fa8",
   "metadata": {},
   "outputs": [
    {
     "name": "stdout",
     "output_type": "stream",
     "text": [
      "Sun Oct 10 00:00:30 2021       \n",
      "+-----------------------------------------------------------------------------+\n",
      "| NVIDIA-SMI 470.63.01    Driver Version: 470.63.01    CUDA Version: 11.4     |\n",
      "|-------------------------------+----------------------+----------------------+\n",
      "| GPU  Name        Persistence-M| Bus-Id        Disp.A | Volatile Uncorr. ECC |\n",
      "| Fan  Temp  Perf  Pwr:Usage/Cap|         Memory-Usage | GPU-Util  Compute M. |\n",
      "|                               |                      |               MIG M. |\n",
      "|===============================+======================+======================|\n",
      "|   0  Tesla P100-PCIE...  Off  | 00000000:3B:00.0 Off |                    0 |\n",
      "| N/A   64C    P0   150W / 250W |  13691MiB / 16280MiB |    100%      Default |\n",
      "|                               |                      |                  N/A |\n",
      "+-------------------------------+----------------------+----------------------+\n",
      "|   1  Tesla P100-PCIE...  Off  | 00000000:D8:00.0 Off |                    0 |\n",
      "| N/A   36C    P0    33W / 250W |   5617MiB / 16280MiB |      0%      Default |\n",
      "|                               |                      |                  N/A |\n",
      "+-------------------------------+----------------------+----------------------+\n",
      "                                                                               \n",
      "+-----------------------------------------------------------------------------+\n",
      "| Processes:                                                                  |\n",
      "|  GPU   GI   CI        PID   Type   Process name                  GPU Memory |\n",
      "|        ID   ID                                                   Usage      |\n",
      "|=============================================================================|\n",
      "|    0   N/A  N/A      6779      C   ...inny/anaconda3/bin/python     1507MiB |\n",
      "|    0   N/A  N/A      7262      C   ...inny/anaconda3/bin/python     4903MiB |\n",
      "|    0   N/A  N/A     17372      C   /usr/bin/python3                 7279MiB |\n",
      "|    1   N/A  N/A      6779      C   ...inny/anaconda3/bin/python     5615MiB |\n",
      "+-----------------------------------------------------------------------------+\n"
     ]
    }
   ],
   "source": [
    "! nvidia-smi"
   ]
  },
  {
   "cell_type": "code",
   "execution_count": 3,
   "id": "591e0fe8",
   "metadata": {},
   "outputs": [],
   "source": [
    "# load word2vec\n",
    "word2vec_model = Word2Vec.load(\"../../data/commons/word2vec.model\")"
   ]
  },
  {
   "cell_type": "code",
   "execution_count": 4,
   "id": "941923b2",
   "metadata": {},
   "outputs": [],
   "source": [
    "# load node -> neighbor list\n",
    "post_id_2_neigbor_list = pickle.load(open(\"../../data/non-graph/neighbors_list_dict.pkl\", \"rb\"))"
   ]
  },
  {
   "cell_type": "code",
   "execution_count": 5,
   "id": "4dd97a9e",
   "metadata": {},
   "outputs": [],
   "source": [
    "# load node -> user mapping\n",
    "post_id_2_user = pickle.load(open(\"../../data/non-graph/post_id_2_user_id.pkl\", \"rb\"))"
   ]
  },
  {
   "cell_type": "code",
   "execution_count": 6,
   "id": "cc276de3",
   "metadata": {},
   "outputs": [],
   "source": [
    "# load user -> posts list\n",
    "user_id_2_post_ids_list = pickle.load(open(\"../../data/non-graph/user_id_posts_idx_list.pkl\", \"rb\"))"
   ]
  },
  {
   "cell_type": "code",
   "execution_count": 7,
   "id": "5815d598",
   "metadata": {},
   "outputs": [],
   "source": [
    "# load text corresponding to post\n",
    "post_id_2_text = pickle.load(open(\"../../data/non-graph/posts_id_2_text.pkl\", \"rb\"))"
   ]
  },
  {
   "cell_type": "code",
   "execution_count": 22,
   "id": "b6052773",
   "metadata": {},
   "outputs": [
    {
     "data": {
      "text/plain": [
       "1"
      ]
     },
     "execution_count": 22,
     "metadata": {},
     "output_type": "execute_result"
    }
   ],
   "source": [
    "train_labels[0]"
   ]
  },
  {
   "cell_type": "code",
   "execution_count": 19,
   "id": "b7c76b46",
   "metadata": {},
   "outputs": [
    {
     "data": {
      "text/plain": [
       "'u really think i would not have been raped by feral hindu or muslim back in india or bangladesh and a neo nazi would rape me as well just to see me cry'"
      ]
     },
     "execution_count": 19,
     "metadata": {},
     "output_type": "execute_result"
    }
   ],
   "source": [
    "post_id_2_text[int(train_ids[0][:-4])]"
   ]
  },
  {
   "cell_type": "code",
   "execution_count": 260,
   "id": "ef2580cf",
   "metadata": {},
   "outputs": [],
   "source": [
    "from sklearn.feature_extraction.text import CountVectorizer\n",
    "from sklearn.feature_extraction.text import TfidfTransformer\n",
    "from sklearn.linear_model import SGDClassifier\n",
    "from sklearn.model_selection import GridSearchCV\n",
    "from sklearn.pipeline import Pipeline\n",
    "from sklearn.metrics import roc_auc_score"
   ]
  },
  {
   "cell_type": "code",
   "execution_count": 305,
   "id": "223fcd4a",
   "metadata": {},
   "outputs": [],
   "source": [
    "def getcontext(x):\n",
    "    l=[ou for ou in user_id_2_post_ids_list[x] if(\"muslim\" in post_id_2_text[ou])]\n",
    "    if(len(l)>20):\n",
    "        l=np.random.choice(l,20)\n",
    "    h=[post_id_2_text[i] for i in l]\n",
    "    h=\" \".join(h)\n",
    "    h=h.split()\n",
    "    gg=\" 111111111\"\n",
    "    return(gg+gg.join(h))"
   ]
  },
  {
   "cell_type": "code",
   "execution_count": 306,
   "id": "a2953552",
   "metadata": {},
   "outputs": [],
   "source": [
    "def get_d(split,mode=0):\n",
    "    #ids = [str(post_id_2_user[int(i[:-4])]) for i in pid[split] if 'gab' in i]\n",
    "    #ids = [post_id_2_text[int(i[:-4])]+\" \"+str(post_id_2_user[int(i[:-4])])+\" \" +getcontext(post_id_2_user[int(i[:-4])]) for i in pid[split] if 'gab' in i]\n",
    "    if(mode==0):\n",
    "        ids = [getcontext(post_id_2_user[int(i[:-4])]) for i in pid[split] if 'gab' in i]\n",
    "    else:\n",
    "        ids = [post_id_2_text[int(i[:-4])] for i in pid[split] if 'gab' in i]\n",
    "    \n",
    "    #ids = [post_id_2_text[int(i[:-4])]+\" \"+str(post_id_2_user[int(i[:-4])]) for i in pid[split] if 'gab' in i]\n",
    "    #ids = [getcontext(post_id_2_user[int(i[:-4])]) for i in pid[split] if 'gab' in i]\n",
    "    labels = [label_dict[Counter([j[\"label\"] for j in data[i][\"annotators\"]]).most_common(1)[0][0]] for i in pid[split] if 'gab' in i]\n",
    "    contexts=[post_id_2_user[int(i[:-4])] for i in pid[split] if 'gab' in i]\n",
    "    return np.array(ids), np.array(labels)"
   ]
  },
  {
   "cell_type": "code",
   "execution_count": 307,
   "id": "6b86d6cb",
   "metadata": {},
   "outputs": [],
   "source": [
    "x_train, y_train = get_d(\"train\",0)\n",
    "x_val, y_val = get_d(\"val\",0)\n",
    "x_test, y_test = get_d(\"test\",0)"
   ]
  },
  {
   "cell_type": "code",
   "execution_count": null,
   "id": "3a2f7268",
   "metadata": {},
   "outputs": [],
   "source": []
  },
  {
   "cell_type": "code",
   "execution_count": 308,
   "id": "781bbd4b",
   "metadata": {},
   "outputs": [
    {
     "name": "stdout",
     "output_type": "stream",
     "text": [
      "8377 1010 1036\n",
      "              precision    recall  f1-score   support\n",
      "\n",
      "           0     0.3738    0.3704    0.3721       216\n",
      "           1     0.3627    0.2426    0.2908       305\n",
      "           2     0.6068    0.7282    0.6620       515\n",
      "\n",
      "    accuracy                         0.5106      1036\n",
      "   macro avg     0.4478    0.4470    0.4416      1036\n",
      "weighted avg     0.4864    0.5106    0.4922      1036\n",
      "\n",
      "roc-auc :  0.6676684055858769\n"
     ]
    }
   ],
   "source": [
    "#balanced only context\n",
    "pipeline1 = Pipeline([\n",
    "    ('vect', CountVectorizer(ngram_range=(1, 1))),\n",
    "    ('tfidf', TfidfTransformer()),\n",
    "    ('clf', SGDClassifier(loss=\"log\",class_weight=\"balanced\")),\n",
    "])\n",
    "print(len(y_train),len(y_val),len(y_test))\n",
    "pipeline1.fit(x_train,y_train)\n",
    "y_pred=pipeline1.predict(x_test)\n",
    "y_pred_proba=pipeline1.predict_proba(x_test)\n",
    "\n",
    "\n",
    "\n",
    "from sklearn.metrics import classification_report\n",
    "print(classification_report(y_test,y_pred,digits=4))\n",
    "print(\"roc-auc : \",roc_auc_score(y_test,y_pred_proba,multi_class='ovr'))"
   ]
  },
  {
   "cell_type": "code",
   "execution_count": 309,
   "id": "eec4d0c4",
   "metadata": {},
   "outputs": [],
   "source": [
    "x_train, y_train = get_d(\"train\",1)\n",
    "x_val, y_val = get_d(\"val\",1)\n",
    "x_test, y_test = get_d(\"test\",1)"
   ]
  },
  {
   "cell_type": "code",
   "execution_count": 349,
   "id": "6d768f10",
   "metadata": {},
   "outputs": [
    {
     "name": "stdout",
     "output_type": "stream",
     "text": [
      "8377 1010 1036\n",
      "              precision    recall  f1-score   support\n",
      "\n",
      "           0     0.4977    0.5000    0.4988       216\n",
      "           1     0.5588    0.4984    0.5269       305\n",
      "           2     0.7532    0.8000    0.7759       515\n",
      "\n",
      "    accuracy                         0.6486      1036\n",
      "   macro avg     0.6032    0.5995    0.6005      1036\n",
      "weighted avg     0.6427    0.6486    0.6448      1036\n",
      "\n",
      "roc-auc :  0.8020208453129712\n"
     ]
    }
   ],
   "source": [
    "#balanced only pid\n",
    "pipeline2 = Pipeline([\n",
    "    ('vect', CountVectorizer(ngram_range=(1, 1))),\n",
    "    ('tfidf', TfidfTransformer()),\n",
    "    ('clf', SGDClassifier(loss=\"log\",class_weight=\"balanced\")),\n",
    "])\n",
    "print(len(y_train),len(y_val),len(y_test))\n",
    "pipeline2.fit(x_train,y_train)\n",
    "y_pred=pipeline2.predict(x_test)\n",
    "y_pred_proba=pipeline2.predict_proba(x_test)\n",
    "from sklearn.metrics import classification_report\n",
    "print(classification_report(y_test,y_pred,digits=4))\n",
    "print(\"roc-auc : \",roc_auc_score(y_test,y_pred_proba,multi_class='ovr'))"
   ]
  },
  {
   "cell_type": "code",
   "execution_count": 350,
   "id": "778436f1",
   "metadata": {},
   "outputs": [
    {
     "name": "stdout",
     "output_type": "stream",
     "text": [
      "education or marxist indoctrination since it is well established blacks are incapable of learning anything past the age of ten unless they are half white should not blacks go to a trade school upon age <number> say learning how to pick cotton fruits and vegetables 2 1\n",
      "even if you just have a loose collection of affiliated groups each group is gonna have leaders and inevitably leaders will emerge among the group of leaders who end up coordinating the groups this is just human nature debating human nature is retarded 0 2\n",
      "tbtc take back the country toxic masculinity ” patriarchy harm men noxious femaleness and public slut posturing empower women neither feminism nor now could have pulled this off this is the doing of taxpayer supported state university system maga 1 0\n",
      "<user> puppy no i was alone i am not a nazi white supremacist or any other type of person i am <percent> southern i support traditional values and all things with southern culture i support anything that saves confederate monuments and history 1 0\n",
      "the catholic church stopped being a bulwark against western rot when the church became infested with homosexuals it is now just as if not more corrupted than the government bureaucracies of western nations and has sunk so low we are hearing stories of depraved gay orgies on sacred church ground 2 1\n",
      "i am so ghetto 0 1\n",
      "calling me a nigger on gab does not faze me i will be really impressed when someone on here calls me a mooncricket 0 2\n",
      "imagine being so disconnected that youd think a dickies work shirt and some black pants are comparable to a fur suit imagine crying about optics while writing for a site that screams nigger in every title like a <number> year old on xbox love who d just found 4 chan 1 2\n",
      "sweden suicide is a foregone conclusion no amount of tweeting raging philosophizing or praying is going to do diddly squat for them so why bother our energy is better spent arming and insulating ourselves from the muzzrats here 2 1\n",
      "easy to make generalized statements a stopped watch is right twice per day drug addicts can make intelligent statements from time to time even a mentally retarded person knows when to go to the bathroom 0 1\n",
      "no that can not be we all know that muslim knife attacks have nothing to fo with religion 1 2\n",
      "if they are seeking asylum from a terrible mussie country why then are they working so hard to turn these gracious countries into the very mussie countries they claim to be fleeing we all know that answer immediately 2 0\n",
      "even worse i have read comments defending this vid stating the message is anti violence against all stfu with that noise 1 0\n",
      "kick all illegal immigrants out they don ’ t belong here they have no business being here we owe them nothing 2 0\n",
      "in the meantime jewish advocacy receives billions in funding from jews and that ok but when whites do it ooh better watch out it all a scam better not organise someone might kike you 0 2\n",
      "<user> they resisted it for <number> years along with the nubeans in the south of sudan that is a beautiful and remarkable history of resisting evil i gotta tell u u have to read genesis <number> <number> the story of ishmael and u will see arabs today perfectly described 1 0\n",
      "jews often appropriate white identity and culture this crypsis is often selfishly motivated deceptive in the company of the goyim we jews must always identify ourselves as jews especially when espousing political opinions on israel and the middle east wear a star of david prominently 0 2\n",
      "hillary clinton with dyke roomie back in the latter <number> still a rotten bitch today 2 1\n",
      "hope she remembered defending the mudslime that instigated the gang rape and murder karma is a bitch 1 2\n",
      "america always was a country for by and of genetic europeans a white man born in china is not a chinaman just as a mexican anchor baby born in america is not american 1 2\n",
      "backpedaling fails to point out exactly my comments and resumes to nonsensical aussie retarded babbles go choke on a cock you useless wrinkly aussie slag you ’ re th descendants of the bottom feeders among limeys loll 2 1\n",
      "i go to public beaches and see beautiful young women it tiny swimsuits and yet somehow i have managed to never rape anyone that the difference between americans and islamists apparently 2 0\n",
      "an emp is generated via the atomic explosion and could be created over the continent miles in the air the fallout would likely stay in space and the housing could be available to those that survive and immigrants from who knows where 0 1\n",
      "twitter use to suspend me and when i got back on id lost hundereds of followers they finally banned mebecaue this muslim who threatend potys i reported her to her busness fbi she called my home threatened me i bet she is still on twitter 1 2\n",
      "fully agree every personal interaction with these queers reinforces what i already knew severe mental illness and obnoxious to boot 2 1\n",
      "andrew anglin wants white women to be raped and beaten into submission he is just gross being out there just to shock white sharia is cancer and must be vehemently denounced 0 1\n",
      "i d rather get fisted by a nigger tbh 1 2\n",
      "when america was white no ghettos no handouts almost no taxes no men of color trying to have sex with your <number> year old daughter almost no crime the left says the white communities must die out 2 0\n",
      "does not know the difference between latino and spic but thinks it an authority also thinks it smart 🤔 1 2\n",
      "enjoy your new drama filled scandalous royalty england this is what happens when you take a ghetto <number> y o divorcee and try to make her a princess 0 1\n",
      "the french deserve to either end up as dhimmi moslem slaves or dead could there be anything more stupid apart from the politicians now running european countries france paris muslim islam islamo fascism 0 2\n",
      "wishful thinking mr president these people will always hate you white man do not you get it yet u <user> stated that whichs very dangerous why do u refuse to understand that king kike trumps a genetic jew on his dads side wow hes its not an anglo saxon white man white nations 0 2\n",
      "they have thousands of years of practice but the fuckers keep re branding themselves in history books so nobody realizes it the same jews using the same rabid arabs century after century 1 0\n",
      "my sister is having an all lesbian moneynigger taternigger fight watching party is boxing a thing among girlfags or something 1 0\n",
      "well at least the mudslimes occasionally get it right now if they could just ramp it up by about <number> million 1 2\n",
      "so yes i do see the political landscape stormfags who spout jew shit are just as damaging to the solution as fucking sjw faggots are 1 2\n",
      "i graduated from university high in irvine in the mid 7 0 i think the last time it was mostly white was maybe in the mid <number> ’ or so all the vc got moved into garden grove and now almost all of oc is beaners and slopes 2 0\n",
      "if money was grown on trees women would be dating monkeys oh wait never mind 2 1\n",
      "diversity is a code word for white genocide 2 0\n",
      "on the left jews putting a sad face for the pictures that they would publish around the world on the right the same jews celebrating that their enemies were killing each other and soon israel would be created without shedding a single drop of jewish blood 0 1\n",
      "for all the muslim goatfuckers 1 2\n",
      "wow you think race has nothing to do with it why do we have all these ghettos in america you think race does not dictate behavior you really think these immigrants come here because they want to adopt your white american heritage why are they tearing your monuments down 2 1\n",
      "kenyun paki at <number> 0 2\n",
      "i basically refuse to believe this is real i refuse to believe that the bbc has a fucking ebonics version translator page too retarded to be believed i am not saying i will not someday but for now no this is not real to me for now 1 0\n",
      "no most people are good people do you think all men are evil maybe because you have been victimized yourself you do know there are many women who are pediofiles do not you 0 1\n",
      "is not a mudslime touching a boy dick frigging it with lubricant to get it a little hard then mutilating it with a knife sort of faggy or am i being a bitch mudrape 2 1\n",
      "i wuz tired of havin <number> pack of rib das nigger shit so i had <number> 0 2\n",
      "a dyke puts the mannish moves on a femme at a lesbian bar in paris <number> photograph by george brassai 1 0\n",
      "this sperging alt right retard accused me of being a subversive jew now he is claiming that i am sarcuck the fuckwad i wish i was making something like that up where it makes whites look bad but i am not 2 1\n",
      "stealth goatfucker <number> 😂 😂 😂 1 2\n",
      "ellison perez and obama walk into a bar we do not serve his kind here says the bartender with a vague motion perez thinks he is not black enough ellison thinks it because he a public muzzie obama suddenly bursts out hey we are all traitors at some level 1 2\n",
      "token astronauts jeanette epps negress replaced with mexican chic x feed the fish sally ride lesbian quota affirmative action segregation hbcu 1 2\n",
      "boko haram released over <number> girls it had kidnapped years ago because they are mussleman now if britain could just get the muzzies up there in teleford or luton to follow suit and release the little white girls they are holding in slavery and forced prostitution 2 1\n",
      "looking at all this nigger ruin wondering when we starting spelling detroit with a z 1 2\n",
      "hi all i am a twitter refugee but no i wont rape yr daughters <wink> as a true conservative i am a mortal enemy of islam twitter the nytimes liberals socialists illegal aliens and similar glad to be here amongst the humans and the sane death to islam and iran 2 0\n",
      "good might slow down their breeding by homosexual muslims who hate women 2 1\n",
      "merkel next governmental position should be refugee camp whore 1 2\n",
      "the ultimate anti muslim weapon a muslim being killed by a women means no virgins in heaven the armed kurdish women brigades caused fear and running of isis in syria this is the time for our sisters to take control of the destiny of the human race 1 0\n",
      "the labour party has <number> mps in prison for paedophilia <number> mps and councillors on the sex registry <number> million white kids raped by paki muslims all labour voters covered up by labour councils mps and a pm 2 0\n",
      "the jews are less than <percent> of the total world population so the only way you can be right is if all the jews are some kind of ultra wizards fyi the jews are not some kind of ultra wizards 0 2\n",
      "i would love to see trump bring <number> white women from europe call them refugees from the madness of merkel other lefties and refugees from rapist muslims bring them here and have a baby boom american men are tired of fat women 2 0\n",
      "it is impossible for me to follow the rules on twitter you can not even call girls who shave the sides of their heads ugly dykes anymore 2 1\n",
      "call i wanted to overhear today hill this is barry look i told <number> million illegal immigrants i would not prosecute them for voting you still could not pull it off oh hey could u send me the name of that guy who set up your foundation thanks hillary trump president trump speak freely 1 0\n",
      "i find when i tell liberals about what is happening in europe with refugees and islamic invasion and how women girls m as well as young boys gays lgbt and everyone native in that country are being assaulted raped and abused it is very effective at turning liberals red trump pizza gate 2 0\n",
      "a mother who tells her child to play with a diseased child look i know they did not have iphones and computers back then but they were not retarded for fucks sake 0 1\n",
      "america the rulers overlords at the federal local levels have made a declaration the lives of american citizens are no longer our concern as of this moment the only lives worth protecting defending are those of illegal aliens muslim terrorists libby schaaf 2 1\n",
      "wherever trump goes there is love peace and happiness except for israel only jews would kill around <number> people in his presence 2 1\n",
      "white south africans are the real refugees we need to be saving let the arabs and africans save their own people for a change oh wait that who the supposed refugees are running from burn it all no more refugees shoot then deport 2 0\n",
      "do asians like you ever feel any shame for invading us universities in such overwhelming numbers 0 1\n",
      "whatever ivan bollockov you keep flapping like a bitch i will get your dad to turn your wifi off and confiscate your phone 1 2\n",
      "means barry who filled the white house with black and muslim terrorists is a pro american whoa i like this kind of trash logic or 0 2\n",
      "white guy puts ied in mall and the response is fuck all muzzies and spics stay classy gab 0 2\n",
      "at some point society began to use endearing terms for sodomites words like gay and queer were appropriated by your culture no i call sodomites non cutesy names like faggot and dykes bc their behavior is destructive to not only them but society at large btw booze ages women horribly 2 1\n",
      "in england they call these people asians even though they are from the sub continent and pakistan and east asians are called orientals it irritates me too we should classify them by race and perhaps religion in this case paki muzzie 1 0\n",
      "the democratic party is the party of jews and jew causes minority mutts dumb white bitches that they appoint to certain leadership positions are just puppets facade to disguise the real core and purpose of the party study jewish privilege and who really matters in the case of conyers franken 2 1\n",
      "john hughes was the king of white movies 0 1\n",
      "when the lewdposter you follow reposts a series of naked sheboons 1 2\n",
      "a quick web search turns up that in some ancient cultures polygyny was explicitly restricted to cases where the woman failed to yield children does the bible have that restriction not that i have seen jacob had children with four women simultaneously it would appear you are simply wrong 1 0\n",
      "dear illegal immigrants living in my apartment building stop overstuffing the washing machine stop giving me dirty looks when i kindly ask you to remove your car from the parking lot kindly stop looking like i owe you anything because i do not thank you rosy 1 2\n",
      "i mean of course we do not know why he did it we have yet to establish a clear motive it may just have been a sexual emergency hence his desperation the gun was just meant to compel the women to realize the urgency of the matter 1 0\n",
      "i find it easy to get around being called a racist sexist nazi homophobe if you are just an asshole to everyone 0 1\n",
      "when a cucked trump faggot thinks you are a libertarian 1 2\n",
      "we are lucky his son died before he got sudden jihad syndrome the ft hood shooter killed more us soldiers than moslem soldiers have died fighting for the us in the past <number> years that is easily checked 0 2\n",
      "read on swedish facebook police does not have time to arrest a rapist who raped a <number> year old girl despite knowing where he lives and who he is 1 0\n",
      "european history of <number> years speaks with one voice exterminate the jews before they exterminate you white genocide 2 1\n",
      "we could update the refugee law if a refugee kills someone then <number> people from that refugee country are deported each time it happens we double the number deported to that country 1 0\n",
      "the hill as always twists it up it not the religious right it the religious left that run refugee placement programs and such like the jackasses settle muzzies in paterson nj 2 1\n",
      "i should post pics of muslim women sucking christian cock lol 1 0\n",
      "niggas say hahahaha you live with your mom hahaha you must be poor nigger i just spent <money> on a new computer for my mom kindly fuck off pls kthx <number> 1 2\n",
      "from what i am reading most major uk cities have muzzie mayor does the leadership in the uk look at sweden and ask themselves why they are allowing your great nation to become next caliphate where churchill and the iron lady when you need em 2 1\n",
      "in <number> there was <number> million white christian south africans now kike are gruesomly genociding those <number> million peacefull european white minority today <number> million left and still going strong alt right white brothers and sisters 2 0\n",
      "americanthinker usually with excellent editorials and i especially like the comments section today a jew harped on and on about poor pitiful persecuted jews and how terrible anti semitism is what so damn special they should have their own word for alleged racism 0 2\n",
      "still avoiding my questions i see castrato what do you have against people hating the marxist cultural agenda led by your beloved jews who also lead the homosexual movement which you apparently support is it because you are a faggoty posin person masquerading as a christian 1 2\n",
      "re the <number> people who recently followed me have you no taste or standards i will try to return the follow asap i am just making sure you are not a window licking nazi larping annoying drama queen i can only handleso much of that so far so good they follow me wtf 0 1\n",
      "harvard colorado state american university are the <number> latest colleges to promote anti white agendas and segregation 0 2\n",
      "teacher asks class where is pakistan little johnny replies outside with paki steve 0 1\n",
      "perhaps the men in question prefer women who do not dress like streetwalkers 1 0\n",
      "omg we just had a monster queers on american idol lmfao 😂 😂 😂 0 2\n",
      "i hope obama and his corrupt cia get caught trying cut the power to our grid i d love to see that muslim goatf*cker <censored> in cuffs and a jumpsuit false flag obama 2 1\n",
      "women should be ashamed of themselves for letting transgender lesbian man hating dykes speak for them shame on you 2 1\n",
      "the solution to save the white race is clearly to vilify women and not have children after all who wants the burdens of marriage like our dumb ancestors they should have probably just chosen to stroke it out rather than continue on our race 1 2\n",
      "fox news terrorists and immigrant criminal gangs working together 0 1\n",
      "<percent> of white women have non white babies because of the brain washing of the media they date men of color to prove they are not racist wind up with muslims ghetto men and members of the drug cartel 1 0\n",
      "i guess i get complacent and forget not everyone lives in florida or has heard their names most anyone i talk to in a real life situation knows of them of course most anyone i talk to here is in agreement where liberals rats and muzzies are concerned 2 1\n",
      "the muslim handler for killary obozo had valerie jarrett 0 2\n",
      "have a nice day at work white man 1 0\n",
      "get the honky cat 1 0\n",
      "do not you love when nazi wannabes complain about israel because hey like we do not want them here but we do not want them there either stupidity 0 1\n",
      "and they could not even get attractive models to wear those retarded crayon scratching designs 0 1\n",
      "they are using arabs and africans to wipe out the western culture people it came from their mouths check my bitchute 2 0\n",
      "jim_jordan we want premiums to come down for middle class and working class families me too and illegals out welfare bums get off your asses get a job and pay your own damn way no refugees 2 0\n",
      "it called hijrah islamic migration for the sole purpose of spreading islam 0 1\n",
      "only boer farmers are welcome the suburban white population initiated this holocaust on themselves they would only come here for the rainbow flags and abundant niggerdick 2 1\n",
      "more white people are going to get red pilled by the media outrage at it okay to be white and more posters will go up awesome <happy> 1 0\n",
      "i hope the niglets keep going down on their knees its the only realistic depiction of blacks on fake news tv any chance of getting t shirts made that say <user> boycott nfl tebow rule cant pray owners are pleased with their blacks down on their knees 1 2\n",
      "some of the moslem invaders being honoured by the british regime 0 2\n",
      "black people still have not expressed their anger over current moslem slave owners in the middle east and north africa 0 2\n",
      "well uh not just bc of zombama and cunton they arabs and blax love slavery jews too as far as i can tell 2 1\n",
      "i really do not understand why white people can not say nigger i mean we invented it 0 2\n",
      "the more the demoncrats get pissed off the happier i am keep digging that hole with your retarded on hag cunt pelosi 1 2\n",
      "few weeks back he quoted a statistic from the government regarding the percentage of paki muslim men involved in rape of young children 0 2\n",
      "listen to me you fuck there is only one way you can say you are redpilled on women and that after you have created a family with one the sandnigger alien standards are those of a subhuman organism 2 1\n",
      "sherry fatso kim is not a threat yet the mil indus complex pretends that he is trump spoke about protecting our friends it is all bullshit 0 1\n",
      "common core weed too much ritalan chem trails vegan diet women studies at ivy league schools madcow msmbc too obnoxious to have a good guy 0 1\n",
      "so a gook threw out all of my books long story i am putting together an amazon cart with all of my old books and some new ones anyone have any suggestions 0 2\n",
      "i must ve been lucky back in my days of chasing poon as i found jewish women to be very easy as long as i pretended to have money 1 0\n",
      "can someone answer my question are tax payers still paying for the so called obama phones for low income and ghetto rats 2 1\n",
      "<number> in <number> google employees are women yeah cos white guys only hire white guys only <percent> of comp sci graduates are women kill me 1 0\n",
      "also let me add that even genuine refugees are often fleeing their home countries because they fear retribution for the very bad things they did to their fellow nationals steve sailor 0 1\n",
      "be proud of your heritage no nigger could ever make this kind of art and no nigger will ever come close to being half the man as general robert e lee 0 2\n",
      "thats homophobic you vile sand nigger 1 2\n",
      "pedophilia promoted by mohammed piss be upon him perfect rolemodel for every moslem 1 2\n",
      "we have several generations of women utterly incapable of making even the simplest sandwich 1 0\n",
      "i will stop caring for the arabs when i see militias cleaning house in dearborn michigan 0 2\n",
      "arab refugees the jews are fucking arabs 2 1\n",
      "<user> just told me he gained so much weight lately because of all of the nigger cum he been swallowing tmi vox i replied 1 2\n",
      "no no i will not i do not do that i told you i am a white woman sorry i really am not interested in you you are angry and strange perhaps you should lay off the soy lattes and dial up your meds 0 2\n",
      "so nice to see an american family in the white house and not the ghetto trash who was ruining our country maga gabfam britfam 2 1\n",
      "obama nicknames <number> <number> dollar muslim pimp a hole musloid a token to make stupid white people feel less guilty a tr <user> gay husband americahaterinchief america hating globalist elitist piece of trash arrogant pompous narcissistic thug attention hound b hussein blunder barack arafat 2 1\n",
      "<user> and <user> jailed today for highlighting the paki gangs raping british children in towns and cities across the uk our police will not do anything about it because they are busy engaging in this degeneracy 2 1\n",
      "the dirty wee paki that lives beside me came to my house there very upset said racists have been putting threatening letters through his door turns out it was a fiver off soap coupons 2 0\n",
      "iran our women and children are being raped murdered and stabbed by invading barbarians and we are worried about muh democracy in iran wtf iranprotests 2 0\n",
      "<user> may as well put you to good use <user> this is an example of a muslim catfish study it have fun with it but if you want to cry at me for a few more hrs i suppose that would just say some thing no 0 1\n",
      "the detroit lions revoked a season ticket holder tickets because he said nigger on twitter but they insist their players are allowed to express themselves freely so long as that expression is jew approved i gather the nfl hates you 1 2\n",
      "ancient made up european gods and ancient made up kike gods are the exact same thing if you are not worshiping actual god you are worshipping someone else that someone else is satan does not matter if you call him moloch odin or your ancestor spirit different names same being 1 2\n",
      "i do not see why people go camping if i wanted to freeze my balls off and shit in a bucket i would sleep at my aunt house in the ghetto 2 1\n",
      "online nazi haha guys the left can not meme <number> white privilege diversity is our strength race is just skin color the holocaust racist sexist bigot homophobe islamophobe anti semite 2 0\n",
      "we lost a young white male to suicide last night if you are hurting talk to someone even a stranger my bros reach out to our youth let them know they matter counteract the anti white vitriol being vomited at them every day 0 2\n",
      "silent weapons for quiet wars by hartford van dyke adventures in legalland by marc stevens dispatch of merchants by bill avery vacate void judgement by richard cornforth and school ten by gene keating 0 1\n",
      "<user> seems like the liberals an moslem nations do not like prezz trumps r americas agenda at the g20 well then we need <number> walk out of the g20 an tell them lets see how long u last without americas help 0 1\n",
      "you have a spic in a spic area he d have had to be the shooter himself almost to get fired a little bit of sexual harassment eyy mamasita joo bee lookin good is nothing to those muds best to deport them all 1 2\n",
      "the government needs to keep inspecting the places that towel heads worship cause they are bad places and whats going on with the cop killer that shot the white un armed woman 1 0\n",
      "<user> he a fucking faggy kike oh yeah bill mitchell got it as well he turned on the alt right yesterday as well saying white genocide and jq were conspiracy theories 1 2\n",
      "gab lately has gone absolutely full retard i havent seen this level of breakdown since i trolled themeparkreview com into the ground well me and a few other trolls guys you all need to chill 0 1\n",
      "so according to kike shapiro <number> out of <number> dead and <number> injured being members of hamas justifies everything 1 2\n",
      "you can sleep safe at night knowing these wonderful ladies at nato are defending you from moslem terrorist 2 0\n",
      "nigger lovin fgt 1 2\n",
      "um why does she have her aclu red panties on her head is that a sharia law thing or just ugly mussie women trying to attract men for sex can sorta see why mussie men chasing goats <happy> 2 1\n",
      "standup purity spiraled iself into a singer songwriter ghetto so that talented performers like a bob hope are not considered real comedians cause they paid other ppl to write jokes for them 0 1\n",
      "longest war $$ $$ in american history a few stinkin thousand muzzies we can not wipe out gen smedley butler war i a racket but make sure you cough up your tax $$ $$ for this bullshit farce or they throw you in jail 1 2\n",
      "wow you just admitted to wanting the homo sex eww the trolls on gab are retarded as hell maybe as technology improves so will the faggotry jeff mute this nigga mute 2 1\n",
      "the tsarnaev brothers remember them sorry you may know them by another title boston bombers shocking they were also called refugees what are the odds that islamic muslim refugees commit terrorism on the people and country they are taught to hate gab fam maga america first islam 1 0\n",
      "my paki muslim neighbour just got a job as a traffic warden i said what wrong mate were you unhappy that people did not hate you enough 1 2\n",
      "i wonder how many of those living in the ghetto now drinking leadened water and under constant threat of gang violence long for a secure bed and meals on the plantation 2 1\n",
      "and what does that make you a hearsay peddling moron what is a kike anyway what label may i place upon your genius how about peasant 1 2\n",
      "best live topic i have seen on gab check out this fucking mongrel having to raise this is a worse toll than mudshark glasses 1 2\n",
      "no guys this based chinaman billionaire is going to make america great again 0 2\n",
      "well the weasel and who is carrying water for the biggest liar in our country history obama is about to get his ass set on fire and the ex coon and moslem commander is going down too release the memo is finally here 1 2\n",
      "if the greeks from <number> years ago could see the olympics now they d throw up it all about more msm promotion of gays blacks and those who hate whitey back then it was a statement of see do not mess with my country we will f you up 2 1\n",
      "<user> you do not consider anything presented to you as evidence let alone irrefutable evidence you just continue to diagree you shifted this argument from the jews pushing the muslims in to the holocaust to af diary you can not win so you shift are you black or a woman 1 2\n",
      "star wars is so gay 0 1\n",
      "precinct and campaign meetings will confirm that it is only whites who hold any ideals about government non whites want free govt cheese and jews are crazy for power 1 0\n",
      "some faggot reported my avi on twitter the same as i have here i wish the main people i follow on twitter were on gab so i could abandon that shitty site 1 0\n",
      "egad my home is being invaded by black ants i wonder if this is some sort of cosmic symbolism for the third world immigrant invasion probably not i have not heard of any mexicans getting crushed by the thumb of damocles 1 0\n",
      "i am gonna go now but i will be back later we are just getting started you and i better rummage through your closet and find your dancing shoes bitch boy we are not done by a long shot 1 2\n",
      "i hate to say that liberal dictators are inevitable in any government in any country they will always have george soros funding and a islamic immigrant invasion to help physically kill white people religions indoctrinating kids because this is a switch of population while globalists are living 1 0\n",
      "come on faggot you can do better than that why do not you come at me with scholarly sources scratch that you raggedy ass faggots would not know a reputable source or scholars for that matter if it fucked you in the ass get thee behind me faggot 2 1\n",
      "brian ross suspension people lost money sorry but ziltch any sympathy those retarded enough to panic sell off shoudln t invest if they panicked over that they d ve lost it all later anyhow armaggedons can really occur but not everything armaggedon either concern but not actionable panic 0 1\n",
      "for fuck sake when is the western governments going to stop giving these retarded hostile muslims perpetual aid 2 1\n",
      "saudi arabia is about <percent> afro arab these are the original african arabs who were out of african migrants from the earliest days of human kind into arabia and stayed there and are indeed a black people saracens original arabs original berbers and semites are dark african peoples you know this 0 1\n",
      "we take mosque hit and runs very seriously but if you ’ re a muslim migrant and plow into a load of pedestrians we ’ ll do our best to rule it an accident 1 0\n",
      "a b testing is a bitch when you can not find a delete button <user> 1 0\n",
      "refugees will always feel threatened here in the us until they reject terrorists turn in the monsters in their communities adopt and support american laws and our constitution in other words assimilate until then refugees will feel threatened and rightly so their choice 1 0\n",
      "1 0 th floor maybe wow cnn with the fake news the body count is going to be waay bad too but we can all go home now they have the white ar <number> toting suicide shooter with huge drum mags dead on the 3 2 nd floor 1 0\n",
      "being lorded over by squatamalens and negresses is okay as long as they are from middle america 1 2\n",
      "considering many europeans have now been raped and killed horriby by islamic hoardes i wonder what the media reaction when the backlash comes it is bound to happen no doubt they will condemn it as a white nazi hate crime and come down hard on anyone critical of islam ban islam 2 1\n",
      "once racemixing became alluring purely because about <percent> of japanese women are not sluts white nationalism became seriously dis alluring i hear <percent> of rural russian women are not sluts though so that makes me a russian nationalist woohoo 2 0\n",
      "seems the london muzzies get a taste of their own medicine finsbury park 1 2\n",
      "dont like capitalism want socialism want national socialism also known as socialism for whites only got to africa jews have imposed socialism for blacks only there and if someone tries to open a business he gets shot by the jews 1 2\n",
      "now nik omar is da man perfect timing awesome strategy tetiba semua orang suka religious man atheist pon mungkin masuk islam nanti 0 1\n",
      "honestly the only woman i would not ever date is a solid black woman hispanics are aye okay asians are qu3 <number> i do not have yellow fever anymore but white girls can be crazy ass folk indian and arab women maybe but they gotta be shaved no negotiating that shit 2 0\n",
      "<number> year old black man charged with raping a <number> year old child in al it no secret why the black man loves islam because that moo haamed guy tells me i gots to gets me a <number> year old maga <user> <user> 2 0\n",
      "in all of us there lies two wolves a dark wolf and a white wolf the native american says the one you feed is the one that grows odin says feed them both grow them strong and unleash the one that suits the situation 0 1\n",
      "keft wing nazi <number> life 0 1\n",
      "hopefully he gets rid of the faggots and dykes next 1 2\n",
      "france problems are not going to fix themselves and this attack was just the tip of the iceberg uncontrolled immigration has been an ongoing issue in france for over a decade the only longstanding solution would be to deport every last moslem back to their home countries mega 1 2\n",
      "developers buying houses and dwelling buildings and leaving them unoccupied to make the neighborhood appear abandoned – like a ghetto or a slum such practices can be described as psychological manipulation that usually frightened the remaining white residents into selling at a loss 0 2\n",
      "yah christian island republic shall not have queers or witches on it if we find any death 2 0\n",
      "remember when subscribing to a youtube channel meant you got their videos in your sub feed now you have to click this retarded bell or else youtube will curate videos out of your sub feed without your permission 0 1\n",
      "all you so called jewish people and asians you actually white supremes 2 0\n",
      "you promote articles by fat dyke pipe fitters that a fantasy 1 2\n",
      "<user> forgot to tell you my favorite food is italian food do you make canoles it sad what happening over there with the refugees <sad> 0 1\n",
      "niggers in tulsa on video saying fuck the police after a wild nigger mentally ill was killed by cops we do not want or need niggers in america quit using <number> niggers call black lives matter instead of <number> better yet leave america now you worthless pieces of shit 1 2\n",
      "david a clarke jr ‏ verified account <user> 1 h1 hour ago where was the visceral reaction toward cam newton by the left when bill maher referred to himself as a house nigger on live tv they laughed 0 2\n",
      "how is all that awesome muslim diversity going for you native germans you have allowed this yourselves if you do not stand and fight against this you get what you asked for what you deserve 1 2\n",
      "where is the investigation on who gave that lying muzrat traitor a top secret clearance 2 1\n",
      "i mean i get that race exists but the qualifications are weird like we have caucasians that do not live in europe yet according to white supremacists here in the usa they are not classified as white 0 1\n",
      "nazi assholes <percent> good republican <percent> joke antifa hezbollah sandniggers10 little bitch mellenial <percent> stupid democrats that just veiw cause scard <percent> lmfao stupid dems open there mouths <percent> only few have balls lmfao 2 1\n",
      "the harassment of britain first continues they deserve your support 0 2\n",
      "<user> hey joo phebus you have still never explained your ties to jew lawyers and liberal actvists like diversity law group all you had to do is explain but you refuse but you demand others explain things to you you are such a textbook heeb operative just poorly trained 1 2\n",
      "these guys r more interested in placating a mob than in free speech <user> kessler <number> c ville city council he stood up <number> white people called the shouters the anti white kk <happy> city council mbr he close <number> hate speech scattered sheboon outbursts w heavy ebonics downpour thru out 2 0\n",
      "<user> given that he <percent> of the globalists top <percent> are kikescum and that the dictatorship ruling over americans is largely comprised of jewfilth perverts and criminals pace wikileaks and that the most powerful banking factions are mostly ratfaced yids 2 1\n",
      "the heeb fears the muramasa 0 2\n",
      "do dykes keep their nails short 2 1\n",
      "that the future face of the country is a dumb sexually confused hyperliberal negro should surprise no one 2 1\n",
      "those two were the first racist in the white house 1 0\n",
      "<user> conversano seen by some as controlled opposition advocates frontal clash risks civil war whereas the french white population has no weapons contrary to the heavily armed ghettos good idea 1 0\n",
      "using gas lighting propaganda for you horrible white southerners meant nothing real 0 1\n",
      "can you guys say nigger without getting arrested lol 1 2\n",
      "lol the only things an african has ever invented is peanut butter like wow we really couldnt live with out that meanwhile white people and asians have invented practically everything in the modern world 1 0\n",
      "daily reminder that any self proclaimed lolbertarian who does not like hoppe is a faggot and a disgrace real libertaryans were always politically incorrect 1 2\n",
      "eurocucks love to watch their wives get raped by migrants 2 1\n",
      "seen enough violence for this life besides they are doing a good job killing each other 0 1\n",
      "so a black girl wearing a trump themed dress and getting called coon is not racist but another black girl losing an award to a white girl is we do not have insane asylums big enough for this kind of mental illness 0 2\n",
      "well said lord pearson we are looking at millions of rapes of white and sikh girls other communities too by muslim men only <number> have been convicted since <number> can we talk about islam without being accused of hate crime lord pearson question in the house of lords islam is the problem 1 0\n",
      "<user> trump acts like a president obama acts like a nigger street punk from chicago the clintons act like white trash spoiled crybabies and sore losers 1 2\n",
      "have just another rabbit running on facebook under the honey badge guise this one is a little rocket wicked fun making jews dance the homo paedo dave slatfascists is unable to find me on facebook 2 0\n",
      "i m guessing that the first thing a white muslim terrorist man would do is throw this thing off a very tall building 2 0\n",
      "ye olde niggra tax makes us pay more for home car insurance police ambulance medical schools school resource officers school po po <happy> security entertainment we have to commute farther to work the niggra tax is endless in a perfect world muslims would blow up blacks <happy> 2 1\n",
      "just call them jews 0 2\n",
      "baked alaska is probably my favorite anti racist holocaust denier definitely top <number> 1 0\n",
      "your friendly moslem who went all allah akhbar today in france 0 2\n",
      "daily reminder that with the jews you lose do not believe me just ask jesus 1 2\n",
      "saw the new star whores movie this is my review a long long time ago in a ghetto far far away it is a period of cibil rights nigga rocketships striking from dey hood dey have won dey first victory against the ebil cracka empire 2 1\n",
      "purple haired dyke fascism please stop this meme 1 2\n",
      "i am presuming he means the standard left wing idiots lots of hypocritical women amongst them think maria ladenburger obviously you are against these fucking muhammedans 2 0\n",
      "joy ann reid is a bloviating niggress brood sow who does not know what the fuck hacking is 1 2\n",
      "european capitols arent american besides europe allowed the muzzies in anyway not my problem 1 2\n",
      "per capita whites are doing much better than the chinese besides i think you are over estimating how much soy the average chinaman actually eats 0 1\n",
      "i am so glad i do not live there anymore i got out before the muslim invasion of minnesota 2 0\n",
      "brennan is a vicious nasty muslim convert no act is too low for him 1 2\n",
      "lol <user> what happened the owner of this website pew tube has banned you temporarily from accessing this website i dindunuffin 0 2\n",
      "women do not understand the difference between fact and opinion nor do they understand that not all opinions are equal some do but the vast majority including high iq women do not of course it also true that most men are women 1 0\n",
      "thinking about creating a based nigger in a trump hat twitter account just so i can get a shit load of followers fast then act like i just discovered the jews are up to some real shit see whose side the normie conservatives take lol 0 2\n",
      "<user> was a useful tool for a few months bringing new ideas to homosexual worshipping millennials he a gateway drug 0 1\n",
      "by taking known numbers of muslim refugees being allowed onto our soil daily <number> multiplying each by <number> for chain migration every muslim in the world could potentially be here by <number> enough diversity yet sto pislam ba nislam 2 0\n",
      "muslim chaplain of the canadian army wtf why i am sure our muzzie friends and allies have a priest in their army hell i doubt there is one in the whole country fk islam can fam speak freely 2 1\n",
      "<user> we have all been raped by these assholes cathy obrian came out years ago 1 2\n",
      "jews started terrorism murdering and bombing in jerusalem jews are fucking arabs 1 2\n",
      "these are the refugees that europe should be taking in 0 1\n",
      "i dont care about hitler because i care about western people hitler allows millions of jews to pose as neonazis to cuck millions of gentiles from rebelling against jews for fear of being called a nazi 0 1\n",
      "<user> look at the video spencer did not do a nazi salute a few in the audience did spencer is not responsible for the audience you are buying into the msm narrative here 0 1\n",
      "this is why i propose using baconas a vetting process it smells good tastes great and its muslim kryptonite 1 0\n",
      "<number> <number> the ghetto plantation the ghetto plantation was designed to keep them poor desperate and under control while keeping them voting against their own welfare for decades neo marxist saul alinsky based much of his tactics on the democrats approach to blacks and the us government approach to the native americans 0 1\n",
      "they are calling nick fuentes not part of the movement as if the movement is some sort of cult and saying he an immature attention seeker i have <number> problem with women who are mothers speaking out for our people just these single ladies should not do beta farming 1 0\n",
      "but moslem men and even children also get raped by moslem men 1 0\n",
      "<user> vk looks interesting i might actually install it however at first glance it does not appear to solve the digital ghetto problem all the information in one place diaspora is shit but it at least tries to solve the digital ghetto but fails note gab does not solve it either 0 1\n",
      "breitbart com video <number> <number> <number> bengals cb adam pacman jones to cops during arrest i hope you die tomorrow … many try to ignore it but <user> full of ghetto thugs stop supporting them you just make them rich ghetto thugs 1 0\n",
      "the civil rights movement was nothing more than a communist push for special rights for non whites via jewish legal teams capitalizing off media influenced white guilt and misplaced altruism that would change the face of america into what it is today 2 1\n",
      "<user> they realized their choice in studies was worthless tried to get their ghetto sugar daddy to make us pay for their bad choice to bad dint work 1 0\n",
      "muslim migrant rapes more women than canadian bernado yet media stays silent we wonder why no one trusts the media any more 1 0\n",
      "if muzrats reckon muzrat countries are houses of peace and non muzrat countries are houses of war then every muzrat in non muzrat countries should be considered as soldiers or spies behind enemy lines 1 2\n",
      "damn right we are going to react when an <percent> white country pushes non white actors everywhere 1 0\n",
      "as much as i appreciate a format of open discussion i really just want a facebook that i can say beaner on 0 2\n",
      "march for our lives protesters trash streets of d.c. after gun control march similar to environmental protests compare to conservative dan bake sale that left streets spic and span after <number> gathered in fort collins 2 0\n",
      "i know we are all worried about whether trump will cave on daca what will go on with the norks and the iranians whether we will stem the tide of moslem migration and postmodernist degeneracy but let us ask the real questions should i make soft pretzels or english muffins 0 2\n",
      "why jews are profiting from the us importing moslem refugees 2 0\n",
      "<user> <user> trump has offered cnn an outsourcing waiver if they want to replace us idiot queers with smarter queers from india zucker compares these to obama aca waivers to unions and says laws are not for every body you know meanwhile lemon alleges cooper is a racist scab 0 1\n",
      "as fully vested members of the same grisly club you can always count on the queers to side with the murderous abortionists in a moving display of solidarity among separate but equal planks in the culture of death ireland 2 0\n",
      "how did these jews make such an accurate representation of the pro white movement it just like us 0 2\n",
      "the blm leadership have been out disrupting lgbt events the black militant muscle panthers guerilla family et al who were murdering whites cops are who knows where the street thugs burning and looting are probably in and out of jail or being moved to prey on the white suburbs 2 1\n",
      "ricky i very much wish this could be a possibility in the us however the data since the <number> until today proves that blacks jews mestizos and asians vote overwhelmingly for democrats non whites vote overwhelmingly for less freedom bigger govt and more gibs me dat please explain 2 0\n",
      "socialist dictator socialist feminist son of a whore space cadet spoiled bitch stuttering barky stuttering clusterfuck the brown clown the choom gangster in chief the color muslim the community agitator the crony elitist presy the drama king the execuitve infant the face of evil 2 1\n",
      "brennan is a traitor any other muslim who attains a position of responsibility will also commit treason muslims cannot be muslims while upholding the us constitution or its laws they are irrevocably in conflict with so called islamic law 1 2\n",
      "leftists truly believe that by feminizing our nation men there will be no more war or violence have they seen the ghettos where women are responsible for raising the criminal class they just do not think do they 1 0\n",
      "now now with all of these needy white people crying out to beto y maria garcía from michoacan for remedial human reproductive sexual instruction the least you could do is inform them the kamasutra offers a frog position 0 2\n",
      "spin the wheel of sexual harassment folks who will it be next and for what crime mccain violation of the logan act podesta for the evil that he is clinton of course but pick your fucking poison 1 0\n",
      "lol i see you changed your picture so you can advocate mixing races while using the fellow white people line 0 1\n",
      "you can change your heart but you can not change your fellow man heart if a group of people participates in honor killings genital mutilations treating women as property and legal pedophilia the chances of you changing that are remote we have got our nation and they have got theirs trump maga 1 0\n",
      "gta san andreas the story of an above average somewhat talented black man who escapes the ghetto and becomes reasonably successful only to be dragged back in in the final act because his brother is a stubborn dumbass -_- 0 1\n",
      "cool story bro tell me the one about the based nigger in a trump hat next 1 2\n",
      "wait so ur tellin me not only is the earth not flat but niggers be on other planets i guess i should not be surprised after learning what ethnic swedes look like i always thought they were hot blondes 1 2\n",
      "this is the general attitude of all ghetto apes 2 1\n",
      "ventura only governor to refund overpaid taxes back to those who paid them burqa betsy just fired gay police chief who demanded open investigation against mudslime cop that murdered white christian woman appointed mudslime as new chief burqa betsy will lose gay vote and mayor position 1 2\n",
      "because fuck sargon remember what these little niglets grow in to hahahahaha 2 1\n",
      "p at least harvey weinstein only raped and assaulted the gentiles not angelina jolie or gwyneth paltrow so he still a good jew 😂 2 1\n",
      "it more it news community looks into the lives of people we d otherwise not know let us get real too not so many ghetto phone dindus and skanks 0 1\n",
      "install writing app on phone connect tiny bluetooth keyboard type up shit on my phone while on my balcony using this ghetto set up good feeling gab writers 0 1\n",
      "<user> and this is why zionist hate him and want to destroy russia they kicked out the big banks owned by kenite jews russia is literally the last vestige of white values left in the world 0 2\n",
      "baby was a black sheep baby was a whore baby gotten big and baby getting bigger baby got some then baby want more baby baby baby was a rock roll nigger 0 2\n",
      "who were the utter fuckwits that thought nazi salutes nazi symbolism and yelling gas the kikes was a good idea way to let a legitimate protest be ambushed charlottesville 1 0\n",
      "interesting note to self determine which dna test the israeli government uses to test immigrants so that unfortunate mis identifications can be avoided during shoah <number> electric boogaloo 1 0\n",
      "the only people trump is playing chess against are the american people the jew controlled alt right are full of liars and traitors ask yourselves would adolf hitler shake netanyahu hand would he prostrate himself like a bitch before the wailing wall 2 1\n",
      "we can never have this as long as there are blacks jews spics muslims and asians 1 2\n",
      "clapton told the crowd that england had become overcrowded vote for powell to stop britain from becoming a black colony that britain should get the foreigners out get the wogs out get the coons out then repeatedly shouted the national front slogan keep britain white prophetic 0 2\n",
      "what the hell is it with shitty gab trolls and calling people monkeys maybe that kike freud was right 1 2\n",
      "edited their news headline for clarity the most common baby name for a moslem in england muhammad mohammed 1 0\n",
      "we are falling into the dead end of a sub culture more than the ideological ghetto of libertarianism et el 0 2\n",
      "damn it 9 eyedeel disemboweling was my sadistic recommendation of the day with these posts the nigger beat me to it 1 2\n",
      "bill clinton raped multiple women and lied under oath not a single democrat voted to remove him from office we refuse to accept their claimed moral authority and we will vote in our own interests as we see fit regardless of what lies the washington post chooses to print 1 0\n",
      "this post is clearly bait from someone who wants to get sent pictures of asians with nice asses 1 0\n",
      "the neo nazi faggots are all running back to twitter twatter i dunno i am attempting an educated guess the next question is what or who scared the shit out of them and made them run away 2 1\n",
      "because its a scam run by kikes to enforce world domination while using white lives to do so or perhaps you missed the part about how we have done nothing but invade nations since the end of ww2 that have never attacked us 1 0\n",
      "and a closet muslim like obama jerks off whenever the rads go boom 1 2\n",
      "idea for europe send refugees to caribbean to help rebuild hurricane irma damaged islands let them show how compassionate they can be thousands of miles away 0 2\n",
      "there are good and decent people here who have no interest in hearing “ jew nigger kike spic jap wop dago mick kraut porch monkey sand nigger moon cricket ” must they endure just so you can have your opinion validated 0 2\n",
      "i do not encourage kafir kids to drink from moslem cups tissue is haram to them they wipe their ass with their hands 1 2\n",
      "when their still putting the dead in body bags but all you can think about is the backlash islamophobia the moslem community might face 0 2\n",
      "the question i ask myself most often is why the negro race keeps running away from themselves to live amongst the white race and then turn around and blame the white race for their pathetic existence in the land from whence they came 1 2\n",
      "dear ghetto dwelling leaches put down the crack pipe and weed <user> 2 1\n",
      "tfw i never got to use my white privilege to just walk into a starbucks and take a huge shit without buying a small coffee 0 2\n",
      "it still in debate on whether or not it harassment or this guy just being really good at twisting a story 0 1\n",
      "he also supported other causes in <number> he tackled the issues of human trafficking and gang violence when he directed the videos for his tracks for a better day and pure grinding all the songs have a story i wanted to tell avicii said avicii qanon 1 0\n",
      "sounds pretty queer to me 0 1\n",
      "can i say nigger too 0 2\n",
      "even when they are stuck between two white babies like an inside out oreo cookie 1 2\n",
      "so there is nothing wrong with them leaving women alone if they are worthless to them 0 1\n",
      "the left labels trump supporters as being uneducated but chooses to side with third world refugees that have zero conception of how democracy works just liberal things maga democrats cucks trump 1 0\n",
      "president trump has the patience of a saint if it were me in his place i would have declared martial law rounded up every member of the retarded liberal media and shipped them all to a gulag in antarctica 1 0\n",
      "please can you enlighten me as to why chabad jews think they are superior are we all not gods children <number> is a very important number yes its not just your religious number i would welcome conversation with you to try and understand your attitude towards goyem life 1 2\n",
      "meh more likely it the digital version of rent seeking racist kike slumlords son do not rent to white men white men insist that the plumbing works and do not rent to your brother he deserves better than a ghetto 2 1\n",
      "attention all lieberal feminazi here a cause for you put on your pussy hats and go get the toxic male responsible for actual pussy grabbing c mon lying bitches still waiting 2 1\n",
      "true but the most disgusting thing would be a muslim twerking a goat 1 2\n",
      "biological traitors that want to wallow in a ghetto 0 1\n",
      "frikkin jootoob put it in restricted mode now could not watch the whole show live and the spergchat replay is now gone sadface emoji many lulz in gariépy ghetto will be missed youc the nuke hoiyt sum poowah diyvoyse folks feewings and got poowah papa jf reepoyted ohw gawd 0 1\n",
      "what a tortured little soul is putting a period after every word the white people version of clapping your hands as you speak it been a long time since i have seen your what a dolt 0 2\n",
      "i noticed in this sting operation video the brown third worlder who was unabashed about banning right wingers is an indian its very embarassing for us indians in india when these dumbfucks go to usa settle there and then decide to backstab white majority by spewing venom against them kick them out 1 0\n",
      "ben is a dumb kike but he sure is god at burning sjw faggots so he is a predictable winner for fag to fag confronts 1 2\n",
      "i know my previous post was pretty cucked i believe in enforcing the law but this guy was a good kid why can not we just deport the shitskin muzzles instead that why i mainly voted for trump 2 0\n",
      "in time my friend in time they do already support the acid in my moslem wife ’ face libtards hollywood sucks 1 2\n",
      "it not just mainstream media i do not like the argument that many people on gab or any where on the interenet have yo my neighborhood had a bunch of asians and blacks moving in i moved cause i did not want to deal with that that not genocide 2 0\n",
      "how long until it is revealed hollywood stars and directors raped and molested children regularly and it was known and an open secret within the industry 0 1\n",
      "this was a total bullshit rule housing is segregated by income more than anything this rule would force wealthy neighborhoods to allow section <number> housing be built in high end communities under the guise of diversity and equality bringing the ghetto to you 0 1\n",
      "pretty sure he fought the confederacy pretty sure your party uses lincolns name to endear coon black folks like <user> and <user> to your party while at the same time celebrating the people who fought him and killed him lol 2 0\n",
      "when you are fighting a war as retarded as afghanistan all you have to keep you going are your brothers and he betrayed them i do not even want this shithead tortured i just want him dead you do not waste torture on a cockroach you step on it 1 2\n",
      "<user> jews have their own country they should stop meddling and trying to flood our nations with immigrants 2 0\n",
      "ijeuma oluo lol bet their real name something really ghetto like ty jon or something i notice that the woke african americans love to use african names to virtue signal their identity like that comic artist kwanzer osajyefo 1 0\n",
      "police are reporting they are on the look out for moslem convert terror suspect al samel haeed 0 2\n",
      "i bet your queers have a hard time typing the word pussy that is why you shit logs smell like ass and astro glide 1 2\n",
      "plus he a faggot so he likes things up his ass 2 1\n",
      "it always women trying this shit like dingbat dingell and joe manchin not a single woman should be allowed to serve in congress 1 0\n",
      "i feel that i am a muslim and you whores need to put on a burqa so that someone that is not me accidentally does not stone you to death 1 2\n",
      "there is a yid involved in very single breaking story out of the white house it interesting that jews are over represented in our government but can somehow avoid blame for any failures in governance it as if the media is somehow colluding to absolve them of any guilt 2 0\n",
      "<number> yr ago muslims shot killed whites blacks latinos asians christians jews for the fact they were non muslim americans san bernardino 1 2\n",
      "yet another muslime nigger heard from 1 2\n",
      "i look forward to the days where women can support each other by teaming up to be homestead mother teachers and take back the education that is instilled in them no more hating yourself because you are white 1 2\n",
      "the three women refs in the women uconn vs texas basketball game tonight stank despite the crappy officiating the better team won 1 2\n",
      "another bbc poster paki stani 0 2\n",
      "i would say its the jews but well it is sorta its not that simple 1 0\n",
      "thanks jews how it started 1 2\n",
      "he called me a pig when i asked question lol he has no answer its just typical yid technique believe me even i lie otherwise it anti semitic 1 0\n",
      "conservative values are universal it just a weird statistical blip that they arose in a <percent> white america and survive in a <percent> white gop captain demsrrealracist 0 1\n",
      "i swear if i ever die someday and some sorry son of bitch votes democrat on my behalf i will comeback and slash that motherfucker 1 0\n",
      "two of the people i am really getting sick and tired of seeing as guests on these evening news programs are that wild eyed gook malkin and the physically retarded jew krauthammer i change the channel when they come on there are others the list is growing 2 1\n",
      "microsoft retarded the entire us information technology industry for <number> years because the keeped migrating and mutating their application program interfaces so that third parties could not built sense making tools on top of the microsoft offerings david robert steele i know more that steve ballmer 0 1\n",
      "imagine if someone wrote a <number> page racial history of jews white interactions in europe and casually noticed that millions of jews had been baptized and became faithful productive citizens that reversed is what i hold e michael jones has done team white 2 0\n",
      "please address the issue of white kids quotations for obvious reasons being raped all across the uk by muslim grooming gangs rotherham is but one city where this is happening but there are many many others and yes this is still continuing and still not being addressed by the police 2 0\n",
      "or white black on gay black on white black on trump violence is common the media schools and gov will have you believe it is the opposite 1 0\n",
      "swedish prime minister stefan löven condemns minor attack by muslims against the synagogue in gothenburg he wants more money for holocaust propaganda and harsh punishment for antisemitism swedes have been murdered and raped for years without him saying a word a shekel for a good goy 1 0\n",
      "should martin shkreli get raped in prison 2 1\n",
      "<number> pakis have been found dead in bradford it not terrorism related but thought to be due to a bunk bed collapsing police are blaming al ikea 1 0\n",
      "objectively east asians are an upgrade intelligence and the mixes are frequently stunning look at kristin kreuk dutch chinese and hybrid vigor is a thing 1 0\n",
      "he sounds like a clothing line i will start a line of robes called tommy goatfucker 1 2\n",
      "yeah i got to about just over <number> followers and got shoahed for criticizing amy schumer being cast as barbie and just never bothered to return and surprise surprise i was correct and they nixed that kikey plan but whatevs <happy> 2 1\n"
     ]
    }
   ],
   "source": [
    "for i,j,k in zip(x_test,y_test,y_pred):\n",
    "    if(j!=k):\n",
    "        print(i,j,k)"
   ]
  },
  {
   "cell_type": "code",
   "execution_count": null,
   "id": "f42d4db7",
   "metadata": {},
   "outputs": [],
   "source": []
  },
  {
   "cell_type": "code",
   "execution_count": null,
   "id": "29e6964d",
   "metadata": {},
   "outputs": [],
   "source": []
  },
  {
   "cell_type": "code",
   "execution_count": null,
   "id": "dfc326f3",
   "metadata": {},
   "outputs": [],
   "source": []
  },
  {
   "cell_type": "code",
   "execution_count": null,
   "id": "195006cf",
   "metadata": {},
   "outputs": [],
   "source": []
  },
  {
   "cell_type": "code",
   "execution_count": null,
   "id": "4b15a58c",
   "metadata": {},
   "outputs": [],
   "source": []
  },
  {
   "cell_type": "code",
   "execution_count": 311,
   "id": "93b70531",
   "metadata": {},
   "outputs": [],
   "source": [
    "y_pred_proba1=pipeline1.predict_proba(x_train)\n",
    "y_pred_proba2=pipeline1.predict_proba(x_val)\n",
    "y_pred_proba3=pipeline1.predict_proba(x_test)\n",
    "\n",
    "y_pred_proba11=pipeline2.predict_proba(x_train)\n",
    "y_pred_proba22=pipeline2.predict_proba(x_val)\n",
    "y_pred_proba33=pipeline2.predict_proba(x_test)"
   ]
  },
  {
   "cell_type": "code",
   "execution_count": 346,
   "id": "61215cb3",
   "metadata": {},
   "outputs": [
    {
     "name": "stdout",
     "output_type": "stream",
     "text": [
      "8377 1010 1036\n",
      "              precision    recall  f1-score   support\n",
      "\n",
      "           0     0.3906    0.8102    0.5271       216\n",
      "           1     0.5752    0.2885    0.3843       305\n",
      "           2     0.8322    0.7029    0.7621       515\n",
      "\n",
      "    accuracy                         0.6033      1036\n",
      "   macro avg     0.5993    0.6005    0.5578      1036\n",
      "weighted avg     0.6645    0.6033    0.6019      1036\n",
      "\n",
      "roc-auc :  0.8048539608767089\n"
     ]
    }
   ],
   "source": [
    "#balanced only pid\n",
    "pipeline = Pipeline([\n",
    "    ('clf', SGDClassifier(loss=\"log\",class_weight=\"balanced\",max_iter=100)),\n",
    "])\n",
    "print(len(y_train),len(y_val),len(y_test))\n",
    "pipeline.fit(np.hstack([y_pred_proba3,y_pred_proba33]),y_test)\n",
    "y_pred=pipeline.predict(np.hstack([y_pred_proba3,y_pred_proba33]))\n",
    "y_pred_proba=pipeline.predict_proba(np.hstack([y_pred_proba3,y_pred_proba33]))\n",
    "from sklearn.metrics import classification_report\n",
    "print(classification_report(y_test,y_pred,digits=4))\n",
    "print(\"roc-auc : \",roc_auc_score(y_test,y_pred_proba,multi_class='ovr'))"
   ]
  },
  {
   "cell_type": "code",
   "execution_count": null,
   "id": "506b69eb",
   "metadata": {},
   "outputs": [],
   "source": []
  },
  {
   "cell_type": "code",
   "execution_count": 270,
   "id": "fc045a34",
   "metadata": {},
   "outputs": [],
   "source": [
    "x_train, y_train = get_d(\"train\",0)\n",
    "x_val, y_val = get_d(\"val\",0)\n",
    "x_test, y_test = get_d(\"test\",0)"
   ]
  },
  {
   "cell_type": "code",
   "execution_count": 271,
   "id": "9dc94c5c",
   "metadata": {},
   "outputs": [
    {
     "name": "stdout",
     "output_type": "stream",
     "text": [
      "8377 1010 1036\n",
      "              precision    recall  f1-score   support\n",
      "\n",
      "           0     0.3228    0.4259    0.3673       216\n",
      "           1     0.3578    0.2721    0.3091       305\n",
      "           2     0.6224    0.6272    0.6248       515\n",
      "\n",
      "    accuracy                         0.4807      1036\n",
      "   macro avg     0.4343    0.4417    0.4337      1036\n",
      "weighted avg     0.4820    0.4807    0.4781      1036\n",
      "\n",
      "roc-auc :  0.64735978255232\n"
     ]
    }
   ],
   "source": [
    "#balanced only context\n",
    "pipeline1 = Pipeline([\n",
    "    ('vect', CountVectorizer(ngram_range=(1, 1))),\n",
    "    ('tfidf', TfidfTransformer()),\n",
    "    ('clf', SGDClassifier(loss=\"log\",class_weight=\"balanced\")),\n",
    "])\n",
    "print(len(y_train),len(y_val),len(y_test))\n",
    "pipeline1.fit(x_train,y_train)\n",
    "y_pred=pipeline1.predict(x_test)\n",
    "y_pred_proba=pipeline1.predict_proba(x_test)\n",
    "\n",
    "\n",
    "\n",
    "from sklearn.metrics import classification_report\n",
    "print(classification_report(y_test,y_pred,digits=4))\n",
    "print(\"roc-auc : \",roc_auc_score(y_test,y_pred_proba,multi_class='ovr'))"
   ]
  },
  {
   "cell_type": "code",
   "execution_count": 272,
   "id": "84131c17",
   "metadata": {},
   "outputs": [],
   "source": [
    "x_train, y_train = get_d(\"train\",1)\n",
    "x_val, y_val = get_d(\"val\",1)\n",
    "x_test, y_test = get_d(\"test\",1)"
   ]
  },
  {
   "cell_type": "code",
   "execution_count": 273,
   "id": "7eab98fa",
   "metadata": {},
   "outputs": [
    {
     "name": "stdout",
     "output_type": "stream",
     "text": [
      "8377 1010 1036\n",
      "              precision    recall  f1-score   support\n",
      "\n",
      "           0     0.5000    0.4861    0.4930       216\n",
      "           1     0.5390    0.5213    0.5300       305\n",
      "           2     0.7608    0.7845    0.7725       515\n",
      "\n",
      "    accuracy                         0.6448      1036\n",
      "   macro avg     0.5999    0.5973    0.5985      1036\n",
      "weighted avg     0.6411    0.6448    0.6428      1036\n",
      "\n",
      "roc-auc :  0.8022174892584001\n"
     ]
    }
   ],
   "source": [
    "#balanced only pid\n",
    "pipeline2 = Pipeline([\n",
    "    ('vect', CountVectorizer(ngram_range=(1, 1))),\n",
    "    ('tfidf', TfidfTransformer()),\n",
    "    ('clf', SGDClassifier(loss=\"log\",class_weight=\"balanced\")),\n",
    "])\n",
    "print(len(y_train),len(y_val),len(y_test))\n",
    "pipeline2.fit(x_train,y_train)\n",
    "y_pred=pipeline2.predict(x_test)\n",
    "y_pred_proba=pipeline2.predict_proba(x_test)\n",
    "from sklearn.metrics import classification_report\n",
    "print(classification_report(y_test,y_pred,digits=4))\n",
    "print(\"roc-auc : \",roc_auc_score(y_test,y_pred_proba,multi_class='ovr'))"
   ]
  },
  {
   "cell_type": "code",
   "execution_count": 274,
   "id": "acbc741a",
   "metadata": {},
   "outputs": [],
   "source": [
    "y_pred_proba1=pipeline1.predict_proba(x_train)\n",
    "y_pred_proba2=pipeline1.predict_proba(x_val)\n",
    "y_pred_proba3=pipeline1.predict_proba(x_test)\n",
    "\n",
    "y_pred_proba11=pipeline2.predict_proba(x_train)\n",
    "y_pred_proba22=pipeline2.predict_proba(x_val)\n",
    "y_pred_proba33=pipeline2.predict_proba(x_test)"
   ]
  },
  {
   "cell_type": "code",
   "execution_count": 304,
   "id": "e9123973",
   "metadata": {},
   "outputs": [
    {
     "name": "stdout",
     "output_type": "stream",
     "text": [
      "8377 1010 1036\n",
      "              precision    recall  f1-score   support\n",
      "\n",
      "           0     0.4852    0.5324    0.5077       216\n",
      "           1     0.5338    0.5443    0.5390       305\n",
      "           2     0.7889    0.7476    0.7677       515\n",
      "\n",
      "    accuracy                         0.6429      1036\n",
      "   macro avg     0.6026    0.6081    0.6048      1036\n",
      "weighted avg     0.6505    0.6429    0.6462      1036\n",
      "\n",
      "roc-auc :  0.7978376493389128\n"
     ]
    }
   ],
   "source": [
    "#balanced only pid\n",
    "pipeline = Pipeline([\n",
    "    ('clf', SGDClassifier(loss=\"log\",class_weight=\"balanced\")),\n",
    "])\n",
    "print(len(y_train),len(y_val),len(y_test))\n",
    "pipeline.fit(np.hstack([y_pred_proba1,y_pred_proba11]),y_train)\n",
    "y_pred=pipeline.predict(np.hstack([y_pred_proba3,y_pred_proba33]))\n",
    "y_pred_proba=pipeline.predict_proba(np.hstack([y_pred_proba3,y_pred_proba33]))\n",
    "from sklearn.metrics import classification_report\n",
    "print(classification_report(y_test,y_pred,digits=4))\n",
    "print(\"roc-auc : \",roc_auc_score(y_test,y_pred_proba,multi_class='ovr'))"
   ]
  },
  {
   "cell_type": "code",
   "execution_count": null,
   "id": "b06008d5",
   "metadata": {},
   "outputs": [],
   "source": []
  },
  {
   "cell_type": "code",
   "execution_count": null,
   "id": "09a74ec1",
   "metadata": {},
   "outputs": [],
   "source": []
  },
  {
   "cell_type": "code",
   "execution_count": null,
   "id": "ea8f852a",
   "metadata": {},
   "outputs": [],
   "source": []
  },
  {
   "cell_type": "code",
   "execution_count": null,
   "id": "04ddf26d",
   "metadata": {},
   "outputs": [],
   "source": []
  },
  {
   "cell_type": "code",
   "execution_count": null,
   "id": "14f0e42f",
   "metadata": {},
   "outputs": [],
   "source": []
  },
  {
   "cell_type": "code",
   "execution_count": 238,
   "id": "61d5dc18",
   "metadata": {},
   "outputs": [
    {
     "name": "stdout",
     "output_type": "stream",
     "text": [
      "8355 1023 1045\n",
      "              precision    recall  f1-score   support\n",
      "\n",
      "           0     0.3608    0.2767    0.3132       206\n",
      "           1     0.3736    0.3119    0.3400       327\n",
      "           2     0.5847    0.7012    0.6377       512\n",
      "\n",
      "    accuracy                         0.4957      1045\n",
      "   macro avg     0.4397    0.4299    0.4303      1045\n",
      "weighted avg     0.4745    0.4957    0.4806      1045\n",
      "\n",
      "roc-auc :  0.6489582179198256\n"
     ]
    }
   ],
   "source": [
    "#balanced only pid\n",
    "pipeline = Pipeline([\n",
    "    ('vect', CountVectorizer(ngram_range=(1, 1))),\n",
    "    ('tfidf', TfidfTransformer()),\n",
    "    ('clf', SGDClassifier(loss=\"log\",class_weight=\"balanced\")),\n",
    "])\n",
    "print(len(y_train),len(y_val),len(y_test))\n",
    "pipeline.fit(x_train,y_train)\n",
    "y_pred=pipeline.predict(x_test)\n",
    "y_pred_proba=pipeline.predict_proba(x_test)\n",
    "from sklearn.metrics import classification_report\n",
    "print(classification_report(y_test,y_pred,digits=4))\n",
    "print(\"roc-auc : \",roc_auc_score(y_test,y_pred_proba,multi_class='ovr'))"
   ]
  },
  {
   "cell_type": "code",
   "execution_count": 205,
   "id": "78a795b1",
   "metadata": {},
   "outputs": [
    {
     "name": "stdout",
     "output_type": "stream",
     "text": [
      "8355 1023 1045\n",
      "              precision    recall  f1-score   support\n",
      "\n",
      "           0     0.3156    0.3447    0.3295       206\n",
      "           1     0.3918    0.2936    0.3357       327\n",
      "           2     0.6052    0.6797    0.6403       512\n",
      "\n",
      "    accuracy                         0.4928      1045\n",
      "   macro avg     0.4375    0.4393    0.4351      1045\n",
      "weighted avg     0.4813    0.4928    0.4837      1045\n",
      "\n",
      "roc-auc :  0.6525857254898443\n"
     ]
    }
   ],
   "source": [
    "#balanced only context\n",
    "pipeline = Pipeline([\n",
    "    ('vect', CountVectorizer(ngram_range=(1, 1))),\n",
    "    ('tfidf', TfidfTransformer()),\n",
    "    ('clf', SGDClassifier(loss=\"log\",class_weight=\"balanced\")),\n",
    "])\n",
    "print(len(y_train),len(y_val),len(y_test))\n",
    "pipeline.fit(x_train,y_train)\n",
    "y_pred=pipeline.predict(x_test)\n",
    "y_pred_proba=pipeline.predict_proba(x_test)\n",
    "from sklearn.metrics import classification_report\n",
    "print(classification_report(y_test,y_pred,digits=4))\n",
    "print(\"roc-auc : \",roc_auc_score(y_test,y_pred_proba,multi_class='ovr'))"
   ]
  },
  {
   "cell_type": "code",
   "execution_count": 208,
   "id": "c8e38621",
   "metadata": {},
   "outputs": [
    {
     "name": "stdout",
     "output_type": "stream",
     "text": [
      "8355 1023 1045\n",
      "              precision    recall  f1-score   support\n",
      "\n",
      "           0     0.4455    0.4369    0.4412       206\n",
      "           1     0.4865    0.4954    0.4909       327\n",
      "           2     0.7431    0.7402    0.7417       512\n",
      "\n",
      "    accuracy                         0.6038      1045\n",
      "   macro avg     0.5584    0.5575    0.5579      1045\n",
      "weighted avg     0.6042    0.6038    0.6040      1045\n",
      "\n",
      "roc-auc :  0.7713579072412374\n"
     ]
    }
   ],
   "source": [
    "#balanced only text\n",
    "pipeline = Pipeline([\n",
    "    ('vect', CountVectorizer(ngram_range=(1, 1))),\n",
    "    ('tfidf', TfidfTransformer()),\n",
    "    ('clf', SGDClassifier(loss=\"log\",class_weight=\"balanced\")),\n",
    "])\n",
    "print(len(y_train),len(y_val),len(y_test))\n",
    "pipeline.fit(x_train,y_train)\n",
    "y_pred=pipeline.predict(x_test)\n",
    "y_pred_proba=pipeline.predict_proba(x_test)\n",
    "from sklearn.metrics import classification_report\n",
    "print(classification_report(y_test,y_pred,digits=4))\n",
    "print(\"roc-auc : \",roc_auc_score(y_test,y_pred_proba,multi_class='ovr'))"
   ]
  },
  {
   "cell_type": "code",
   "execution_count": 216,
   "id": "3a998bad",
   "metadata": {},
   "outputs": [
    {
     "name": "stdout",
     "output_type": "stream",
     "text": [
      "8355 1023 1045\n",
      "              precision    recall  f1-score   support\n",
      "\n",
      "           0     0.4591    0.4903    0.4742       206\n",
      "           1     0.4938    0.4832    0.4884       327\n",
      "           2     0.7426    0.7324    0.7375       512\n",
      "\n",
      "    accuracy                         0.6067      1045\n",
      "   macro avg     0.5651    0.5686    0.5667      1045\n",
      "weighted avg     0.6088    0.6067    0.6076      1045\n",
      "\n",
      "roc-auc :  0.7714646540903117\n"
     ]
    }
   ],
   "source": [
    "#balanced only text+uid\n",
    "pipeline = Pipeline([\n",
    "    ('vect', CountVectorizer(ngram_range=(1, 1))),\n",
    "    ('tfidf', TfidfTransformer()),\n",
    "    ('clf', SGDClassifier(loss=\"log\",class_weight=\"balanced\")),\n",
    "])\n",
    "print(len(y_train),len(y_val),len(y_test))\n",
    "pipeline.fit(x_train,y_train)\n",
    "y_pred=pipeline.predict(x_test)\n",
    "y_pred_proba=pipeline.predict_proba(x_test)\n",
    "from sklearn.metrics import classification_report\n",
    "print(classification_report(y_test,y_pred,digits=4))\n",
    "print(\"roc-auc : \",roc_auc_score(y_test,y_pred_proba,multi_class='ovr'))"
   ]
  },
  {
   "cell_type": "code",
   "execution_count": 233,
   "id": "2b1d9d59",
   "metadata": {},
   "outputs": [
    {
     "name": "stdout",
     "output_type": "stream",
     "text": [
      "8355 1023 1045\n",
      "              precision    recall  f1-score   support\n",
      "\n",
      "           0     0.0000    0.0000    0.0000       206\n",
      "           1     0.0000    0.0000    0.0000       327\n",
      "           2     0.4900    1.0000    0.6577       512\n",
      "\n",
      "    accuracy                         0.4900      1045\n",
      "   macro avg     0.1633    0.3333    0.2192      1045\n",
      "weighted avg     0.2401    0.4900    0.3222      1045\n",
      "\n",
      "roc-auc :  0.5601841849097063\n"
     ]
    },
    {
     "name": "stderr",
     "output_type": "stream",
     "text": [
      "/home/souvic/.conda/envs/py38/lib/python3.8/site-packages/sklearn/metrics/_classification.py:1248: UndefinedMetricWarning: Precision and F-score are ill-defined and being set to 0.0 in labels with no predicted samples. Use `zero_division` parameter to control this behavior.\n",
      "  _warn_prf(average, modifier, msg_start, len(result))\n",
      "/home/souvic/.conda/envs/py38/lib/python3.8/site-packages/sklearn/metrics/_classification.py:1248: UndefinedMetricWarning: Precision and F-score are ill-defined and being set to 0.0 in labels with no predicted samples. Use `zero_division` parameter to control this behavior.\n",
      "  _warn_prf(average, modifier, msg_start, len(result))\n",
      "/home/souvic/.conda/envs/py38/lib/python3.8/site-packages/sklearn/metrics/_classification.py:1248: UndefinedMetricWarning: Precision and F-score are ill-defined and being set to 0.0 in labels with no predicted samples. Use `zero_division` parameter to control this behavior.\n",
      "  _warn_prf(average, modifier, msg_start, len(result))\n"
     ]
    }
   ],
   "source": [
    "#balanced only text+context+uid\n",
    "pipeline = Pipeline([\n",
    "    ('vect', CountVectorizer(ngram_range=(1, 1))),\n",
    "    ('tfidf', TfidfTransformer()),\n",
    "    ('clf', SGDClassifier(loss=\"log\",class_weight=\"balanced\",learning_rate=\"invscaling\",eta0=0.001)),\n",
    "])\n",
    "print(len(y_train),len(y_val),len(y_test))\n",
    "pipeline.fit(x_train,y_train)\n",
    "y_pred=pipeline.predict(x_test)\n",
    "y_pred_proba=pipeline.predict_proba(x_test)\n",
    "from sklearn.metrics import classification_report\n",
    "print(classification_report(y_test,y_pred,digits=4))\n",
    "print(\"roc-auc : \",roc_auc_score(y_test,y_pred_proba,multi_class='ovr'))"
   ]
  },
  {
   "cell_type": "code",
   "execution_count": null,
   "id": "637638ff",
   "metadata": {},
   "outputs": [],
   "source": []
  },
  {
   "cell_type": "code",
   "execution_count": null,
   "id": "ea8967c0",
   "metadata": {},
   "outputs": [],
   "source": []
  },
  {
   "cell_type": "code",
   "execution_count": 198,
   "id": "6040995f",
   "metadata": {},
   "outputs": [],
   "source": [
    "a,b=np.unique(x_test,return_counts=True)\n",
    "a=[i[0] for i in zip(a,b) if(i[1]>4)]\n"
   ]
  },
  {
   "cell_type": "code",
   "execution_count": 199,
   "id": "74b1ae60",
   "metadata": {},
   "outputs": [],
   "source": [
    "t={i:[] for i in a}\n",
    "for i,j in zip(x_test,y_test):\n",
    "    if(i in a):\n",
    "        t[i]+=[j]\n",
    "ee=[]\n",
    "for i in t:\n",
    "    b1,b2=np.unique(t[i],return_counts=True)\n",
    "    ee+=[max(b2)/min(b2)]\n",
    "    "
   ]
  },
  {
   "cell_type": "code",
   "execution_count": 200,
   "id": "5119342d",
   "metadata": {},
   "outputs": [],
   "source": [
    "a,b=np.unique(x_train,return_counts=True)\n",
    "a=[i[0] for i in zip(a,b) if(i[1]>4)]\n"
   ]
  },
  {
   "cell_type": "code",
   "execution_count": 159,
   "id": "06035295",
   "metadata": {},
   "outputs": [],
   "source": [
    "t={i:[] for i in a}\n",
    "for i,j in zip(x_train,y_train):\n",
    "    if(i in a):\n",
    "        t[i]+=[j]\n",
    "ee=[]\n",
    "for i in t:\n",
    "    b1,b2=np.unique(t[i],return_counts=True)\n",
    "    ee+=[max(b2)/min(b2)]\n",
    "    "
   ]
  },
  {
   "cell_type": "code",
   "execution_count": 174,
   "id": "dc1828ee",
   "metadata": {},
   "outputs": [
    {
     "data": {
      "text/plain": [
       "[2.0,\n",
       " 4.0,\n",
       " 1.0,\n",
       " 3.0,\n",
       " 1.5,\n",
       " 1.0,\n",
       " 2.5,\n",
       " 5.0,\n",
       " 5.0,\n",
       " 4.0,\n",
       " 1.0,\n",
       " 1.0,\n",
       " 5.0,\n",
       " 1.0,\n",
       " 1.5,\n",
       " 1.5,\n",
       " 4.0,\n",
       " 3.0,\n",
       " 7.0,\n",
       " 8.0,\n",
       " 2.6666666666666665,\n",
       " 5.0,\n",
       " 1.0,\n",
       " 5.0,\n",
       " 4.0,\n",
       " 2.0,\n",
       " 6.0,\n",
       " 7.0,\n",
       " 1.5,\n",
       " 1.5,\n",
       " 1.5,\n",
       " 3.0,\n",
       " 1.5,\n",
       " 1.0,\n",
       " 9.0,\n",
       " 3.0]"
      ]
     },
     "execution_count": 174,
     "metadata": {},
     "output_type": "execute_result"
    }
   ],
   "source": [
    "ee"
   ]
  },
  {
   "cell_type": "code",
   "execution_count": 167,
   "id": "eef44802",
   "metadata": {},
   "outputs": [
    {
     "data": {
      "image/png": "[encoded data removed]",
      "text/plain": [
       "<Figure size 720x504 with 1 Axes>"
      ]
     },
     "metadata": {
      "needs_background": "light"
     },
     "output_type": "display_data"
    }
   ],
   "source": [
    "import matplotlib.pyplot as plt\n",
    "import numpy as np\n",
    "from matplotlib import colors\n",
    "from matplotlib.ticker import PercentFormatter\n",
    "\n",
    "# Creating dataset\n",
    "np.random.seed(23685752)\n",
    "N_points = 10000\n",
    "n_bins = 100\n",
    "\n",
    "# Creating distribution\n",
    "x = np.random.randn(N_points)\n",
    "\n",
    "# Creating histogram\n",
    "fig, axs = plt.subplots(1, 1,figsize =(10, 7),tight_layout = True)\n",
    "\n",
    "axs.hist(ee, bins = n_bins)\n",
    "\n",
    "# Show plot\n",
    "plt.show()\n"
   ]
  },
  {
   "cell_type": "code",
   "execution_count": 148,
   "id": "d109e2b5",
   "metadata": {},
   "outputs": [
    {
     "data": {
      "text/plain": [
       "(array(['100001', '10005', '100299', ..., '99589', '9961', '99763'],\n",
       "       dtype='<U6'),\n",
       " array([ 1,  6,  1, ...,  1,  6, 76]))"
      ]
     },
     "execution_count": 148,
     "metadata": {},
     "output_type": "execute_result"
    }
   ],
   "source": [
    "np.unique(x_train,return_counts=True)"
   ]
  },
  {
   "cell_type": "code",
   "execution_count": 201,
   "id": "de72d241",
   "metadata": {},
   "outputs": [
    {
     "name": "stdout",
     "output_type": "stream",
     "text": [
      "8355 1023 1045\n",
      "              precision    recall  f1-score   support\n",
      "\n",
      "           0     0.3314    0.2718    0.2987       206\n",
      "           1     0.4320    0.2722    0.3340       327\n",
      "           2     0.5507    0.7207    0.6244       512\n",
      "\n",
      "    accuracy                         0.4919      1045\n",
      "   macro avg     0.4380    0.4216    0.4190      1045\n",
      "weighted avg     0.4704    0.4919    0.4693      1045\n",
      "\n",
      "roc-auc :  0.6498737452064018\n"
     ]
    }
   ],
   "source": [
    "#balanced\n",
    "pipeline = Pipeline([\n",
    "    ('vect', CountVectorizer(ngram_range=(1, 1))),\n",
    "    ('tfidf', TfidfTransformer()),\n",
    "    ('clf', SGDClassifier(loss=\"log\",class_weight=\"balanced\")),\n",
    "])\n",
    "print(len(y_train),len(y_val),len(y_test))\n",
    "pipeline.fit(x_train,y_train)\n",
    "y_pred=pipeline.predict(x_test)\n",
    "y_pred_proba=pipeline.predict_proba(x_test)\n",
    "from sklearn.metrics import classification_report\n",
    "print(classification_report(y_test,y_pred,digits=4))\n",
    "print(\"roc-auc : \",roc_auc_score(y_test,y_pred_proba,multi_class='ovr'))"
   ]
  },
  {
   "cell_type": "code",
   "execution_count": 104,
   "id": "3f353728",
   "metadata": {},
   "outputs": [
    {
     "name": "stdout",
     "output_type": "stream",
     "text": [
      "8377 1010 1036\n",
      "              precision    recall  f1-score   support\n",
      "\n",
      "           0     0.4907    0.4907    0.4907       216\n",
      "           1     0.5548    0.5148    0.5340       305\n",
      "           2     0.7579    0.7903    0.7738       515\n",
      "\n",
      "    accuracy                         0.6467      1036\n",
      "   macro avg     0.6011    0.5986    0.5995      1036\n",
      "weighted avg     0.6424    0.6467    0.6442      1036\n",
      "\n",
      "roc-auc :  0.8018261057175771\n"
     ]
    }
   ],
   "source": [
    "#balanced\n",
    "pipeline = Pipeline([\n",
    "    ('vect', CountVectorizer(ngram_range=(1, 1))),\n",
    "    ('tfidf', TfidfTransformer()),\n",
    "    ('clf', SGDClassifier(loss=\"log\",class_weight=\"balanced\")),\n",
    "])\n",
    "print(len(y_train),len(y_val),len(y_test))\n",
    "pipeline.fit(x_train,y_train)\n",
    "y_pred=pipeline.predict(x_test)\n",
    "y_pred_proba=pipeline.predict_proba(x_test)\n",
    "from sklearn.metrics import classification_report\n",
    "print(classification_report(y_test,y_pred,digits=4))\n",
    "print(\"roc-auc : \",roc_auc_score(y_test,y_pred_proba,multi_class='ovr'))"
   ]
  },
  {
   "cell_type": "code",
   "execution_count": 131,
   "id": "c692c5a2",
   "metadata": {},
   "outputs": [
    {
     "name": "stdout",
     "output_type": "stream",
     "text": [
      "8377 1010 1036\n",
      "              precision    recall  f1-score   support\n",
      "\n",
      "           0     0.5436    0.4907    0.5158       216\n",
      "           1     0.4632    0.4328    0.4475       305\n",
      "           2     0.7122    0.7689    0.7395       515\n",
      "\n",
      "    accuracy                         0.6120      1036\n",
      "   macro avg     0.5730    0.5642    0.5676      1036\n",
      "weighted avg     0.6037    0.6120    0.6069      1036\n",
      "\n",
      "roc-auc :  0.7647312548218288\n"
     ]
    }
   ],
   "source": [
    "#balanced\n",
    "pipeline = Pipeline([\n",
    "    ('vect', CountVectorizer(ngram_range=(1, 1))),\n",
    "    ('tfidf', TfidfTransformer()),\n",
    "    ('clf', SGDClassifier(loss=\"log\",class_weight=\"balanced\",max_iter=100)),\n",
    "])\n",
    "print(len(y_train),len(y_val),len(y_test))\n",
    "pipeline.fit(x_train,y_train)\n",
    "y_pred=pipeline.predict(x_test)\n",
    "y_pred_proba=pipeline.predict_proba(x_test)\n",
    "from sklearn.metrics import classification_report\n",
    "print(classification_report(y_test,y_pred,digits=4))\n",
    "print(\"roc-auc : \",roc_auc_score(y_test,y_pred_proba,multi_class='ovr'))"
   ]
  },
  {
   "cell_type": "code",
   "execution_count": 97,
   "id": "8f522f7e",
   "metadata": {},
   "outputs": [
    {
     "name": "stdout",
     "output_type": "stream",
     "text": [
      "8377 1010 1036\n",
      "              precision    recall  f1-score   support\n",
      "\n",
      "           0     0.5050    0.4722    0.4880       216\n",
      "           1     0.5411    0.5180    0.5293       305\n",
      "           2     0.7546    0.7942    0.7739       515\n",
      "\n",
      "    accuracy                         0.6458      1036\n",
      "   macro avg     0.6002    0.5948    0.5971      1036\n",
      "weighted avg     0.6397    0.6458    0.6423      1036\n",
      "\n",
      "roc-auc :  0.8023287742927255\n"
     ]
    }
   ],
   "source": [
    "#balanced\n",
    "pipeline = Pipeline([\n",
    "    ('vect', CountVectorizer(ngram_range=(1, 1))),\n",
    "    ('tfidf', TfidfTransformer()),\n",
    "    ('clf', SGDClassifier(loss=\"log\",class_weight=\"balanced\")),\n",
    "])\n",
    "print(len(y_train),len(y_val),len(y_test))\n",
    "pipeline.fit(x_train,y_train)\n",
    "y_pred=pipeline.predict(x_test)\n",
    "y_pred_proba=pipeline.predict_proba(x_test)\n",
    "from sklearn.metrics import classification_report\n",
    "print(classification_report(y_test,y_pred,digits=4))\n",
    "print(\"roc-auc : \",roc_auc_score(y_test,y_pred_proba,multi_class='ovr'))"
   ]
  },
  {
   "cell_type": "code",
   "execution_count": 94,
   "id": "b2d2b42e",
   "metadata": {},
   "outputs": [
    {
     "name": "stdout",
     "output_type": "stream",
     "text": [
      "8377 1010 1036\n",
      "              precision    recall  f1-score   support\n",
      "\n",
      "           0     0.4595    0.3935    0.4239       216\n",
      "           1     0.4441    0.4689    0.4561       305\n",
      "           2     0.7070    0.7262    0.7165       515\n",
      "\n",
      "    accuracy                         0.5811      1036\n",
      "   macro avg     0.5369    0.5295    0.5322      1036\n",
      "weighted avg     0.5780    0.5811    0.5788      1036\n",
      "\n",
      "roc-auc :  0.7475613944696454\n"
     ]
    }
   ],
   "source": [
    "#balanced\n",
    "pipeline = Pipeline([\n",
    "    ('vect', CountVectorizer(ngram_range=(1, 1))),\n",
    "    ('tfidf', TfidfTransformer()),\n",
    "    ('clf', SGDClassifier(loss=\"log\",class_weight=\"balanced\")),\n",
    "])\n",
    "print(len(y_train),len(y_val),len(y_test))\n",
    "pipeline.fit(x_train,y_train)\n",
    "y_pred=pipeline.predict(x_test)\n",
    "y_pred_proba=pipeline.predict_proba(x_test)\n",
    "from sklearn.metrics import classification_report\n",
    "print(classification_report(y_test,y_pred,digits=4))\n",
    "print(\"roc-auc : \",roc_auc_score(y_test,y_pred_proba,multi_class='ovr'))"
   ]
  },
  {
   "cell_type": "code",
   "execution_count": 91,
   "id": "6050e5fd",
   "metadata": {},
   "outputs": [
    {
     "name": "stdout",
     "output_type": "stream",
     "text": [
      "8377 1010 1036\n",
      "              precision    recall  f1-score   support\n",
      "\n",
      "           0     0.4062    0.1204    0.1857       216\n",
      "           1     0.3867    0.2295    0.2881       305\n",
      "           2     0.5676    0.8718    0.6876       515\n",
      "\n",
      "    accuracy                         0.5261      1036\n",
      "   macro avg     0.4535    0.4072    0.3871      1036\n",
      "weighted avg     0.4807    0.5261    0.4653      1036\n",
      "\n",
      "roc-auc :  0.6597814196503617\n"
     ]
    }
   ],
   "source": [
    "#balanced\n",
    "pipeline = Pipeline([\n",
    "    ('vect', CountVectorizer(ngram_range=(1, 1))),\n",
    "    ('tfidf', TfidfTransformer()),\n",
    "    ('clf', SGDClassifier(loss=\"log\",class_weight=\"balanced\")),\n",
    "])\n",
    "print(len(y_train),len(y_val),len(y_test))\n",
    "pipeline.fit(x_train,y_train)\n",
    "y_pred=pipeline.predict(x_test)\n",
    "y_pred_proba=pipeline.predict_proba(x_test)\n",
    "from sklearn.metrics import classification_report\n",
    "print(classification_report(y_test,y_pred,digits=4))\n",
    "print(\"roc-auc : \",roc_auc_score(y_test,y_pred_proba,multi_class='ovr'))"
   ]
  },
  {
   "cell_type": "code",
   "execution_count": 60,
   "id": "a1edb985",
   "metadata": {},
   "outputs": [
    {
     "name": "stdout",
     "output_type": "stream",
     "text": [
      "8377 1010 1036\n",
      "              precision    recall  f1-score   support\n",
      "\n",
      "           0     0.4681    0.1019    0.1673       216\n",
      "           1     0.3947    0.2951    0.3377       305\n",
      "           2     0.5690    0.8408    0.6787       515\n",
      "\n",
      "    accuracy                         0.5261      1036\n",
      "   macro avg     0.4773    0.4126    0.3946      1036\n",
      "weighted avg     0.4967    0.5261    0.4717      1036\n",
      "\n",
      "roc-auc :  0.6769477840695153\n"
     ]
    }
   ],
   "source": [
    "#unbalanced\n",
    "pipeline = Pipeline([\n",
    "    ('vect', CountVectorizer(ngram_range=(1, 1))),\n",
    "    ('tfidf', TfidfTransformer()),\n",
    "    ('clf', SGDClassifier(loss=\"log\")),\n",
    "])\n",
    "print(len(y_train),len(y_val),len(y_test))\n",
    "pipeline.fit(x_train,y_train)\n",
    "y_pred=pipeline.predict(x_test)\n",
    "y_pred_proba=pipeline.predict_proba(x_test)\n",
    "from sklearn.metrics import classification_report\n",
    "print(classification_report(y_test,y_pred,digits=4))\n",
    "print(\"roc-auc : \",roc_auc_score(y_test,y_pred_proba,multi_class='ovr'))"
   ]
  },
  {
   "cell_type": "code",
   "execution_count": 38,
   "id": "6a63a276",
   "metadata": {},
   "outputs": [
    {
     "name": "stdout",
     "output_type": "stream",
     "text": [
      "8377 1010 1036\n",
      "              precision    recall  f1-score   support\n",
      "\n",
      "           0     0.7125    0.2639    0.3851       216\n",
      "           1     0.5776    0.4393    0.4991       305\n",
      "           2     0.6464    0.9087    0.7554       515\n",
      "\n",
      "    accuracy                         0.6361      1036\n",
      "   macro avg     0.6455    0.5373    0.5466      1036\n",
      "weighted avg     0.6399    0.6361    0.6028      1036\n",
      "\n",
      "roc-auc :  0.8014879362527942\n"
     ]
    }
   ],
   "source": [
    "#unbalanced\n",
    "pipeline = Pipeline([\n",
    "    ('vect', CountVectorizer(ngram_range=(1, 2))),\n",
    "    ('tfidf', TfidfTransformer()),\n",
    "    ('clf', SGDClassifier(loss=\"log\")),\n",
    "])\n",
    "print(len(y_train),len(y_val),len(y_test))\n",
    "pipeline.fit(x_train,y_train)\n",
    "y_pred=pipeline.predict(x_test)\n",
    "y_pred_proba=pipeline.predict_proba(x_test)\n",
    "from sklearn.metrics import classification_report\n",
    "print(classification_report(y_test,y_pred,digits=4))\n",
    "print(\"roc-auc : \",roc_auc_score(y_test,y_pred_proba,multi_class='ovr'))"
   ]
  },
  {
   "cell_type": "code",
   "execution_count": 32,
   "id": "53a2d458",
   "metadata": {},
   "outputs": [
    {
     "name": "stdout",
     "output_type": "stream",
     "text": [
      "8377 1010 1036\n",
      "              precision    recall  f1-score   support\n",
      "\n",
      "           0     0.6436    0.3009    0.4101       216\n",
      "           1     0.5538    0.4721    0.5097       305\n",
      "           2     0.6726    0.8816    0.7630       515\n",
      "\n",
      "    accuracy                         0.6400      1036\n",
      "   macro avg     0.6233    0.5515    0.5610      1036\n",
      "weighted avg     0.6316    0.6400    0.6149      1036\n",
      "\n",
      "roc-auc :  0.8036831815476289\n"
     ]
    }
   ],
   "source": [
    "#unbalanced\n",
    "pipeline = Pipeline([\n",
    "    ('vect', CountVectorizer(ngram_range=(1, 1))),\n",
    "    ('tfidf', TfidfTransformer()),\n",
    "    ('clf', SGDClassifier(loss=\"log\")),\n",
    "])\n",
    "print(len(y_train),len(y_val),len(y_test))\n",
    "pipeline.fit(x_train,y_train)\n",
    "y_pred=pipeline.predict(x_test)\n",
    "y_pred_proba=pipeline.predict_proba(x_test)\n",
    "from sklearn.metrics import classification_report\n",
    "print(classification_report(y_test,y_pred,digits=4))\n",
    "print(\"roc-auc : \",roc_auc_score(y_test,y_pred_proba,multi_class='ovr'))"
   ]
  },
  {
   "cell_type": "code",
   "execution_count": 21,
   "id": "0a1defd8",
   "metadata": {},
   "outputs": [
    {
     "name": "stdout",
     "output_type": "stream",
     "text": [
      "it ’ a disputed theory but many people believe jesus spent his lost years in india he gained his wisdom from studying ancient hindu and buddhist philosophy some scholars even believe he survived on the cross during crucifixion longer than average becasue he studied yoga in india and used his breathing exercises while being crucified just fascinating stuff when you read the geeta and news testament lots of similar ways of thinking\n",
      "i ’ m sure if we stank less our rate for hindus would be hire\n",
      "i ’ m sure if we stank less our rate for hindus would be hire\n",
      "then maybe you should be more angry at the white trash libtards that are making it easier for these sullah degenerates to come here you want to blame a collective group then blame muslims not hindus we have done nothing to this country\n",
      "this is what you sent me when you were muted yes i was attacked by you bottom feeding pasty corpse even though i ’ m not a fucking muslims and hindus have never attacked the west\n",
      "another bottom feeding uneducated no iq lame dick that doesnt know the difference between hindus and muslims\n",
      "they ’ re not my fuxking people bitch i am a hindu not a fuxking sullah muslim us hindus have been dealing with these sullahs longer than your pasty white assess so shut the fuck up\n",
      "this shit happens all the time against us hindus yes thats why we left in the early 9 0\n",
      "look up the indian and hindu income per capita we are far more successful in terms of education jobs income and entrepreneurship than all the races and religions hindus are even better than the jews in terms of income success get your facts straight boy\n",
      "cowardly because us hindus do not have power in a country that <percent> muslim\n",
      "bengali hindus do not inbreed you bottom feeding retard seriously if you cunts are gona be bigots at least be clever\n",
      "engineers doctors inventors mathematician and scientists microsoft and google is owned by hindus dumb fuck\n",
      "lol yet still cant tell the difference between hindus and muslims lol bitch shut the fuck up highschool drop out\n",
      "hinduism teaches ahimsa principle of non aggression exactly what libertarians believe\n",
      "mostly white bottom feeding redneck states like mississippi collect welfare i work and pay taxes more than you nazi cunts hindu and indians have the highest income per capita in the usa we pay for your welfare so shut the fuck up\n",
      "because jews dont like them either islam sworn enemies are the jews and pagan kufrs which are basically hindus\n",
      "i have worked with israelis before and i wasn t too fond of them but jews on a whole have done nothing to me can not say the same about sullahs though their contempt for hindus and non muslims in general is profound\n",
      "fucking hindus again\n",
      "i ’ m hindu you goddamn shmuck i needed a reason to dump him anyway becasue he ’ a divorcee with a daughter\n",
      "wow your outlook is very intriguing and i do respect your experience and the perception it has molded towards jewish people but could it be possible that your jewish grooming was instilled as much as mormon christian muslims and hindu children experience in their life time i was also <number>\n",
      "dragged into hindu temple sent to hindu camps and forced to study my religion i was also dragged into bangla school to learn my language and mingle among muslims most jews in nyc aren ’ t even religious why blame conservative jews instead of leftard jews for globalist policies <number> last\n",
      "if i have a swastika on my chest it ’ becasue i ’ m a hindu dothead not a fucking nazi get out of here statist\n",
      "i ’ m ashamed that she ’ half hindu indian\n",
      "“ everybody i don ’ t like is a jew ” in case you ’ ve forgotten i ’ m a hindu that hails from a nation that ’ <percent> muslim as far as i ’ m concerned whatever is willing to fight islam and kill a bunch of sullahs is my ally that includes jews who have been close to hindu indians as of late\n",
      "<number> im hindu <number> don ’ t be stupid\n",
      "ricky i want you to spread a new derogatory term for muslims us hindus refer to muslims as “ sullahs ” start using it and hopefully it will reach twitter watch these sullahs lose their collective minds over the word it our version of the n word\n",
      "fuck no bangladesh is a shithole filled with fucking sullahs why would i be loyal to a fucking country that doesn ’ t give a shit about hindus there is no freedom of religion there\n",
      "lol lesser of the two evils belive it or not the islamic empire the muslims at least kept the wealth with in india and the bharat varsha greater india would have been a single land under the maratha empire the muslims were losing territory and hindus were vastly regaining land but the british came and fucked it all up furthermore they helped to divide our land which led to the bloodiest partition and mass exodus from respective lands to which the wounds haven ’ t healed becasue of limey white cunts the world was damned with pakistan who were complicit in aiding the <number> <number> terrorists\n",
      "she ’ not a hindu i don ’ t know what she is but never acknowledge her hindu roots shes justa a white cock sucking cunt ashamed of her background she ’ retarded\n",
      "lmao you admit to licking buttholes when a country is majorly illiterate things like this tends to happen dont worry india will be great again since the capitalist hindu nationalist finally have control of the government modi and trump are working together to establish a working alliance between india and usa once trump ends h1b india won ’ t deal with brain drain and fyi plot twist i ’ m not indian i ’ m from bangladesh\n",
      "hindu i honestly don ’ t care either i just hate muslims and jews are killing muslim terrorists in palestine so they ’ re my spirit animals i hate the nation of islam fuxking fascists i love jews i think i will marry one\n",
      "my kshatriya hindu indian aryan boyfriend is already doing that\n",
      "😂 😂 😂 😂 the hindu god of sun and fire lord indra is punishing them for being commifornian degenerates\n",
      "i do not know wtf you mean my own people i am a hindu bangladesh is <percent> muslim bangladesh is not my own people because it influenced by islam therefore muslims are not my own people\n",
      "the caste system is not about race you don ’ t know anything and you are not educated enough for me to waste my time to have an in depth discussion about the varna ’ of hinduism\n",
      "you find only one store to prove that somehow india loved hitler most of india doesn ’ t even know who fucking hitler is or what the holocaust was we were too busy fighting the brits to give a shit about your wars swastika is in every hindu household this is nothing special about it in india\n",
      "once i ’ m out of jail on facebook i will try to recruit followers of troll india politics ’ page they have dank memes that are pro hindu nationalist\n",
      "pretty simple if you believe in karma and reincarnation then you belive in hinduism\n",
      "my grandfathers were armed to the teeth to protect us hindus in bangladesh have to be armed to defend ourselves from feral muslims so i am very pro 2 nd amendment\n",
      "india would have been just dharmic land allowing sikhs hinduism buddhism and other dharmic faiths to live together also have christians and jews live in harmony most of us get along well it the fucking muslims that cause us problems\n",
      "that why i was angry with these nazi scums like <user> grouping us hindus with fucking inbred sullahs that are terrorists nobody hates islam more than hindus us hindus have suffered in the hands of islam for <number> years hindu kush mountains was named after our slaughter by fucking muslims\n",
      "good for him india have been invaded by muslims for <number> years and they still haven ’ t assimilated on the contrary killed million of hindus and separated our land to three pieces they are fucking plague whereever they go\n",
      "we want nothing to do with you fucking sullahs and your bottom feeding culture you still lick arab assholes and wish saudi king would reign over you pakis slave bitch yes india helped us and i ’ m thankful they did so i don ’ t have to identify as a fuxking paki today if i ’ m paki you ’ re a hindu\n",
      "you ’ re not hindu if you just read vedanta literature i ’ ll belive you once you start identifying as a hindu the way i do lol i am didn ’ t assume jackshit about you being from india i assume you ’ re a paki are you\n",
      "hindus still have a lot of learning to do fucking marxists professors and intellectual of india are immasculating hindus while relentlessly defending islam why oh becasue beef is banned in one state and that some how means it will lead to gassing of muslims meanwhile isis is gaining in kerala\n",
      "so riots break out daily in india and due to communal violence it ’ always due to some fuxking muslims starting shit this happens in my country routinely against hindus muslims throwing rocks at our temple happened in my town <url>\n",
      "america is falling apart because of fellow pasty leftard whiteboys that are implementing marxist policies you ignorant twat you want to throw blame then blame the muslims not hindus who have literally done nothing to the west not a single attack so lick my brown hindu ball bitch\n",
      "u really think i would not have been raped by feral hindu or muslim back in india or bangladesh and a neo nazi would rape me as well just to see me cry\n",
      "bitch i m hindu\n",
      "hindus are superior to sikhs and muslims you snow nigger our teachings comes from my indo aryan ancestors\n",
      "us hindus used it long before buddha was even born it ’ originally a hindu symbol written in hindu religious texts\n",
      "netan yahu did nothing wrong we love you bibi fuxk these sullah muslim assholes us hindus will always have your back baby we love you <url>\n",
      "this literally proves nothing you iq of <number> bottom feeding shit eater no facts no figures no numbers to show how hindus are inbreeding where at what rate vs the muslims jesus you ’ re retarded here is a better article which studies iq regarding muslim indians and their practice of inbreeding <url>\n",
      "holy shit you literally have no fucking idea what you ’ re talking about let me educate your pasty white ass your article proves nothing read the language carefully there are no specific numbers nor figures to prove your assertion that large group of hindus are inbreds it ’ a generic language of “ small group ” of people being studied and the only specific information it provided is “ inbreeding created many distinct genetic differences between the castes and that genetic groups had been isolated from each other for thousands of years ” it doesn ’ t even define what “ inbreed ” is how does one inbreed between castes this fuxking shit makes no sense finally muslims aren ’ t all converts you dumb fuck india ’ muslims can be traced all the way back to babur the first muslim conqueror of middle asia who was a descendant of turks and then the persians took over again you literally have no fucking clue about anything so i suggest you shut your fuxking shithole mouth and stop embarrassing yourself\n",
      "different beliefs from hindus different behavior from hindus more retarded than redneck trailertash shit eaters lol i ’ m not salty eat all the only ones salty and whining like a little bitch is your pathetic shit eatingass you dumb fuck read the following and go cry into your pillow loser toodles\n",
      "lmaoo both of these pictures are fake you dumb fuck the one on the left is of a muslim man who was caught masterbating in a mosque that ’ why he ’ being beaten surrounded by mullahs jesus you ’ re a fucking retard spreading fake news dont worry about hindus there are more than <number> billion of us worry about your own people and your bitches getting fucked by blacks control your women becasue you whites are becoming collector ’ item lol your bitches don ’ t even want to breed with you but keep licking their assholes you cuck 🤣 🤣 😂 🤣 😂 🤣 😂 🤣 🤣 🤣\n",
      "that ’ me with muslims some sullahs will text me thinking i ’ m muslim and they get disappointed when i tell them i ’ m a hindu nationalist\n",
      "becasue we ’ re hindu minority from a fuxking shit hole muslims country that sympathizes with terrorists\n",
      "again i ’ m not a paki stupid limey yes it is the british fault for fucking up the partition how stupid are they to sanndwhich a hindu major nation between two bloodthirsty muslim states fucking retards\n",
      "india is a secular state unlike majority muslim country hindus in india are okay to live with other religious groups it ’ why we have a jewish community as old as jesus it ’ why india has all of the major religions\n",
      "punjabis indians are more paki than my people punajabis paki and indians speak the same language eat the same food and have similar culture a hindu punjabi would have more in common with a muslim punjabi than he would with a hindu bengali\n",
      "this is the dumbest fucking statement ever hindus already had sikhs muslims jews and buddhist living in our land before the british raj you fucking idiot we didn ’ t learn diversity from you you learned it from us gtfo\n",
      "we were only fighting the muslims terrorists becasue they are blood thirsty savages hindus have no issues living amongst jews buddhist and other religions what part of that don ’ t your understand\n",
      "becasue limeys were sadistic cunts same as the jews get a kick out of you demise the limeys love watching the paki sullahs kill hindus\n",
      "lol snow nigger is salty as fuck meanwhile hindus are richer than alt right cucks therefore paying more in tax rates so are the jews\n",
      "hindus are mainly in south asia but ur right my ppl are brainwashed cucks\n",
      "i wish it were true too many hindu americans are still pro immigration liberal cucks i have one hindu frenemy who is anti pakistan but also anti israel he hates republicans and conservatives too he is borderline socialist but when i mock him stating that assam is going to change and soon become part of bangladesh he gets triggered he also gets triggered when i tell him india should give amnesty to <number> million muslim illegal immigrants from bangladesh these ppl are stupid they don ’ t realize how inconsistent they are with political principles\n",
      "no shit black conservatives are like the harriet tubmans of our time black leftards have no idea there is freedom outside of their political box but still many of them undermine the conservatives calling them a coon or uncle tom how fucked up is that my indian brethrens won ’ t dare to say that to me since i ’ m more fascist than they are conserving india and populism at least my principles are consistent whether it ’ in usa or india hindu indian culture has to be preserved from marxist and muslims as should american values and culture\n",
      "before islam iran use to be a beautiful colorful culture filled with dancing and singing zarostraians us hindus and zoroastrians ’ culture have a lot in common breaks my heart to see once rich culture has become so dark grim and miserable thanks to islam\n",
      "wherever islam goes it brings nothing but darkness with it thank god my hindu ancestors fought these terrorists to preserve my ancestor ’ legacy\n",
      "indeed hindus has to abandon many convictions to fight these monsters and we ’ re still fighting them today our struggle with them is older than <number> years\n",
      "bitch you ’ re stupid are marxist hindus also considered jews\n",
      "“ well educated ” bitch the fuxking hindus i know overwhelmingly support democrats and the radical open border globalist agenda they support amnesty and daca of illegal alien children they also support communists like bernie sanders that bitch tulsi gabbard is a hindu who is a socialist cunt youre lucky you have a hindu like me on your side\n",
      "this is honestly the worst thing ever reminds me of hindu untouchables in india being left behind just to appease to the whiny muslims i don ’ t know why trump just doesn ’ t sign an executive order and just stop immigration cold turkey i had it with seeing all these third world degenerates in nyc subways that can ’ t even speak proper english\n",
      "brahmins aren ’ t a race they are a caste i ’ m not even brahmin and there are plenty of them darker than me anyway there are no white hindus in my area except for to weirdo following the hare krishna cult and most of the white boys from nyc are insufferable fuxking liberal soy boys\n",
      "i ’ m well aware one of the founders of gab is a muslim there ’ also a hindu as well\n",
      "hindus have been fighting islam for <number> years but yes both us hindus and sikhs hate islam\n",
      "you specifically mentioned gujarat so i corrected you no you find one link doesn ’ t prove anything lol again gujjus as a whole don ’ t care about nazism nor hitler they are very proud hindutvas again i will ask have you been to india\n",
      "so the time you were there all indians expressed admiration for hitler to you how is hindutva worse than islam\n",
      "that ’ not hindutva you dumb fuck hindutva is an ideology of hindu nationalism having designated land only for hindus i thought this convo would be insightful to share differing ideas but you ’ re no different from the skinhead bottom feeders you ’ re going on mute bitch toodles\n",
      "you know what i ’ m gona stop making fun of you because i feel bad now it ’ like picking on a disabled kid with a severe disfigured face i ’ m a hindu and believe in karma i don ’ t want this shit coming back to bite me in the ass lol\n",
      "i ’ m a hindu vegetarian if i had some carcass munching son of a bitch come to my restaurant and demand i serve him beef i ’ d be livid the fact it had to go all the way to supreme court just proves libtards have no regard for people ’ right to religion\n",
      "im so glad the supreme court decided to protect freedom of religion this shit would have opened a whole can of worms for all religions including religious hindu like myself that are vegetarians i mean hindus restaurant owners could be forced to serve beef if the libtards had won this\n",
      "wow nazis here have proven they have <number> iq you know hindus aren ’ t muslims right\n",
      "sure hinduism is better than abrahamic religions hindu people on the other hand stupid\n",
      "stating simple facts doesn ’ t make me a kike i ’ m still brown and still very hindu\n",
      "i ’ ve confronted many of my indian friends about this they are against the wall here but have no problem having a wall against my country bangladesh i use the same argument against them india is too hindu it needs to accept more illegal muslim immigrants from bangladesh for diversity etc\n",
      "big deal i didn ’ t even know the western meaning of swastika until i reached the second grade and my jewish teacher explained it to me i said she was wrong becasue we ’ ve used it everywhere as hindus\n",
      "exactly and my friends think i ’ m weird for being right wing my indian friend just don ’ t understand the libtards bend over backwards for muslims and i ’ m a hindu from bangladesh we vote conservative becasue we escaped muslim country we don ’ t want more of them here and i like limited government\n",
      "indians specifically are becoming woke it no wonder trump courted the hindu community with the help of shalabh kumar\n",
      "this is a good explanations my people indians and hindus do the same knowing the leftist do not have our interest in check hindus are grossly left but thats changing under trump <url>\n",
      "i ’ m ashamed that she ’ half hindu indian\n",
      "hi i ’ m a hindu from muslim major country ask me how they are becasue we grew up among <percent> muslim country i would know more about muslims and islamic culture more than anyone here\n",
      "then blame the fucking muslims you dumb fuck hindus are the most successful religious group in the usa right behind the jews your pasty ass skin is the inferior peasant group you fucking degenerate <url>\n",
      "jews and hindus are doing pretty good in the usa being the richest group here of course your no iq bottom feeding degenerate ass will never be as successful you low caste bitch <url>\n",
      "how much you guys want to bet this bottom feeder boss is a hindu that write his pathetic check\n",
      "another <number> iq fucking baboon that does not know the difference between hindus and muslims bitch eat a dick\n",
      "so you think i as a hindu am the same as fucking muslim so what if he was from bangladesh he a fucking muslim i am a hindu he not my cousin you dumb fuck\n",
      "it only the muslims that have been attacking us dumb fuck it most to do with ideology they follow a hateful ideology god damn you are fucking retarded to even say that how many hindus you know engaged in terrorism almost all of them done by muslims including white muslims u fucking scum\n",
      "mainly by muslims they marry their cousins hindus do not marry cousins\n",
      "that a south indian thing not a hindu thing us bengalis punjabis gujaratis and other parts of indian hindus do not marry cousins\n",
      "oh so you dont want to group the whites with the muslims scum but want to group us hindus with them go suck a cock fucking asswipe\n",
      "my brown god who is my brown god why would a white muslim attack in the name of my “ brown god ” i ’ m not a fucking muslim i told you i ’ m a hindu\n",
      "we gave you the number <number> and decimal number system among plethora of other inventions lol you believe in jesus you thought he was real lol i ’ m hindu and even i know all the shit in my religion isn ’ t true i ’ m practically an atheist\n",
      "promotes socialism worships a hindu goddess of wealth and fortune this hindu nigga lol nazi national socialism hindu dothead idiot\n",
      "it ’ hindu you dumb fuxking spoiled little nazi trash of course you won ’ t debate me becasue you know i ’ ll mop the floor with you all you ’ re good at is tagging me throwing weakass insults and then blaming jews when you ’ re cornered with an argument you ’ re such a mental midget alt cuck\n",
      "collapse meanwhile india ’ middle class is booming if india is a shithole it ’ becase of limeys that stole our wealth destroyed our gdp along with the muslims and hindu cucks kept electing the socialist party to power until <number> now alt right capitalist hindus are controling that country\n",
      "of course it ’ better the movie is based on hindu mythologies of ramayan and mahabharata so it doesn ’ t pander to fucking muslims for being politically incorrect\n",
      "those goddamn hindus again\n",
      "what i find quite interesting is that they used a bull sacrifice just like ancient hindus described in the vedas further indicitaive of cultural diffusion between ancient indo caucasoid migrations\n",
      "hindus literally say the same but we protect female cows while bulls were sacrificed in ancient indus valley however nepal still sacrifices the bull then there is belief of ahimsa which means no animals shouldnt be harmed for consumption krishna was a vegetarian as far as i know from the gita\n",
      "hinduism has taught me about ahimsa which is non violence whoever aborts their kid it ’ their karma they will carry the burden of what karma decides upon their next life as punishment you are nobody to judge a woman and her sanctity to her body you have no right to use the state and coerce individuals at gun point from doing what they please to their bodies hinduism has taught me karma and i intend karma will carry out her duties as it should again you ’ re nobody to stop it\n",
      "fascist militant hindus and muslim in india come together on valentine ’ day to beat up couples holding hands and showing off their happiness good couples should be beaten\n",
      "oh got me excited for a sec lol yes alt right hindu fascists went ape shit over the movie and assaulted the director thinking it would show hindus in a bad light and now that it out the fucking femenist and muslims are autistically screaming about it because it actually a pro hindu movie\n",
      "yeah bollywood is edging postmodernism and it was on the brink of no return then came out baahubali which was another very pro hindu movie the fucking socialist communist muslims and feminist are going apes shit over movies like baahubali and padmaavat i hope they go on mass suicide when bollywood finally releases the much anticipated mahabharata lol\n",
      "i ’ m hindu bengali not a jew bengali\n",
      "dr afridi is the only pakistani muslim i would give asylum to he ’ auch a brave soul he sacrificed his life as a vaccine doctor to collect peolpe ’ dna in the area of abottobaad and confirm osama bin laden was there i thought pakistan was on our side to fight terrorist so why did they jail him for treason for helping usa capture bin laden this is why a country like fucking pakistan could never be trusted two faced bottom feeders i hope india and usa invades pakistan converts it back to hinduism and become part of india again <url>\n",
      "you need to educate yourself kalash are descendants of the greeks during alexander ’ conquest of asia their existence in pakistan has no connection to your claim of supposed “ aryan ” migration or race they are descendants of greeko euro conquest much much much later to indo aryan culture by the time they conquered india vedas and ancient hinduism was thousands of years old from indo aryan region <url>\n",
      "except i ’ m the hindu here who actually understands sanskrit unlike you lol you ’ re gon teach me about my vedas and it ’ origin when you cucks are washed up mutts of the caucuses lol claiming your ancestors wrote the vedas but don ’ t even know the history of hinduism nor what ’ written in our scriptures in sanskrit nigga lol\n",
      "didn ’ t imply it just made sure you knew since aryan migration is false and there really is no difference among north indians and south indians in term of observinf thevedas i would say north india has been bastardized by islam south india follows pure vedic hinduism from the vedas\n",
      "lol why do you think my brown female immigrant ass voted trump hindus have been oppressed and fighting islam for over <number> years and the war still continues today first my turk muslims and then the persian mongol muslims mutts muslims are responsible for breaking our land into three and bringing their draconian bullshit to our land we were happy naked ganja smoking hippies before the fucking muslims arrived\n",
      "our city of sylhet used to be hindu majority city before the muslim savages took over i find it highly hypocritical when american muslims call white americans terrorists for genocide of natives i told the muslim bitch she has no right to cry about land grabbing fucking cunt read the red circled comment\n",
      "hindu girls don ’ t get circumcised you fucking mutilated dickhead\n",
      "hindus do gotta make that dough\n",
      "now you know why us hindus can ’ t stand islam jews are our ally in fighting against these fucking mongrels\n",
      "that ’ a stupidass question and you know that hindus are not suppose to eat meat\n",
      "anglo being western british american values indo being indian hindus values karma dharma moksha shaktiism shivaism etc\n",
      "because they are flaming fuxking leftist libtards does anything leftist do make sense doesn ’ t matter their race nor religion even leftist hindus are fucking retarded\n",
      "i ’ m guessing julius evola is some white person appropriating hinduism and aligning it with fascism hinduism is the most freest religion i know even atheist are allowed in hinduism nastik school of thought\n",
      "so where do the hindus fall in all of this are they using us as a tool like the muslims to get rid of your race\n",
      "hindus and jews are allies our common arch enemy is islam\n",
      "nah i ’ m hindu\n",
      "sikhs are predominantly in the state of punjab where the golden temple is located there is a punjab in pakistan and in india paki punjabis are predominantly muslim indian punjabis are most likely sikhs followed by hindus\n",
      "i ’ m a hindu and my family is from bangladesh it ’ precisely why we left we didn ’ t want to be surrounded by muslims anymore the small hindu bengali community in nyc all voted for trump we jumped on the train as soon as he gave us the muslim ban speech lol\n",
      "they breed faster than rats i know india gets a lot of flack for being overpopulated but the fastest growing population there is the muslims not hindus it ’ the only religion that ’ allowed to have more than <number> wife so they have multiple baby mamas each wife can easily bear <number> <number> kids\n",
      "this is exactly why my hindu family left bdesh as soon as they had me in a country of <percent> muslim it ’ dangerous to raise a hindu girl they kidnap rape and force you to convert if you ’ re a young non muslim girl same story for non muslims in pakistan\n",
      "you see why my immigrant hindu brownass is staunchly right wing american nationalist this is why my family didn ’ t leave a third world islamic shithole so white marxist commie cunts can autistically scream for open borders and allow them in as refugees and turn the usa into what we abandoned\n",
      "notice how there ’ no indian hindu or asian women after these sjw fascist are done with whites they ’ re coming after us\n",
      "i am okay with severely cutting immigration from the desi land and more than indians it bangladeshis and pakis that should be on the ban list hindus have done nothing to this country to deserve repatriation the only reason i want to cut their numbers is because they become leftards\n",
      "<user> <user> <user> <user> this is <user> the hindu faggot son of a bitch that has been spamming my notifications with upvotes skin this alt right hindu faggot but i prefer a ban he was banned before for manipulating script and deserved to get banned again\n",
      "i don ’ t care what you have to say about shitty people and their shitty culture if you believe in it then don ’ t appropriate it you have been very vocal about indian hindu culture but still appropriate our swastika fuck off\n",
      "it only applies to nazis nazi has been saying negative things about indians and hindus he views us as subhumans but he will gladly appropriate our symbol and flaunt it as his own i don ’ t care about cultural appropriation i care when one shits on that culture but still copy the contributions\n",
      "i hhow you come to someone elses country and demand they follow your fucking values my principles are consistent throughout every issues i did not like muslims coming to my land and imposing their shit hindus i dont like indians coming here and imposing their values on to america daca h 1 b\n",
      "how you come to someone elses country and demand they follow your fucking values my principles are consistent throughout every issues i did not like muslims coming to my land and imposing their shit on hindus i dont like indians coming here and imposing their values on to america daca h 1 b\n",
      "<user> this dumb fat soft titted snow nigger would rather suck muslim cock the same savages raping white women just to make fun of hindus bitch this is why you have low sperm count and white women don ’ t want to procreate with you beta faggot your stupidity is the reason population of whites is declining get fuxked by a feral muslim\n",
      "to us hindus they have always been terrorists us hindus have been dealing with fucking muslims long before the european crusades\n",
      "i ’ m currently dating a hindu indian engineer very handsome good looking fella and he ’ sweet as well i got drunk with him and not once did he take advantage of me the only thing he has a thickass indian accent but it ’ starting to grow on me but hey he looks like this so i can ’ t complain\n",
      "fuck no lol i ’ ll have to download “ dil mil ” app to find a suitable hindu hubby\n",
      "if only it would translate to box office tickets lol india is over the sex appeal nonsense we are starting to get back to our traditional hindu roots\n",
      "depends on what you think hindutva is if you think i want india to be an ethnostate then no i am not hindutva\n",
      "the point is they ’ re all white yet they don ’ t get along people with the same skin tone still follow ideological differences that puts them against each other why do you think bengali hindus and bengali muslims don ’ t get along a bengali muslim is no different to me racially but it ’ their dumb fuck ideology that makes me hate my own people so if you asked me if bangladesh drowned and if i would care no i wouldn ’ t care if criteria is christian and capitalist beliefs than non white christians with capitalists beliefs can live in harmony with whites\n",
      "you get rid of the people who dont believe in the constitutions capitalism and american values then you are getting rid of vast majority non whites anyway these debates are frivolous keep in mind the white people that put trump in office are the same people that were also behind obama presidency white people specifically leftards are guilty for the state of the nation dont blame non whites like me for the fuckery of white commies i never voted for obama nor any democrat hell i wont even vote for tulsi gabbard who is hindu but an alt right favorite of richard spencer whom she can depend for his votes so fuck all of you\n",
      "hindu nationalists love trump this is why trump doesn ’ t really speak poorly about hindus unlike most immigrants we actually work hard are peaceful don ’ t engage in crime dont abuse welfare pay our taxes are most educated and are overal add value to the economy\n",
      "great here ’ my bio data raised in usa have bachelors in economics pretty rooted to my culture cus i ’ m an indian classical dancer they love that well versed in hinduism know three languages hindu bangla and english have a cat to offer as dowery go spread the word\n",
      "individual liberty is white concept lol have you hear of karma hinduism teaches that our soul is everlasting no one is our own and our lives here is temporary the soul is the absolute individualist and karma depends actions of the soul doesn ’ t get anymore free and individual than that\n",
      "they refers to their husbands as “ swami ” girl i know my shit have several seats again no such things as aryan as a race aryan literally translates to “ noble ” from sanskrit and anybody could be a noble in hinduism regardless of skin color\n",
      "anybody that ’ hindu can be noble sita referred to ram as arya outta to mean son of noble but she called him “ swami ” shudra can most definitely be noble mahabharata and ramayana were both written by shudras\n",
      "hindus 4 jesus\n",
      "pepe is not a big deal but the swastika came from hinduism first written in hindu texts in sanskrit swast well tika sign it ’ a sign of positivity and the fucking nazis took it to represent hate isolationism and ugliness fuck that shit i ’ m taking my sign back\n",
      "we hindus gave it a name meaning and it ’ own identity while the ancient eurasians were just scribbling shit on phallic shaped rocks to bring them luck for fertility\n",
      "no but they told me that aryan race exists aryans created hinduism and that they were the original indians really blond hair blue eyed people originated from a region near the equator that has most exposure to the sun they came from there ridiculous\n",
      "the 1 2 k swastika didn ’ t even look like the swastika that hindus have used for more than 1 0 k years how we steal something that doesn ’ t even look like what we created shit doesn ’ t look anything like a swastika <url>\n",
      "aryan is a misnomer aryan in terms of race doesn ’ t even exist it was appropriate from hindus and original term from sanskrit means “ noble ” and had nothing to do with race idiots\n",
      "how many do you know lol majority western hindus have the same amount of children as the christians usually <number> kids to replace the current population not like muslims that have upto <number> kids with multiple baby mamas in brooklyn sarsour bringing them by the hoards live under one roof as cousins\n",
      "okay but you ’ re telling me western hindus have more children than western muslims you sure about that\n",
      "you said you ’ ve seen innumerable indians with <number> kids each how does that stack up against pakistanis or how does it stack up against hindus vs muslims because even muslim indians are outbreeding hindus\n",
      "and i don ’ t know any of them lol i ’ m a horrible hindu\n",
      "sweet so are you a hindu national socialist or you just like to studying vedantism\n",
      "street shitter indian you can ’ t use the same diss on bangladeshis you dumb fuck majority of these are bangladeshis are muslims hindus are the second most wealthiest religious group in america maybe become a jew and you won ’ t be a dirty poor trailer trash suffering from student loans snow nigger\n",
      "lmao this snow nigger is too upset to answer my question whats the matter you beta cuck too embarassed in learning that jews and hindus are wealthier than your poor ass jews are the master race lol\n",
      "yeah but not as high as jews and hindus lol snow nigger crusty fat trailer trash <user> is too embarassed to admit it jews are his masters and most likely sign his paycheck 😂 🤣 😂 🤣\n",
      "bangladesh use to be east pakistan after the partition of india it was created for majority muslims then my it became bangladesh in <number> claiming to be a secular nation but islam is the official religion in their constitution hindus have some freedom of religion but it ’ not the same if hindus experience discrimination the muslim majority police lawyers judges etc just look the other way if hindu villages are under attack the terrorist are almost never brought to justice my temples have always been under terrorist attack and the hindus take up arms to protect themselves against feral muslims\n",
      "yeah both sikhs and hindus hate muslims especially in regions like punjab and other northern states islam to hindus is what nazism is to jews\n",
      "it ’ run by a white christian an indian hindu and a muslims turk\n",
      "i do not worship anything i ’ m an atheist hindu this star of david is to trigger nazis\n",
      "hinduism is not like the abrahamic religions in which belief in a greater being his paramount to enter heaven hindus belive in moksha or salvation and it ’ attained by collecting good karma not by having blind faith in some god learn the nastik schools of thought in hinduism which argues against existence of god\n",
      "mad old people up in this bitch any single hindu boys in your mid 3 0 dm me\n",
      "uh huh and now the shitskins will take over your land hahahahahaaha convert to hinduism and start believing in karma you snow nigg\n",
      "rule meanwhile jews and hindus indians are the highest earners in the country and over represent most influential positions lol see proving again it ’ an iq of <number> snow nigger\n",
      "yeah and i ’ m happy of my hindu heritage and want india to remain majority hindu but i also think identity politics is stupid d spite advocating for majority white nation what ’ your point\n",
      "yes just like jews like you hate nazis us hindu hate our oppressors shocking no i dont like srk hrithik roshan is my baby daddy\n",
      "neither is muslim genius islam is an ideology just like nazism people that follow nazism are nazis those that follow islam are muslims muslims can be of any race hindus are oppressed by muslim apologist in india there are plenty of pro muslim policies and systematic double standard between the religions you don ’ t know anything\n",
      "did you bother living in other states you are only in mahrastra where the marathi hindu nationalist have a strong hold on territory go to west bengal where my people are from and it a communist cesspool they refuse to secure the border and allow bangladeshi muslim terrorists roam freely and terrorize local hindus with cow smuggling and other crimes and then there kerala another strong hold communist state where isis is growing\n",
      "west bengal a cesspool of communist leftard wet dream thanks for proving my point funny how you failed to mention communism in your article so i am sure you reported on the growing threats of isis in kerala right and the mallu government refuses to take action against the growing domestic threat or is it just the hindu fascists you are worried about while virtue signaling for islam\n",
      "as well so you agree you ’ re an identity thief if you cared about your identity you ’ d be a hindu or a zoroastrian\n",
      "yeah btw i got a boyfriend now indian dude and hindu he an engineer that why i have been mia from gab for a while new job got a boyfriend lol life is good sex every weekend is even better\n",
      "muslims go after everybody you think jews and christians had it bad ask the hindus sikhs and buddhist of india that were enslaved for <number> years under islam terrorist imperialism\n",
      "you guys have no idea i come from bangladesh and my hindu family is terrorized by them it ’ the sole reason hindus support trump and those who did not have been called cucks by all of us that voted for him\n",
      "and us hindus will joint you in the fight we all have a common enemy even sikhs will join you the uncucked conservative one\n",
      "i am not a christian but i will happily wish all of my christian brothers and sisters a very merry wonderful christmas from a hindu 😘 ❤️ 😘 ❤️ 😘 ❤️\n",
      "i had a guru growing up who taught me about hindu culture and indian history she always said hindus should trust a venomous snake over a muslim implying that followers of islam are far more dangerous than a venomous snake\n",
      "you think whites are the only ones muslims enslaved and traded hindus for <number> years the mountains of afganistan hindu kush literally means “ hindus killed ” they named an entire mountain range after our slaughter to keep us reminded of their terror over us\n",
      "and this mofo was lecturing me on manners 😂 😂 🤣 🤣 becasue obviously wishing muslims to kill more hindus is just polite\n",
      "you know hindu isn ’ t a race right even white american can identify hindus lol even the swastika was appropriated from hinduism 😂 😂 🤣 🤣 whore you dumbass fuck\n",
      "the fact that hindus made it illegal and some muslims have not should say that hindus recognize the problem of pedophilia while muslims are okay with it lol and thinking you are better than the jews who have much higher iqs than you jews arethe master race jews did nothing wrong\n",
      "this is what my hindu people have to deal with in my country of bangladesh and they burn down entire villages over facebook posts but fucking muslim cunts in the us think they are under attack because some bitch gets her hijab pulled ban all muslims <url>\n",
      "hindus jews hindjews <number> forever\n",
      "west bengal state in india dealing with illegal immigrant bangladeshis majority which are muslims and the communist state gov is using them as mobs to attack hindus <user> <number> guy explains the muslim mob vandalizing hindu neighborhood abducting children <url>\n",
      "i literally did the same yesterday libtard muslim bitch keeps railing about whites and racism killing native americans i blamed her for islam oppressing my hindu ancestors and told her she has no right to play the victim i told her she ’ foreign to my land and should shut the fuck up\n",
      "yes we can if they are hindus indian culture is not based on any race it ’ based on vedantism hindu values\n",
      "you have every right to be i would get angry too if hindus became minorities in india and muslims began out breeding the hindus but to be honest indian americans don ’ t have many children it ’ the messicans and muslims that breed like rats\n",
      "lol you think i ’ m muslim baahahahahahhaahhaha dumb fuxking nazi can ’ t even tell the difference between hindu from a muslim another iq of <number> bottom feeding white scum\n",
      "<number> okay <number> lol they don ’ t we can go back to have <percent> whites but they can ’ t have <percent> white ethnostate without a bloody partition and civil war <number> why wait why not now in case you ’ ve forgotten i am a hindu from bangladesh with <percent> muslims why would i go back to a shithole filled with sullahs and i ’ m not a parasite unless you and your stormfags buddy pay my taxes i suggest you check your privilege living in nyc i guarantee i pay higher rate in taxes than your stormfag friends\n",
      "interesting do you teach at a university what books would you recommend for basic foundational understanding to indian hindu philosophy\n",
      "krishna is a very interesting character unlike most hindus i don ’ t believe he ever existed his preaching reflects the ideologies of his writer veda vyasa speaking of vedas have you read any of the texts white nationalists believe the rig veda was written by whites\n",
      "you should read up on the maratha empire this people were ruthless against the mughals and reestablished a greater hindu state maharashtra maharashtra is still home to a number of hindu nationalist some of them are borderline terrorists though fucking hindu fascists\n",
      "a lot of indians don ’ t even agree with that they think the native adivasis of indus valley civilization always had their philosophy and it over time evolved into modern day hinduism a lot of indians are against the aryan invasion theory since dna testing doesn ’ t provide evidence of any presence of european genetics based on the original context provide by mortimer wheeler now it ’ referred to as a “ migration ” which still doesn ’ t hold true if there ’ white dna that ’ due to the greek invasion but alexander\n",
      "hinduism is the only light repent for your degeneracy\n",
      "obviously my indus nationalist ass will say that its my people that went to europe and exposed the continent to paganism it ’ why roman and greek pagan philosophies are so similar to hindu philosophies\n",
      "us hindus warned the fucking limey british cunts not to divide our land and give reign to muslims they didn ’ t listen and the world was damned with pakistan who sheltered <number> <number> terrorists muslims are trying to pull the same shit in kashmir and take away land from india again they ’ re failing this time muslims wherever they go are not there for better opportunities or life it ’ for one purpose only to turn dar al harb land of war to dar al islam land of islam\n",
      "sullah just deragatory for muslims used by sikhs and hindus it rhymes with mullah by sullah just sounds worse\n",
      "for thee but not for me it the same with my people indian hindus are cucked they dont want illegal rohingyas and bangladeshi in india but want more syrian and illegal aliens from mexico to the usa utterly stupid people\n",
      "amen i don ’ t care about skin color either as long as your not a collectivist racist commie socialist we will get along i hate leftards and muslims no matter their race and nationality if you ’ re a leftist black white hispanic indian hindu etc i dont fuxking like you i will gas evry single last one of these commie socialist fucktards\n",
      "my principles are consistent i don ’ t beluve in any ethnostate not even my own its wrong when western whites demand ethnostate stripping non whotea of their citizenship despite living on the land for generations its equally wrong when fuxking blacks do it you think i would want hindu fascists to round up muslims and move them fuck no muslims having been living in india for <number> years even though they ’ re foreign to the land its fucking stupid for any race to demand ethnostate\n",
      "nah we still good a new movie padmaavat goes back to the glory days of hindu reign check this out its a modest dance of ancient rajasthan folk songs see how everyone is covered here wearing traditional rajasthani garment <url>\n",
      "have your indian friends every taken you out to indian hindu festivals like diwali and holi\n",
      "watch another celebration of the glory days of hindus between rajputs and marathis the marathi warriors were better far more ferocious when fighting war against fucking muslims <url>\n",
      "good night i leave you with one of my favorite pro hindu songs of all time enjoy <url>\n",
      "india was a free nation before the muslims took and hindus adopted draconian laws like blasphemy\n",
      "indo aryan people no just no india and hinduism doesn ’ t come from a bunch of caucasian snow niggers\n",
      "rajputs be like ” “ vee vere da kingz and shit year ” but in all seriousness i ’ ve watched the movie padmaavat and is showed rajputs hindu fighting in honor the muslims used the dirtiest tactics to win their wars hence why rajputs were losers compared to the marathi warriors rajputs would rather stick the their principles and lose meanwhile marathis adopted muslim tactics to take back most of india\n",
      "thank you for this article my heart weeps for the plight of kashmir ’ hindu pandits they have been living there for thousands of years the muslims came ravaging and pillaging their homes killing children and raping women as many as <number> kashmiri hindu pandits sought refuge to india and still haven ’ t returned home since the early 9 0 hindus are in constant danger in kashmir the muslim indians and sullahs are working closely well to bring in more muslims mainly rohingyas to displace more hindus in kashmir once a beautiful land of my ancestors filled with colors freedom joy and happiness has turned into violent grim and dark place by savage muslims\n",
      "lol i watched the movie and people need to calm down with the hysteria i can ’ t belive my people hindus out of all had such a collective meltdown over this movie\n",
      "to all of my hindu and non hindu friends on gab happy holi today is the day we release all of our grudges with our enemies burry the hatchet and begin a fresh friendly chapter today is the day we foregive everyone that somehow brought grievances to our life by smothering color on each other it ’ a fun way to begin a friendship so to all of my haters and losers especially you neo nazis i foregive you and i ’ m sorry for all the black on white porn that spammed your feed happy holi gab fam gab india\n",
      "look at this shit so desperate to be accepted by the liberal whites that she threw her own people under the bus hindu terrorist really and shows like this is why ignorant racist twats think indian hindus are the same as arab muslims i am so glad her show got cancelled priyanka chopra is a sell out and i hate fucking liberal hollywood even more now <url>\n",
      "why most jews are insufferable fuxking leftards is beyond me i want all leftards gassed including my own hindu cucks\n",
      "the guy who charged d ’ souza is an indian hindu cuck fuxking slave of obama who wanted to impress his leftard friends by targetting fellow indians that are conservatives i fucking hate liberals including the cucks in my own community i hope preet barara gets kicked in the balls\n",
      "india and hindus already have nukes you uneducated zero iq neanderthal lol why would i save my country that ’ <percent> muslim in case your <number> iq feces brain hasn ’ t gotten the memo yet i ’ m not interested in saving muslims or the shithole countries they live in you pathetic wigger scum\n",
      "fair enough but your absolutely right india has to stop the population growth majority of the population growth is comin from muslims not hindus\n",
      "pakis are the worst creatures to exist on the planet you see why us indians bangladeshis hate that fucking country people us hindus and indians warned the brits not to provide muslims their own land they got two and india shitted out pakshitstan now the roosters finally come home to roost\n",
      "you ’ re referring to godra riots yes the fucking muslims burned innocent women and children going to hindu pilgrimage and then the gujarat riot was a retaliation of that the gujarati hindus put these fuckers in their place to never pull a shit like godra on us ever again\n",
      "absolutely us nationalist hindus hate gandhi but pakistan was created because muslims national league party demanded their own land and gandhi bent over like a cuck to give it to them for the sake of “ peace ” and the brits just followed along\n",
      "well india went soviet anyway they became russia ’ ally so the partition didn ’ t even stop that complete and utter fucking waste now these muslims in india are outbreeding hindus this is why modi was elected\n",
      "you can blame the khangress party for that they are leftwing socialist cocksuckers us hindu nationalists do not like socialism for fuck sake we literally have a goddess of wealth worshipped in our religion hinduism supports free market capitalism we are not suppose to be socialist\n",
      "i guess i ’ m not hindu enough then i ’ m totally okay with that\n",
      "and they have my sympathies but like i said they should be regretting their actions on the partition and granting demands to the fucking muslims when they sliced our land into three and hindus are sanwhiched between two inbred countries thanks a lot limeys you fucked both of us over\n",
      "no you limey retard hindus were already taking care of the rat problem leaders like shivaji and marathi army is the reason why they remained a minority it ’ the partition that escalated the civil war and your partition is why terrorist had a safe haven and led to <number> <number>\n",
      "right bollywood golden years are upon us we have abandoned the cliche love stories and are embracing our culture bollywood is embracing hindu nationalism of course we have our degenerate marxist movies but they fail in the box offices bahubhali set the bar check it out <url>\n",
      "i dont expect johar to be a voice of hindu nationalism as he a degenerate himself his movies have gone to shit since kabhi alvida na kehna i knew bhatts were marxist degenerates that were anti bjp and to be honest i am off the bjp train after their traitorous vote against jerusalem\n",
      "i always envied hollywood and their production of great european mythologies i wondered why bollywood never touched upon hindu epics like mahabharata glad they waited until technology immensely improved rumor is the guy who created bahubali is working on mahabharata epic <happy> super exciting\n",
      "it always has and it always will you muslims attacked their temple in jerusalem and erected the mosque on top you have this habit of doing that everywhere including to churches and hindu temples whereever there was islam\n",
      "my people are all too familiar with this hindus have been fighting these fuxking mongrels for <number> years and still continues they won ’ t stop until they have all of india\n",
      "they ’ re allies of hindus if they hate islam that ’ good enough for me i consider them my friend\n",
      "they haven ’ t done anything to hindus\n",
      "they were also called hindus perhaps might want to google “ marathi hindu army ” and the general shivaji maharaj\n",
      "i ’ m a hindu bastard\n",
      "yeah this is why i don ’ t understand the uber white identitarian bullshit to the point they want to strip me of my citizenship it ’ fucking ridiculous hindus don ’ t get along with muslims the most we have a common enemy but these dumbass nazis don ’ t say shit about muslims\n",
      "how about she go back to india because lack of guns worked out so well for indians against the british raj i swear it like <number> years of oppression and collectivism has gone to these hindu cuck dna they are an embarrassment to me i want her deported\n",
      "persian culture was zoroastrian rich colorful beautiful and fun culture where women were free to dress how they pleased before islam raped persia of its rich history thousands of zoroastrian persian refugees fled to india for asylum among hindus where they ’ re free to practice their religion\n",
      "i ’ m sure jesus was a great guy but i won ’ t worship him i follow my hindu values without necessarily believing in the existence of god i don ’ t need help i ’ m quite content with my life\n",
      "just like in america us hindus also have our own commie cucks to deal with who bash our heritage and our ancient civilizations they want to protect foreign invaders and ideaogy while ignoring our identity i have no problems with muslims living amongst us hindus but i have a problem when they ignore history and make it seem like the islamic terrorist imperialism of south asia wasn ’ t a big deal\n",
      "this is a disgrace how does a nation with <percent> hindus allow 5 0 0 k madrassas to exist who is finding this\n",
      "<user> ‍ even non humans enjoy a nice pair of tits see tits are universally loved even by other species nazis commies hindus christians muslims black white and every identity just love tits <url>\n",
      "that ’ because <user> fuxking muslim terrorist ancestors would burn hindu villages and kingdoms then rape hindu women right in front of their husbands before decapitating their heads his ancestors always used rape as a weapon of war and fucking muslims are doing that to white women in europe hindu women would rather burn themselves alive than to get raped by fucking sullah savages there is a bollywood movie “ padmavati ” coming up based on this “ johar ” issue in which women burned themselves before becoming sex slaves of the fucking muslims watch the trailer you will enjoy <url>\n",
      "blah blah blah then you should be indian and hindu pakshitstan shouldn ’ t exist becasue your ancestors were hindus and bharatis before being raped by your sultan masters\n",
      "lmao in other words you deny your hindu indian roots but love living in a white nation despite spewing shit about pakshitstan ethnostate which doesn ’ t exist there is no ethnicity such as “ paki ” it ’ a made up fucking term you have blood from bharat indus valley civilization of ancient hindus are your ancestors come back to your roots blood and soil\n",
      "asking a bengali hindu to get along with a muslim paki like <user> is like asking a jew to get along with nazis nigga you cray\n",
      "but i have no desire for ethno state not even for india and bangladesh sure i want hindus to remain majority in india but i don ’ t want to kick out muslims you on the other hand are inconsistent you want usa to be an ethnostate but you want self deport go back now there is no point waiting <number> years\n",
      "padmaavat bollywood i just got done watching this film and it brought tears to my eyes and shivers up my spine this movie shows the integrity ethics and morals the hindus abided by when fighting the muslim enemies during war while the sullah terrorists used lies deciept and literal backstabbing to bring down the great hindu empire they didn ’ t even spare the women so women took power into their own hands and sacrificed themselves via self immolation they ’ d rather turn to ashes than to be sexual slaves of muslims also this movie shows a fucking wall works to protect one ’ kindgom\n",
      "which is even more pathetic despite having someone your bitxhass would rather be online bitching at some hindu stranger chick you wackass wigga proof your dick is lame\n",
      "i hindu nuffin rong\n",
      "yep like dinesh said karma ’ a bitch the irony is that preet is the hindu and dinesh is christian\n",
      "i use a swastika because of my religion not because fucking nazis scums hijacked our beloved hindu symbol\n",
      "and wtf does that have to do with the west how is hindus killing babies violent towards you i know you are not a leftard but you seem to be caring for brown girls being aborted more than the white girls my kind is not going anywhere you dipshit it your race that in danger of going extinct\n",
      "because hindus abort their babies due to fucked up backwards culture it hinduism fault hinduism is the only practicing religion that worships goddesses so save me the lecture you uneducated bitch again i ask what does disappearing brown girls have to do with violence towards the west\n",
      "exactly shithole countries tend to treat people like shitholes therefore i don ’ t want more of those same shithole mentality being brought here muslims did the same to hindus until india got involved in <number> civil war i don ’ t want those fucking muslims coming here from shithole bangladesh\n",
      "pro hindu pro capitalist pro individualism\n",
      "capitalism is not just a system it ’ also an economic philosophy hinduism is a religious philosophy\n",
      "i hindu nuffin\n",
      "i will be watching padmaavati this week it a bollywood movie about a muslim turkic imperialist who tried to sexually enslave a rajput hindu queen of india but she self immolated herself to save her honor this movie has been a very sensitive topic as it touches upon old wounds between hindu vs muslim rivalry <url>\n",
      "to everyone including non hindus happy shivaratri good luck on your fasting and praying to the destroyer to remove all evilness from the world remember to break your fast with a ganja in his honor ❤️\n",
      "i do the same with indians i am bangladeshi hindu but i am borderline hindu nationalist and believe india should remain majority hindu nation therefore i am unsympathetic to bangaldeshi muslims that migrate illegally to india so naturally i am against mass immigration to the usa especially from islamic hellholes like the one i was born in but many bleeding heart indian americans support daca amnesty and overall status quo on immigration and refugees but they are staunchly against amnesty for bangladeshi illegal immigrants in india so being a bangladeshi myself i just love to point out their hypocrisy and double standard why dont you hindu alt right fascists give amensty to my <number> million bangladeshi brothers and sisters who work for cheap labor in india they deserve the opportunities that india gives them their children deserve the right to healthcare and education while poor hindu untouchables are starving to death but bangladeshi muslim illegal aliens deserve to live in india i love watching their heads spin\n",
      "republican jewish coalition and republican hindu coalition should join forces and oust out every anti semite sullahs resign anti semit dems\n",
      "the fuck are you talking about in case you forgot i was born in a muslim country my mother was practically raised in a refugee camp in india when paki muslims were terrorizing bengali hindus in our <number> civil war i was redpilled on fucking muslims the moment i became a zygote you cuck it ’ you that scapegoats from muslim influence and muslim brotherhood ’ goal of islamizing the west and would rather blame it on the jews\n",
      "read my bio you illiterate dumb fuck snow nigger i am hindu my language is bangla the daughter language of sanskrit spoken by the original aryans of indo aryan ancestry you fucking identity thief bitch\n",
      "like you hindus don ’ t eat pork dumb snow nigger\n",
      "i got called a misogynist white supremacist kk nazi i ’ m an immigrant hindu brown girl from bangladesh i hate liberals calling me that more hurtful than a nazi calling me a street shitter\n",
      "yes i agree i think bangladesh should take the muslims and india should take take hindu rohingyas lol in the meantime myanmar has to make them citizens of their country btw i love you my indian brothers and sisters my family will always be indebted to your country for <number> ❤️ ❤️ ❤️\n",
      "us hindus are having the same problems in india the damned lefty commies want to destroy all hindu traditions and indian culture they want to adopt marxist ideologies eliminating classism and economic freedom\n",
      "so you ’ re gonna blame hindus for what a muslim did btw i want bangladesh on the ban lists\n",
      "if the terrorist is from bangladesh i ’ m extremely sorry i know i ’ m not muslim but a practicing hindu however my country is suppose to be a secular nation i feel truly awful that this degenerate comes from my country now you all know why my family left that third world shithole nyc explosion\n",
      "it ’ not my motherland anymore usa is my home country my parents left bangladesh because muslims treat us hindu minorities like 3 rd class citizens\n",
      "he ’ a muslim i ’ m a hindu you fucktard tell me that shit when a hindu decides to bomb your ass\n",
      "you should class hindus as hindus and muslims as muslims because we are found in both countries india has the second largest muslim population in the world and bangladesh has the second largest hindu population\n",
      "dude really you ’ re the one to talk with your degenerate criminal background hindus specifically indians are the most successful in the country earning high incomes per capita why do you have besides a criminal background\n",
      "again u fucking moron my people have the highest income here per capita vast majority are in the <percent> paying their taxes they are contributing to this country more than your degenerate ass you want to blame someone then blame the fucking muslims that hate this country hindus have done nothing\n",
      "hindus\n",
      "hindus\n",
      "muslims are terrorist you uneducated pasty skin cancer bitch if you ’ re gona be a bottom feeding nazi cunt at least learn to tell the difference between hindus and muslims dumbass stupid bitch\n",
      "tell me how nehlen will be for my hindu community that is becoming right wing i don ’ t want a white nationalist only looking out for white people us brown folks are americans too how about favoring american nationalism for once\n",
      "no you dumb fuck untouchable isn ’ t even real thing per hindu texts and my family is a subcaste mixed of all the <number> main castes it ’ called kayasta <url>\n",
      "hindus and sikhs are allies you dont see us fight\n",
      "cuban and indian voters helped a lot the old retired hindus are very nationalist against muslims eric trump went down there to gain hindus voters and donor <url>\n",
      "you ’ re hindu\n",
      "why do you think hindus like me want to end their immigration via ending chain migration and h1b it ’ not to go against my people but to stop these mother fuckers from voting democrat\n",
      "that ’ fine and so andrew is the only white guy controling gab the other two are hindu indian and turkish muslim lol\n",
      "that ’ left for messicans hindus are running the corps and you fix my car or a broken sink\n",
      "my friend keshav is a white hindu he was a full blown commie leftard when he first added me on facebook i slowly began red pilling him via debates and sharing right wing videos on my facebook i am proud to say he is my third born baby that i helped to redpill first two were my good friends back in <number> who converted to ron paul supporters ❤️\n",
      "why do you you think i ’ m against h1b visas the leftist media has done a fantastic job to smear republicans and conservatives as extreme racists and xenophobes that sort of conditioning has led to indian americans to always vote democrat it doesn ’ t matter how much i debate with my leftard cuck friends it doesn ’ t matter how much i show them evidence facts and figures they will continue to believe their stupid bullshit becasue indians are just stubborn and refuse to accept when they ’ re wrong so i gave up on them and just call them cucks i ’ d rather immigration from india be extremely limited than to import boards of future leftards id rather continue red pilling white hindus\n",
      "funny thing is a lot of indian men are intrigued by my politics and want to get to know me then when i expose their idiocy and cognitive dissonance they remove me from facebook for example during the syrian migration crisis and muslim ban bleeding heart hindu leftards would post images of dying muslim kids and call to end the muslim ban while housing more muslims here then when the rohingya crisis hit near india i went hard as motherfucker posting their hypocrisy on their migration crisis by their borders not a single fucking hindu indian commented on india taking in muslim rohingya refugees then i called them alt right racist nazis hindu fascists for not accepting muslims refugees in india every single one hid like a rat and some quietly unfriended me 😂 🤣 😂 🤣 🤣 😂 “ migration for thee but not for me ”\n",
      "exactly keshav thought i was a racist first but he realized that i wouldn ’ t want hindus to become minority in india from muslims so there ’ no reason for whites to be minorities in their own land i think that conversation led to first step of red pilling btw here ’ the comment i made regarding hypocrite hindus let me know if you want the link to the video for context\n",
      "nah fascistbook lmao every single one sounds like an alt right hindu nazi <url>\n",
      "what do you think of hindu americans vast majority of my people are cucks that vote democrat i ’ m one of the few hindus that voted for trump becasue us hindus have a rivalry with muslims that predates the crusades his travel ban is what got me on board but what ’ your general attitude towards hindus specifically indians should we limit h1b visas since these people tend to vote for leftard democrat policies\n",
      "you know hinduism is an ideology religion not a race right are you aware of this or you this fucking retarded\n",
      "lol this is wrong hinduism is not an ethnicity lol its a belief religion nobody is born hindu they are taught hinduism\n",
      "bitch i ’ m hindu\n",
      "<user> ‍ lol this nigga is talking about my iq but can ’ t even tell the difference between hindu and hindi hahahahhahahahahahah\n",
      "<user> ‍ nigga hindus are the people hindi is the language hindu is what i am hindi is what i speak lol\n",
      "i ’ m just wondering why did you use hindu gods for this topic lol\n",
      "you ’ re gona get a half hindu bengali mutt with beige skin if you procreate with me\n",
      "don ’ t blame me im hindu i fuxking hate muslims more than these nazis hitler sucked muslims dick\n",
      "are there any brown hindu men out there in iowa all the hindus here are insufferable libtards\n",
      "why would you send this to india are you fucking retarded you know sarsour is from palestine and india is a majority hindu country right\n",
      "you can kiss my fat hindu idol worshipping ass you commie wench\n",
      "yes i ’ m aware of that us hindus have hated muslims long before the christians and jews in europe we ’ ve been fighting islam for <number> years\n",
      "western khalistani madarchods are still stuck in <number> and blame hindus pakis are the worst flaming the fires between us hindus and sikhs maachods don ’ t even know the full details and retards think hindu bjp was behind <number> instead of blaming khangress and the retard western sikhs believe them\n",
      "bollywood does not have a movies like that seldom does it contain quality story telling content but bahubali changed that being the highest grossing indian movie ever its based on hindu mythology epics like mahabharata and ramayana it on netflix <happy> <url>\n",
      "those fucking hindus again\n",
      "amarnath amarasingam another one of my people that ’ a cucked hindu mofo he ’ going on my “ to gas ” list\n",
      "how am i muslim you iq of <number> pasty fuck hindus aren ’ t muslims we ’ ve been fighting fuxking muslims longer than your people fought the cruasdes idiot asshole 😂 🤣 😂 🤣 😂 🤣\n",
      "i ’ m a proud hindu i don ’ t have allegiance towards india nor bangladesh as america is my nation vendantism is my dharma india is a shithole don ’ t even kid yourself fucking pehndu\n",
      "no education hindu talibans put a bounty for deepika padukone ’ beheading for her role in padmavati sanjay leela bhansali got assaulted by triggered hindu nazis census beareau is bullied into delaying release of the movie i have more education than you <user> on india ’ freedom of speech\n",
      "she and i grew up together i taught her how to do indian classical dance and we became close i was extremely disappointed when she told me she was dating a paki 🤮 she finally came to her senses and broke up with him when he began to show his true colors he wanted to convert her and i warned her about it same thing another friend of mine who is guyanese hindu dated a muslim afghan but now is engaged to a white guy\n",
      "yeah so i don ’ t care what they do as long as hindus don ’ t mix with muslims i ’ m good the only no no in my book is muslims evrybody else is fair game do whoever you love i don ’ t care\n",
      "hold up you fucking wigger i have no interest mixing with your ilk i love my indian caramel skinned men i want my kids to look like me if i decide to make babies it ’ only going to be with an indian man who is hindu i have no fuxking desire to procreate with non indians fuck outa here\n",
      "really because my people hindus are the second wealthiest americans after the jews while muslims suck off the government teet dont belive me then see the pew research below unlike nazi cock suckers us hindus hate muslims more than any religion\n",
      "did mccabe really say that wow so glad to be a hindu where karma is bitch\n",
      "iranians are semites look at everyone of their faces their noses are prominent as yours again the oringal oldest recorded finding of the term “ aryan ” was found in indus valley civilization present day pakistan it was written in the vedas which are the oldest hindu text and i ’ ve spoken to nazis that have visited india and even conceded the fact it was ancient indians that gave ancient caucuses a language by introducing sanskrit the “ aryan migration theory ” is falling flat on its face and you should fall flat on your face to to reduce the size of that nose\n",
      "lol look at this triggered bitch tagging her pimps to back her up i ’ ve mowed your pimp bitches down plenty of times cunt i ’ ve already pissed and shitted no pun intended all over their graves especially <user> ‍ and <user> ‍ hindus in usa are the richest people right below jews lol subhuman says the dumb bitch that can ’ t put her iq to use where it counts instead of going albino apeshit on gab make money cunt\n",
      "noble race meaning aryan sanskrit word from hindus created by real aryans from indo aryan region basically me people ancestors therefore making me the real aryan you fucking identity thief suck my cock\n",
      "which means we pay a lot of taxes to help keep this country afloat if you should be angry then go bitch at the spics and muslims who breed faster than rats and live off of welfare mans hindus have done nothing to harm this country\n",
      "only hope is the young hindu boys who are fighting back against marxism and current feminist shitlords corrupting the youth in the universities the young hindus boys in india are the same as the young white christian males in the west they are literally blamed for everything that wrong in india instead of blaming fucking muslims and the leftist government that has been ruling india since the partition\n",
      "<user> ‍ implying blacks can ’ t be hindus followers of hinduism el oh el\n",
      "implying that hindus can ’ t be typical new yorker from queens dumb 👏 fuck 👏\n"
     ]
    }
   ],
   "source": [
    "for i in user_id_2_post_ids_list[post_id_2_user[int(train_ids[0][:-4])]]:\n",
    "    if(\"hindu\" in post_id_2_text[i]):\n",
    "        print(post_id_2_text[i])"
   ]
  },
  {
   "cell_type": "code",
   "execution_count": null,
   "id": "477b5d22",
   "metadata": {},
   "outputs": [],
   "source": []
  },
  {
   "cell_type": "code",
   "execution_count": null,
   "id": "d1581065",
   "metadata": {},
   "outputs": [],
   "source": []
  },
  {
   "cell_type": "code",
   "execution_count": 191,
   "id": "5aa1e250",
   "metadata": {},
   "outputs": [],
   "source": [
    "vi=pid[\"train\"]+pid[\"test\"]+pid[\"val\"]\n",
    "np.random.shuffle(vi)"
   ]
  },
  {
   "cell_type": "code",
   "execution_count": 192,
   "id": "d87e9d23",
   "metadata": {},
   "outputs": [],
   "source": [
    "pid[\"train\"]=vi[:len(pid[\"train\"])]\n",
    "pid[\"test\"]=vi[len(pid[\"train\"]):len(pid[\"train\"])+len(pid[\"test\"])]\n",
    "pid[\"val\"]=vi[-len(pid[\"val\"]):]"
   ]
  },
  {
   "cell_type": "code",
   "execution_count": 178,
   "id": "caef67a5",
   "metadata": {},
   "outputs": [],
   "source": [
    "def get_ids_and_labels(split):\n",
    "    ids = [i for i in pid[split] if 'gab' in i]\n",
    "    labels = [label_dict[Counter([j[\"label\"] for j in data[i][\"annotators\"]]).most_common(1)[0][0]] for i in pid[split] if 'gab' in i]\n",
    "    return np.array(ids), np.array(labels)"
   ]
  },
  {
   "cell_type": "code",
   "execution_count": null,
   "id": "e8610b58",
   "metadata": {},
   "outputs": [],
   "source": []
  },
  {
   "cell_type": "code",
   "execution_count": 269,
   "id": "ca989fc7",
   "metadata": {},
   "outputs": [],
   "source": [
    "# load train/val/test split\n",
    "data_path = '../../data/commons/dataset.json'\n",
    "pid_path = '../../data/commons/post_id_divisions.json'\n",
    "\n",
    "with open(pid_path) as f:\n",
    "    pid = json.load(f)\n",
    "with open(data_path) as f:\n",
    "    data = json.load(f)\n",
    "\n",
    "label_dict = {'normal': 0, 'offensive': 1, 'hatespeech': 2}\n",
    "\n",
    "train_ids, train_labels = get_ids_and_labels(\"train\")\n",
    "val_ids, val_labels = get_ids_and_labels(\"val\")\n",
    "test_ids, test_labels = get_ids_and_labels(\"test\")"
   ]
  },
  {
   "cell_type": "code",
   "execution_count": 179,
   "id": "a6cc1dad",
   "metadata": {
    "scrolled": false
   },
   "outputs": [],
   "source": [
    "def generate_batch(\n",
    "    post_ids, post_labels, post_id_2_neigbor_list,\\\n",
    "    post_id_2_user, user_id_2_post_ids_list,\\\n",
    "    post_id_2_text, device, batch_size=32,\\\n",
    "    num_neighbors=2, num_user_posts=5, dim=200,\\\n",
    "    max_len=70, shuffle=True, mode=\"shuffle\"\n",
    "):\n",
    "    if shuffle:\n",
    "        shuffled_idxs = np.random.permutation(np.arange(len(post_ids)))\n",
    "    else:\n",
    "        shuffled_idxs = np.arange(len(post_ids))\n",
    "    num_of_batches = (len(post_ids)//batch_size)+(1 if len(post_ids)%batch_size else 0)\n",
    "    for i in range(num_of_batches):\n",
    "        batch_idxs = shuffled_idxs[i*batch_size:(i+1)*batch_size]\n",
    "        X = np.zeros((batch_size, 1 + num_neighbors + num_user_posts, max_len, dim), dtype=np.float32)\n",
    "        y = post_labels[batch_idxs]\n",
    "        for dim1, batch_idx in enumerate(batch_idxs):\n",
    "            post_id = int(post_ids[batch_idx][:-4])\n",
    "            batch_post_ids = [post_id]\n",
    "            # batch_post_ids = []\n",
    "            sampled_neighbors = np.random.choice(post_id_2_neigbor_list[post_id], num_neighbors)\n",
    "            user_id = post_id_2_user[post_id]\n",
    "            sampled_user_posts = np.random.choice(user_id_2_post_ids_list[user_id], num_user_posts)\n",
    "            batch_post_ids.extend([id for id in sampled_neighbors])\n",
    "            batch_post_ids.extend([id for id in sampled_user_posts])\n",
    "            for dim2, post_id in enumerate(batch_post_ids):\n",
    "                vecs = []\n",
    "                for word in post_id_2_text[post_id].split():\n",
    "                    try:\n",
    "                        vecs.append(word2vec_model.wv.get_vector(word))\n",
    "                    except:\n",
    "                        pass\n",
    "                sent_len = len(vecs)\n",
    "                if sent_len >= max_len:\n",
    "                    vecs = vecs[:max_len]\n",
    "                else:\n",
    "                    pad_len = max_len - sent_len\n",
    "                    pad_vecs = []\n",
    "                    for _ in range(pad_len):\n",
    "                        pad_vecs.append(np.zeros((dim,)))\n",
    "                    vecs = pad_vecs + vecs\n",
    "                X[dim1, dim2] = np.array(vecs)\n",
    "        yield torch.tensor(X[:y.shape[0]]).to(device), torch.LongTensor(y).to(device)"
   ]
  },
  {
   "cell_type": "code",
   "execution_count": 11,
   "id": "183d0dc6",
   "metadata": {},
   "outputs": [],
   "source": [
    "class Encoder(nn.Module):\n",
    "\n",
    "    def __init__(self, seq_len, inp_dim):\n",
    "        super(Encoder, self).__init__()\n",
    "\n",
    "        self.seq_len = seq_len\n",
    "        self.inp_dim = inp_dim\n",
    "\n",
    "        self.rnn = nn.LSTM(inp_dim, inp_dim, 2, batch_first=True, bidirectional=False)\n",
    "    \n",
    "    def forward(self, x):\n",
    "        assert x.shape[1] == self.seq_len\n",
    "        assert x.shape[2] == self.inp_dim\n",
    "\n",
    "        x, _ = self.rnn(x)\n",
    "        return x"
   ]
  },
  {
   "cell_type": "code",
   "execution_count": 12,
   "id": "90bab66d",
   "metadata": {},
   "outputs": [],
   "source": [
    "class Classifier(nn.Module):\n",
    "    \n",
    "    def __init__(self, inp_dim, out_logits):\n",
    "        super(Classifier, self).__init__()\n",
    "\n",
    "        self.inp_dim = inp_dim\n",
    "        self.out_dim = out_logits\n",
    "\n",
    "        self.fc = nn.Linear(inp_dim, out_logits)\n",
    "    \n",
    "    def forward(self, x):\n",
    "        assert x.shape[1] == self.inp_dim\n",
    "\n",
    "        x = self.fc(x)\n",
    "        return torch.softmax(x, dim=1)"
   ]
  },
  {
   "cell_type": "code",
   "execution_count": 13,
   "id": "4ef755c6",
   "metadata": {},
   "outputs": [],
   "source": [
    "class Network(nn.Module):\n",
    "\n",
    "    def __init__(self, num_seq, seq_len, inp_dim, out_logits, device):\n",
    "        super(Network, self).__init__()\n",
    "\n",
    "        self.num_seq = num_seq\n",
    "        self.seq_len = seq_len\n",
    "        self.inp_dim = inp_dim\n",
    "        self.out_dim = out_logits\n",
    "        self.device = device\n",
    "\n",
    "        self.enc = Encoder(seq_len, inp_dim)\n",
    "        # self.enc1 = Encoder(seq_len, inp_dim)\n",
    "        # self.enc2 = Encoder(seq_len, inp_dim)\n",
    "        self.clf = Classifier(seq_len*inp_dim*num_seq, out_logits)\n",
    "\n",
    "    def forward(self, x):\n",
    "\n",
    "        xs = torch.zeros(x.shape[0], self.num_seq*self.seq_len*self.inp_dim).to(self.device)\n",
    "        for i in range(self.num_seq):\n",
    "            xs[:,i*self.seq_len*self.inp_dim:(i+1)*self.seq_len*self.inp_dim] =\\\n",
    "                                        self.enc(x[:,i]).reshape(-1, self.seq_len*self.inp_dim)\n",
    "        x = self.clf(xs)\n",
    "        return x"
   ]
  },
  {
   "cell_type": "code",
   "execution_count": 14,
   "id": "f94281b4",
   "metadata": {},
   "outputs": [],
   "source": [
    "def train(epoch_num, device, optimizer, criterion, model, batch_size=32, verbose=False):\n",
    "    print(\"Training | Epoch:\", epoch_num)\n",
    "    model.train()\n",
    "    if not verbose:\n",
    "        for i, batch in enumerate(tqdm(generate_batch(train_ids, train_labels, post_id_2_neigbor_list,\\\n",
    "                                             post_id_2_user, user_id_2_post_ids_list,\\\n",
    "                                             post_id_2_text, device, batch_size, 0, 15),\n",
    "                                    total=len(train_ids)//batch_size+(1 if len(train_ids)%batch_size else 0))):\n",
    "            out = model(batch[0])\n",
    "            loss = criterion(out, batch[1])\n",
    "            optimizer.zero_grad()\n",
    "            loss.backward()\n",
    "            optimizer.step()\n",
    "    else:\n",
    "        for i, batch in enumerate(generate_batch(train_ids, train_labels, post_id_2_neigbor_list,\\\n",
    "                                                 post_id_2_user, user_id_2_post_ids_list,\\\n",
    "                                                 post_id_2_text, device, batch_size, 0, 15)):\n",
    "            out = model(batch[0])\n",
    "            loss = criterion(out, batch[1])\n",
    "            optimizer.zero_grad()\n",
    "            loss.backward()\n",
    "            optimizer.step()\n",
    "            print(\"Epoch:\", epoch_num, \"| Iter:\", i+1, \"| Loss:\", round(loss.item(), 4))\n",
    "    model.eval()"
   ]
  },
  {
   "cell_type": "code",
   "execution_count": 15,
   "id": "9a94b065",
   "metadata": {},
   "outputs": [],
   "source": [
    "def evaluate(epoch_num, device, model, batch_size=64, full=False):\n",
    "    print(\"Evaluating | Epoch:\", epoch_num)\n",
    "    y_preds = []\n",
    "    y_tests = []\n",
    "    for batch in generate_batch(test_ids, test_labels, post_id_2_neigbor_list,\\\n",
    "                                 post_id_2_user, user_id_2_post_ids_list,\\\n",
    "                                 post_id_2_text, device, batch_size, 0, 15):\n",
    "        out = model(batch[0])\n",
    "        for y in batch[1].cpu().numpy():\n",
    "            y_tests.append(y)\n",
    "        for y in out.argmax(dim=1).cpu().numpy():\n",
    "            y_preds.append(y)\n",
    "    if full:\n",
    "        print(classification_report(y_tests, y_preds))\n",
    "    else:\n",
    "        print(round(f1_score(y_tests, y_preds, average=\"macro\"), 4), round(f1_score(y_tests, y_preds, average=\"micro\"), 4))"
   ]
  },
  {
   "cell_type": "code",
   "execution_count": 18,
   "id": "bbf268ad",
   "metadata": {
    "scrolled": false
   },
   "outputs": [
    {
     "name": "stderr",
     "output_type": "stream",
     "text": [
      "\r",
      "  0%|          | 0/131 [00:00<?, ?it/s]"
     ]
    },
    {
     "name": "stdout",
     "output_type": "stream",
     "text": [
      "Training | Epoch: 1\n"
     ]
    },
    {
     "name": "stderr",
     "output_type": "stream",
     "text": [
      "100%|██████████| 131/131 [01:53<00:00,  1.16it/s]\n"
     ]
    },
    {
     "name": "stdout",
     "output_type": "stream",
     "text": [
      "Evaluating | Epoch: 1\n"
     ]
    },
    {
     "name": "stderr",
     "output_type": "stream",
     "text": [
      "\r",
      "  0%|          | 0/131 [00:00<?, ?it/s]"
     ]
    },
    {
     "name": "stdout",
     "output_type": "stream",
     "text": [
      "0.6048 0.6506\n",
      "Training | Epoch: 2\n"
     ]
    },
    {
     "name": "stderr",
     "output_type": "stream",
     "text": [
      "100%|██████████| 131/131 [01:52<00:00,  1.16it/s]\n"
     ]
    },
    {
     "name": "stdout",
     "output_type": "stream",
     "text": [
      "Evaluating | Epoch: 2\n"
     ]
    },
    {
     "name": "stderr",
     "output_type": "stream",
     "text": [
      "\r",
      "  0%|          | 0/131 [00:00<?, ?it/s]"
     ]
    },
    {
     "name": "stdout",
     "output_type": "stream",
     "text": [
      "0.6069 0.6622\n",
      "Training | Epoch: 3\n"
     ]
    },
    {
     "name": "stderr",
     "output_type": "stream",
     "text": [
      "100%|██████████| 131/131 [01:58<00:00,  1.10it/s]\n"
     ]
    },
    {
     "name": "stdout",
     "output_type": "stream",
     "text": [
      "Evaluating | Epoch: 3\n"
     ]
    },
    {
     "name": "stderr",
     "output_type": "stream",
     "text": [
      "\r",
      "  0%|          | 0/131 [00:00<?, ?it/s]"
     ]
    },
    {
     "name": "stdout",
     "output_type": "stream",
     "text": [
      "0.5947 0.6554\n",
      "Training | Epoch: 4\n"
     ]
    },
    {
     "name": "stderr",
     "output_type": "stream",
     "text": [
      "100%|██████████| 131/131 [01:27<00:00,  1.50it/s]\n"
     ]
    },
    {
     "name": "stdout",
     "output_type": "stream",
     "text": [
      "Evaluating | Epoch: 4\n"
     ]
    },
    {
     "name": "stderr",
     "output_type": "stream",
     "text": [
      "\r",
      "  0%|          | 0/131 [00:00<?, ?it/s]"
     ]
    },
    {
     "name": "stdout",
     "output_type": "stream",
     "text": [
      "0.6043 0.6564\n",
      "Training | Epoch: 5\n"
     ]
    },
    {
     "name": "stderr",
     "output_type": "stream",
     "text": [
      "100%|██████████| 131/131 [01:29<00:00,  1.47it/s]\n"
     ]
    },
    {
     "name": "stdout",
     "output_type": "stream",
     "text": [
      "Evaluating | Epoch: 5\n"
     ]
    },
    {
     "name": "stderr",
     "output_type": "stream",
     "text": [
      "\r",
      "  0%|          | 0/131 [00:00<?, ?it/s]"
     ]
    },
    {
     "name": "stdout",
     "output_type": "stream",
     "text": [
      "0.6121 0.6622\n",
      "Training | Epoch: 6\n"
     ]
    },
    {
     "name": "stderr",
     "output_type": "stream",
     "text": [
      "100%|██████████| 131/131 [01:26<00:00,  1.51it/s]\n"
     ]
    },
    {
     "name": "stdout",
     "output_type": "stream",
     "text": [
      "Evaluating | Epoch: 6\n"
     ]
    },
    {
     "name": "stderr",
     "output_type": "stream",
     "text": [
      "\r",
      "  0%|          | 0/131 [00:00<?, ?it/s]"
     ]
    },
    {
     "name": "stdout",
     "output_type": "stream",
     "text": [
      "0.6281 0.668\n",
      "Training | Epoch: 7\n"
     ]
    },
    {
     "name": "stderr",
     "output_type": "stream",
     "text": [
      "100%|██████████| 131/131 [01:27<00:00,  1.49it/s]\n"
     ]
    },
    {
     "name": "stdout",
     "output_type": "stream",
     "text": [
      "Evaluating | Epoch: 7\n"
     ]
    },
    {
     "name": "stderr",
     "output_type": "stream",
     "text": [
      "\r",
      "  0%|          | 0/131 [00:00<?, ?it/s]"
     ]
    },
    {
     "name": "stdout",
     "output_type": "stream",
     "text": [
      "0.6105 0.6564\n",
      "Training | Epoch: 8\n"
     ]
    },
    {
     "name": "stderr",
     "output_type": "stream",
     "text": [
      "100%|██████████| 131/131 [01:28<00:00,  1.47it/s]\n"
     ]
    },
    {
     "name": "stdout",
     "output_type": "stream",
     "text": [
      "Evaluating | Epoch: 8\n"
     ]
    },
    {
     "name": "stderr",
     "output_type": "stream",
     "text": [
      "\r",
      "  0%|          | 0/131 [00:00<?, ?it/s]"
     ]
    },
    {
     "name": "stdout",
     "output_type": "stream",
     "text": [
      "0.5866 0.6477\n",
      "Training | Epoch: 9\n"
     ]
    },
    {
     "name": "stderr",
     "output_type": "stream",
     "text": [
      "100%|██████████| 131/131 [01:24<00:00,  1.54it/s]\n"
     ]
    },
    {
     "name": "stdout",
     "output_type": "stream",
     "text": [
      "Evaluating | Epoch: 9\n"
     ]
    },
    {
     "name": "stderr",
     "output_type": "stream",
     "text": [
      "\r",
      "  0%|          | 0/131 [00:00<?, ?it/s]"
     ]
    },
    {
     "name": "stdout",
     "output_type": "stream",
     "text": [
      "0.6197 0.667\n",
      "Training | Epoch: 10\n"
     ]
    },
    {
     "name": "stderr",
     "output_type": "stream",
     "text": [
      "100%|██████████| 131/131 [01:26<00:00,  1.52it/s]\n"
     ]
    },
    {
     "name": "stdout",
     "output_type": "stream",
     "text": [
      "Evaluating | Epoch: 10\n",
      "0.6184 0.6622\n"
     ]
    }
   ],
   "source": [
    "model = Network(16, 70, 200, 3, device).to(device)\n",
    "\n",
    "optimizer = optim.Adam(model.parameters(), lr=3e-5)\n",
    "criterion = nn.CrossEntropyLoss()\n",
    "\n",
    "for epoch in range(20):\n",
    "    train(epoch+1, device, optimizer, criterion, model, 64, verbose=False)\n",
    "    evaluate(epoch+1, device, model, 64)"
   ]
  },
  {
   "cell_type": "code",
   "execution_count": 21,
   "id": "27c97124",
   "metadata": {},
   "outputs": [
    {
     "name": "stdout",
     "output_type": "stream",
     "text": [
      "Evaluating | Epoch: 1\n",
      "              precision    recall  f1-score   support\n",
      "\n",
      "           0       0.64      0.53      0.58       216\n",
      "           1       0.53      0.52      0.52       305\n",
      "           2       0.76      0.82      0.79       515\n",
      "\n",
      "    accuracy                           0.67      1036\n",
      "   macro avg       0.64      0.62      0.63      1036\n",
      "weighted avg       0.67      0.67      0.67      1036\n",
      "\n"
     ]
    }
   ],
   "source": [
    "evaluate(1, device, model, 64, True)"
   ]
  },
  {
   "cell_type": "code",
   "execution_count": 22,
   "id": "98c610ee",
   "metadata": {},
   "outputs": [],
   "source": [
    "torch.save(model.state_dict(), \"1+Rand_15_63_67.pth\")"
   ]
  },
  {
   "cell_type": "code",
   "execution_count": 44,
   "id": "9bfa3486",
   "metadata": {
    "scrolled": false
   },
   "outputs": [
    {
     "name": "stdout",
     "output_type": "stream",
     "text": [
      "[0.32450047 0.04666138 0.04523772 0.04329785 0.046474   0.04490394\n",
      " 0.04590655 0.04632129 0.04313574 0.04249322 0.04831655 0.04731193\n",
      " 0.04191757 0.04403957 0.04657401 0.04290824]\n",
      "[0.29215732 0.04692858 0.04612512 0.0466164  0.04958789 0.04821777\n",
      " 0.04744578 0.04680758 0.04759061 0.04788237 0.0482173  0.04694767\n",
      " 0.04516486 0.04593274 0.04684975 0.04752821]\n",
      "[0.29011226 0.0483922  0.0452545  0.04575239 0.04779587 0.04903829\n",
      " 0.04844868 0.04670522 0.04592193 0.04775837 0.04891448 0.04624263\n",
      " 0.04636228 0.04830711 0.04816526 0.04682856]\n"
     ]
    }
   ],
   "source": [
    "t = model.state_dict()['clf.fc.weight'][0].cpu().numpy()\n",
    "t2 = np.abs(t.reshape(16,70,-1)[:,-20:,:].reshape(16,-1)).mean(axis=1)\n",
    "print(t2 / t2.sum())\n",
    "t = model.state_dict()['clf.fc.weight'][1].cpu().numpy()\n",
    "t2 = np.abs(t.reshape(16,70,-1)[:,-20:,:].reshape(16,-1)).mean(axis=1)\n",
    "print(t2 / t2.sum())\n",
    "t = model.state_dict()['clf.fc.weight'][2].cpu().numpy()\n",
    "t2 = np.abs(t.reshape(16,70,-1)[:,-20:,:].reshape(16,-1)).mean(axis=1)\n",
    "print(t2 / t2.sum())"
   ]
  }
 ],
 "metadata": {
  "kernelspec": {
   "display_name": "Python 3 (ipykernel)",
   "language": "python",
   "name": "python3"
  },
  "language_info": {
   "codemirror_mode": {
    "name": "ipython",
    "version": 3
   },
   "file_extension": ".py",
   "mimetype": "text/x-python",
   "name": "python",
   "nbconvert_exporter": "python",
   "pygments_lexer": "ipython3",
   "version": "3.8.11"
  }
 },
 "nbformat": 4,
 "nbformat_minor": 5
}
