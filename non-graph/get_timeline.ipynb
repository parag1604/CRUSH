{
 "cells": [
  {
   "cell_type": "code",
   "execution_count": 3,
   "metadata": {},
   "outputs": [],
   "source": [
    "import numpy as np\n",
    "import pickle\n",
    "from datetime import datetime\n",
    "from tqdm import tqdm"
   ]
  },
  {
   "cell_type": "code",
   "execution_count": 4,
   "metadata": {},
   "outputs": [],
   "source": [
    "full_data = pickle.load(open(\"../../../sumegh/GabData/Final_Posts.pkl\", \"rb\"))"
   ]
  },
  {
   "cell_type": "code",
   "execution_count": 5,
   "metadata": {},
   "outputs": [],
   "source": [
    "post_id_2_user_id = pickle.load(open(\"../../data/non-graph/post_id_2_user_id.pkl\", \"rb\"))"
   ]
  },
  {
   "cell_type": "code",
   "execution_count": 7,
   "metadata": {},
   "outputs": [],
   "source": [
    "post_ids = list(post_id_2_user_id.keys())"
   ]
  },
  {
   "cell_type": "code",
   "execution_count": 39,
   "metadata": {},
   "outputs": [],
   "source": [
    "post_ids_2_timestamps = dict()\n",
    "timestamps = []\n",
    "for post_id in post_ids:\n",
    "    dt_obj = datetime.strptime(full_data[post_id]['post_create_time'][:-6], '%Y-%m-%dT%H:%M:%S')\n",
    "    sec = int(dt_obj.timestamp())\n",
    "    post_ids_2_timestamps[post_id] = sec\n",
    "    timestamps.append(sec)"
   ]
  },
  {
   "cell_type": "code",
   "execution_count": 24,
   "metadata": {},
   "outputs": [],
   "source": [
    "user_id_2_posts_idx_list = pickle.load(open(\"../../data/non-graph/user_id_posts_idx_list.pkl\", \"rb\"))"
   ]
  },
  {
   "cell_type": "code",
   "execution_count": 58,
   "metadata": {},
   "outputs": [
    {
     "name": "stderr",
     "output_type": "stream",
     "text": [
      "100%|██████████| 10423/10423 [05:05<00:00, 34.12it/s]\n"
     ]
    }
   ],
   "source": [
    "def last(n):\n",
    "    return n[1]\n",
    "   \n",
    "def sort(tuples):\n",
    "    return sorted(tuples, key=last)\n",
    "\n",
    "size = 7\n",
    "post_id_2_left_timestamp_post_ids = dict()\n",
    "post_id_2_right_timestamp_post_ids = dict()\n",
    "for post_id in tqdm(post_ids):\n",
    "    postid_list = user_id_2_posts_idx_list[post_id_2_user_id[post_id]]\n",
    "    postid_timestamp_tuple_list = set([(post_id, post_ids_2_timestamps[post_id])])\n",
    "    for postid in posts_list:\n",
    "        dt_obj = datetime.strptime(full_data[postid]['post_create_time'][:-6], '%Y-%m-%dT%H:%M:%S')\n",
    "        sec = int(dt_obj.timestamp())\n",
    "        postid_timestamp_tuple_list.add((postid, sec))\n",
    "    postid_timestamp_tuple_list = sort(list(postid_timestamp_tuple_list))\n",
    "    idx = 0\n",
    "    while post_id != postid_timestamp_tuple_list[idx][0]:\n",
    "        idx += 1\n",
    "    left_list = [t[0] for t in postid_timestamp_tuple_list[idx-size:idx]]\n",
    "    extra_list = []\n",
    "    while len(extra_list) + len(left_list) < size:\n",
    "        extra_list.append(np.random.choice(left_list+[post_id]))\n",
    "    post_id_2_left_timestamp_post_ids[post_id] = left_list + extra_list\n",
    "    right_list = [t[0] for t in postid_timestamp_tuple_list[idx+1:idx+size+1]]\n",
    "    extra_list = []\n",
    "    while len(extra_list) + len(right_list) < size:\n",
    "        extra_list.append(np.random.choice(right_list+[post_id]))\n",
    "    post_id_2_right_timestamp_post_ids[post_id] = extra_list + right_list"
   ]
  },
  {
   "cell_type": "code",
   "execution_count": 59,
   "metadata": {},
   "outputs": [],
   "source": [
    "pickle.dump(post_id_2_left_timestamp_post_ids, open(\"../../data/non-graph/post_id_2_left_timestamp_post_ids.pkl\", \"wb\"))\n",
    "pickle.dump(post_id_2_right_timestamp_post_ids, open(\"../../data/non-graph/post_id_2_right_timestamp_post_ids.pkl\", \"wb\"))"
   ]
  }
 ],
 "metadata": {
  "kernelspec": {
   "display_name": "Python 3",
   "language": "python",
   "name": "python3"
  },
  "language_info": {
   "codemirror_mode": {
    "name": "ipython",
    "version": 3
   },
   "file_extension": ".py",
   "mimetype": "text/x-python",
   "name": "python",
   "nbconvert_exporter": "python",
   "pygments_lexer": "ipython3",
   "version": "3.7.3"
  }
 },
 "nbformat": 4,
 "nbformat_minor": 5
}
