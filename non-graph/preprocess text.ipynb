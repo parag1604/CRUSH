{
 "cells": [
  {
   "cell_type": "code",
   "execution_count": 7,
   "id": "85231756",
   "metadata": {},
   "outputs": [],
   "source": [
    "import pickle\n",
    "from preprocess import ek_extra_preprocess\n",
    "from tqdm import tqdm"
   ]
  },
  {
   "cell_type": "code",
   "execution_count": 8,
   "id": "9f529306",
   "metadata": {},
   "outputs": [],
   "source": [
    "all_posts = set()\n",
    "user_id_2_post_list = pickle.load(open(\"../../data/non-graph/user_id_posts_idx_list.pkl\", \"rb\"))"
   ]
  },
  {
   "cell_type": "code",
   "execution_count": 9,
   "id": "9b7f0b44",
   "metadata": {},
   "outputs": [
    {
     "name": "stderr",
     "output_type": "stream",
     "text": [
      "100%|█████████████████████████████████████████████████████████████████████████████████████████████████████████████████████████████████████████████████████████████████| 3209/3209 [00:01<00:00, 2573.41it/s]\n"
     ]
    },
    {
     "data": {
      "text/plain": [
       "9040700"
      ]
     },
     "execution_count": 9,
     "metadata": {},
     "output_type": "execute_result"
    }
   ],
   "source": [
    "for user_id in tqdm(user_id_2_post_list):\n",
    "    for post_id in user_id_2_post_list[user_id]:\n",
    "        all_posts.add(post_id)\n",
    "len(all_posts)"
   ]
  },
  {
   "cell_type": "code",
   "execution_count": 10,
   "id": "2fa8c5dd",
   "metadata": {},
   "outputs": [],
   "source": [
    "all_post_ids = sorted(list(all_posts))"
   ]
  },
  {
   "cell_type": "code",
   "execution_count": 11,
   "id": "4fdff83f",
   "metadata": {},
   "outputs": [],
   "source": [
    "gab_data = pickle.load(open(\"../../../sumegh/GabData/Final_Posts.pkl\", \"rb\"))"
   ]
  },
  {
   "cell_type": "code",
   "execution_count": 12,
   "id": "d9148722",
   "metadata": {},
   "outputs": [
    {
     "name": "stderr",
     "output_type": "stream",
     "text": [
      " 99%|█████████████████████████████████████████████████████████████████████████████████████████████████████████████████████████████████████████████████████████▋ | 8964657/9040700 [37:17<00:20, 3784.18it/s]IOStream.flush timed out\n",
      "100%|███████████████████████████████████████████████████████████████████████████████████████████████████████████████████████████████████████████████████████████| 9040700/9040700 [46:52<00:00, 3214.21it/s]\n"
     ]
    }
   ],
   "source": [
    "post_id_2_text = dict()\n",
    "for post_id in tqdm(all_post_ids):\n",
    "    text = gab_data[post_id]['post_body']\n",
    "    tokens = ek_extra_preprocess(text, {'include_special': False, 'bert_tokens': False}, None)\n",
    "    post_id_2_text[post_id] = ' '.join(tokens)"
   ]
  },
  {
   "cell_type": "code",
   "execution_count": null,
   "id": "354f279d",
   "metadata": {},
   "outputs": [],
   "source": [
    "pickle.dump(post_id_2_text, open(\"../../data/non-graph/posts_id_2_text.pkl\", \"wb\"))"
   ]
  }
 ],
 "metadata": {
  "kernelspec": {
   "display_name": "Python [conda env:py38] *",
   "language": "python",
   "name": "conda-env-py38-py"
  },
  "language_info": {
   "codemirror_mode": {
    "name": "ipython",
    "version": 3
   },
   "file_extension": ".py",
   "mimetype": "text/x-python",
   "name": "python",
   "nbconvert_exporter": "python",
   "pygments_lexer": "ipython3",
   "version": "3.8.0"
  }
 },
 "nbformat": 4,
 "nbformat_minor": 5
}
